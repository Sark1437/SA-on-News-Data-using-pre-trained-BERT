{
  "cells": [
    {
      "cell_type": "code",
      "execution_count": null,
      "id": "bc932a6c",
      "metadata": {
        "colab": {
          "base_uri": "https://localhost:8080/",
          "height": 468
        },
        "id": "bc932a6c",
        "outputId": "5a85f35c-ca8f-447b-f5dc-4d41b881afd3"
      },
      "outputs": [
        {
          "output_type": "display_data",
          "data": {
            "application/javascript": [
              "IPython.notebook.set_autosave_interval(0)"
            ]
          },
          "metadata": {}
        },
        {
          "output_type": "stream",
          "name": "stdout",
          "text": [
            "Autosave disabled\n",
            "Looking in indexes: https://pypi.org/simple, https://us-python.pkg.dev/colab-wheels/public/simple/\n",
            "Collecting transformers\n",
            "  Downloading transformers-4.24.0-py3-none-any.whl (5.5 MB)\n",
            "\u001b[K     |████████████████████████████████| 5.5 MB 34.3 MB/s \n",
            "\u001b[?25hRequirement already satisfied: requests in /usr/local/lib/python3.8/dist-packages (from transformers) (2.23.0)\n",
            "Requirement already satisfied: filelock in /usr/local/lib/python3.8/dist-packages (from transformers) (3.8.0)\n",
            "Requirement already satisfied: packaging>=20.0 in /usr/local/lib/python3.8/dist-packages (from transformers) (21.3)\n",
            "Requirement already satisfied: tqdm>=4.27 in /usr/local/lib/python3.8/dist-packages (from transformers) (4.64.1)\n",
            "Requirement already satisfied: numpy>=1.17 in /usr/local/lib/python3.8/dist-packages (from transformers) (1.21.6)\n",
            "Collecting huggingface-hub<1.0,>=0.10.0\n",
            "  Downloading huggingface_hub-0.11.1-py3-none-any.whl (182 kB)\n",
            "\u001b[K     |████████████████████████████████| 182 kB 66.9 MB/s \n",
            "\u001b[?25hCollecting tokenizers!=0.11.3,<0.14,>=0.11.1\n",
            "  Downloading tokenizers-0.13.2-cp38-cp38-manylinux_2_17_x86_64.manylinux2014_x86_64.whl (7.6 MB)\n",
            "\u001b[K     |████████████████████████████████| 7.6 MB 62.9 MB/s \n",
            "\u001b[?25hRequirement already satisfied: pyyaml>=5.1 in /usr/local/lib/python3.8/dist-packages (from transformers) (6.0)\n",
            "Requirement already satisfied: regex!=2019.12.17 in /usr/local/lib/python3.8/dist-packages (from transformers) (2022.6.2)\n",
            "Requirement already satisfied: typing-extensions>=3.7.4.3 in /usr/local/lib/python3.8/dist-packages (from huggingface-hub<1.0,>=0.10.0->transformers) (4.1.1)\n",
            "Requirement already satisfied: pyparsing!=3.0.5,>=2.0.2 in /usr/local/lib/python3.8/dist-packages (from packaging>=20.0->transformers) (3.0.9)\n",
            "Requirement already satisfied: chardet<4,>=3.0.2 in /usr/local/lib/python3.8/dist-packages (from requests->transformers) (3.0.4)\n",
            "Requirement already satisfied: certifi>=2017.4.17 in /usr/local/lib/python3.8/dist-packages (from requests->transformers) (2022.9.24)\n",
            "Requirement already satisfied: idna<3,>=2.5 in /usr/local/lib/python3.8/dist-packages (from requests->transformers) (2.10)\n",
            "Requirement already satisfied: urllib3!=1.25.0,!=1.25.1,<1.26,>=1.21.1 in /usr/local/lib/python3.8/dist-packages (from requests->transformers) (1.24.3)\n",
            "Installing collected packages: tokenizers, huggingface-hub, transformers\n",
            "Successfully installed huggingface-hub-0.11.1 tokenizers-0.13.2 transformers-4.24.0\n"
          ]
        }
      ],
      "source": [
        "%autosave 0\n",
        "import torch\n",
        "import torch.nn as nn\n",
        "!pip install transformers\n",
        "import transformers\n",
        "from transformers import BertModel, BertForMaskedLM\n",
        "from torch.utils.data import DataLoader, TensorDataset\n",
        "import numpy as np\n",
        "from string import punctuation\n",
        "torch.manual_seed(1)\n",
        "import random; random.seed(1)\n",
        "from sklearn.model_selection import StratifiedKFold, train_test_split\n",
        "from sklearn import metrics\n",
        "torch.random.manual_seed(1)\n",
        "import matplotlib.pyplot as mat"
      ]
    },
    {
      "cell_type": "code",
      "execution_count": null,
      "id": "089daffe",
      "metadata": {
        "colab": {
          "base_uri": "https://localhost:8080/"
        },
        "id": "089daffe",
        "outputId": "404d2df6-6dae-4933-a915-4ebd279b5237"
      },
      "outputs": [
        {
          "output_type": "execute_result",
          "data": {
            "text/plain": [
              "True"
            ]
          },
          "metadata": {},
          "execution_count": 2
        }
      ],
      "source": [
        "torch.cuda.is_available()"
      ]
    },
    {
      "cell_type": "code",
      "execution_count": null,
      "id": "b0a9c919",
      "metadata": {
        "id": "b0a9c919"
      },
      "outputs": [],
      "source": [
        "if torch.cuda.is_available():  \n",
        "  device = torch.device(\"cuda\")\n",
        "else:  \n",
        "  device = torch.device(\"cpu\")"
      ]
    },
    {
      "cell_type": "code",
      "execution_count": null,
      "id": "e997ca6e",
      "metadata": {
        "id": "e997ca6e"
      },
      "outputs": [],
      "source": [
        "#Corpus\n",
        "file = open('/content/Sentences_75Agree.txt',encoding=\"ISO-8859-1\")\n",
        "file=file.readlines()\n",
        "corpus=file"
      ]
    },
    {
      "cell_type": "code",
      "source": [
        "len(corpus)"
      ],
      "metadata": {
        "colab": {
          "base_uri": "https://localhost:8080/"
        },
        "id": "m4MfdNUwCOyM",
        "outputId": "67fdfe0e-57d0-48ea-f1ca-cfb401b2fe79"
      },
      "id": "m4MfdNUwCOyM",
      "execution_count": null,
      "outputs": [
        {
          "output_type": "execute_result",
          "data": {
            "text/plain": [
              "3453"
            ]
          },
          "metadata": {},
          "execution_count": 5
        }
      ]
    },
    {
      "cell_type": "code",
      "execution_count": null,
      "id": "251bd60e",
      "metadata": {
        "id": "251bd60e",
        "colab": {
          "base_uri": "https://localhost:8080/",
          "height": 113,
          "referenced_widgets": [
            "a69553085e064f5986c499c9033e6747",
            "3a3415ecb04f4ceab707acf06089b827",
            "93d8a561ae384fc7a585b60f30171cd0",
            "9e28f05788344158be771a3b3ce04c9e",
            "ba82a4e2d5c844acac61aecf4164f432",
            "e821c3858b224385a9df14279a18158d",
            "86d7b02dcc504185b6fed5f8a06f625a",
            "47b3dfb954944856813a71f3e411b8ee",
            "be1b82ffbc6042eab4db68b2ec8f8d56",
            "1d42cb4359754903aa5284061899a395",
            "d0f73ea47c9b4f7bba780fe2f2153e93",
            "25c6d919f49f4bec9ba3fa39d1183a02",
            "1bba24274464454c8494c97b4b3dd4ac",
            "edba4289847e40a381cc4fa256ff2c02",
            "6d8c02bbd24643f4a126a82a1875ffcd",
            "273aeee34398485093aaee7ad2af6bbf",
            "044b401cb0b94167af6546ed3b7003ce",
            "37746d2f10754dad8d8aa9944923519e",
            "698c8fe986b44f0aae24cad2d48247a1",
            "01a9863b7d01408cbc7834c4756bdbcd",
            "d4be39272f284b17bd013821f81966ba",
            "fee90f065da6480f8f89eeb3f48d7577",
            "ef83d59f4a364a529277678ff3f6c096",
            "8e08010ae20f4b188b60c5b58a2d2ec0",
            "cd0df3094a3a47c7a4cbb30df0714a22",
            "3b8836ef26dc450db11ae5c2e71e03ba",
            "6e68f4f60ef54fe8a0b41e85f5d60088",
            "abdef5b07b4f4a4a905b888a6b9861b7",
            "ab19d1a4f0f747a381daa45c37a87e97",
            "68f3bafcea6e4a5490707d5799a6caa6",
            "079d1911ad2341728c8927048a32c3ba",
            "e6bd7d41956c40c2a76658f24d520a2b",
            "ed702093c8f14182a3a9314c6aef2aa4"
          ]
        },
        "outputId": "ac2f14ad-d0a8-4ac8-c4ce-21b59937348b"
      },
      "outputs": [
        {
          "output_type": "display_data",
          "data": {
            "text/plain": [
              "Downloading:   0%|          | 0.00/232k [00:00<?, ?B/s]"
            ],
            "application/vnd.jupyter.widget-view+json": {
              "version_major": 2,
              "version_minor": 0,
              "model_id": "a69553085e064f5986c499c9033e6747"
            }
          },
          "metadata": {}
        },
        {
          "output_type": "display_data",
          "data": {
            "text/plain": [
              "Downloading:   0%|          | 0.00/28.0 [00:00<?, ?B/s]"
            ],
            "application/vnd.jupyter.widget-view+json": {
              "version_major": 2,
              "version_minor": 0,
              "model_id": "25c6d919f49f4bec9ba3fa39d1183a02"
            }
          },
          "metadata": {}
        },
        {
          "output_type": "display_data",
          "data": {
            "text/plain": [
              "Downloading:   0%|          | 0.00/570 [00:00<?, ?B/s]"
            ],
            "application/vnd.jupyter.widget-view+json": {
              "version_major": 2,
              "version_minor": 0,
              "model_id": "ef83d59f4a364a529277678ff3f6c096"
            }
          },
          "metadata": {}
        }
      ],
      "source": [
        "tokenizer = transformers.BertTokenizer.from_pretrained('bert-base-uncased')"
      ]
    },
    {
      "cell_type": "code",
      "execution_count": null,
      "id": "6bdf4fd0",
      "metadata": {
        "id": "6bdf4fd0"
      },
      "outputs": [],
      "source": [
        "#Tokenize and lower casing\n",
        "def preprocess_sentence(sentence):\n",
        "  return tokenizer.tokenize(sentence)\n",
        "\n",
        "sentences=[]\n",
        "sentences1 = [preprocess_sentence(sent) for sent in corpus]\n",
        "for i in range(len(sentences1)):\n",
        "    sentences.append(sentences1[i][0:len(sentences1[i])-2])"
      ]
    },
    {
      "cell_type": "code",
      "execution_count": null,
      "id": "539172b1",
      "metadata": {
        "colab": {
          "base_uri": "https://localhost:8080/"
        },
        "id": "539172b1",
        "outputId": "11b302bb-6473-47e3-e6fa-78e95dc760a6"
      },
      "outputs": [
        {
          "output_type": "execute_result",
          "data": {
            "text/plain": [
              "148"
            ]
          },
          "metadata": {},
          "execution_count": 8
        }
      ],
      "source": [
        "lengths=[len(i) for i in sentences]\n",
        "np.max(lengths)"
      ]
    },
    {
      "cell_type": "code",
      "execution_count": null,
      "id": "0f97b829",
      "metadata": {
        "id": "0f97b829",
        "scrolled": true
      },
      "outputs": [],
      "source": [
        "#Labelling data with a response\n",
        "y1=[]; y=[]\n",
        "for i in range(len(sentences1)):\n",
        "    y1.append(sentences1[i][len(sentences1[i])-1])\n",
        "\n",
        "for i in y1:\n",
        "    if i =='positive':\n",
        "        i=[1,0,0]\n",
        "    elif i=='neutral':\n",
        "        i=[0,1,0]\n",
        "    else: i=[0,0,1]\n",
        "    y.append(i)"
      ]
    },
    {
      "cell_type": "code",
      "execution_count": null,
      "id": "8cb8e6f5",
      "metadata": {
        "colab": {
          "base_uri": "https://localhost:8080/"
        },
        "id": "8cb8e6f5",
        "outputId": "0fe2cd98-5d93-4999-edea-b6af079abfb8",
        "scrolled": true
      },
      "outputs": [
        {
          "output_type": "stream",
          "name": "stderr",
          "text": [
            "/usr/local/lib/python3.8/dist-packages/transformers/tokenization_utils_base.py:2304: FutureWarning: The `pad_to_max_length` argument is deprecated and will be removed in a future version, use `padding=True` or `padding='longest'` to pad to the longest sequence in the batch, or use `padding='max_length'` to pad to a max length. In this case, you can give a specific length with `max_length` (e.g. `max_length=45`) or leave max_length to None to pad to the maximal input size of the model (e.g. 512 for Bert).\n",
            "  warnings.warn(\n"
          ]
        }
      ],
      "source": [
        "#Converting tokens to ids. Note that [CLS] [SEP] are included into the max length.\n",
        "x=[tokenizer.encode_plus(sent, max_length=126+2,add_special_tokens=True,pad_to_max_length=True,\n",
        "                         return_attention_mask=True,return_token_type_ids=False, truncation=True) for sent in sentences]"
      ]
    },
    {
      "cell_type": "markdown",
      "id": "6f4faddd",
      "metadata": {
        "id": "6f4faddd"
      },
      "source": [
        "Note that attention_mask returns 1 for tokens of interest and 0 for padding"
      ]
    },
    {
      "cell_type": "code",
      "execution_count": null,
      "id": "b39d812e",
      "metadata": {
        "id": "b39d812e"
      },
      "outputs": [],
      "source": [
        "x_input = [i['input_ids'] for i in x]\n",
        "x_mask = [i['attention_mask'] for i in x]"
      ]
    },
    {
      "cell_type": "code",
      "execution_count": null,
      "id": "cbe3de38",
      "metadata": {
        "id": "cbe3de38"
      },
      "outputs": [],
      "source": [
        "# Train/test/validation splitting\n",
        "train_x_input, test_x_input, train_x_mask, test_x_mask, train_y, test_y = train_test_split(x_input,\n",
        "                                                                                           x_mask,\n",
        "                                                                                           y,\n",
        "                                                                                           test_size=0.2,\n",
        "                                                                                           random_state=42)\n",
        "#Further split for validation\n",
        "val_x_input, test_x_input, val_x_mask, test_x_mask, val_y, test_y = train_test_split(test_x_input,\n",
        "                                                                                           test_x_mask,\n",
        "                                                                                           test_y,\n",
        "                                                                                           test_size=0.5,\n",
        "                                                                                           random_state=42)"
      ]
    },
    {
      "cell_type": "markdown",
      "id": "24763215",
      "metadata": {
        "id": "24763215"
      },
      "source": [
        "# Neural network architecture and optimizer"
      ]
    },
    {
      "cell_type": "code",
      "execution_count": null,
      "id": "4cef0820",
      "metadata": {
        "id": "4cef0820"
      },
      "outputs": [],
      "source": [
        "class NeuralNet(nn.Module):\n",
        "    def __init__(self):\n",
        "        super(NeuralNet, self).__init__()\n",
        "        self.bert = BertModel.from_pretrained('bert-base-uncased',return_dict=False)\n",
        "        self.l1 = nn.Linear(self.bert.config.hidden_size,3)\n",
        "        self.prob=nn.Softmax(dim=1)\n",
        "    \n",
        "    # B = batch_size, L = sentence_length, D = embed_dim, H = hidden_size\n",
        "    def forward(self, input_ids, attention_mask):\n",
        "        _, pooled_output = self.bert(input_ids=input_ids, attention_mask=attention_mask) #Inputs () outputs () \n",
        "        out=self.l1(pooled_output) #Inputs (768) outputs (3)\n",
        "        out=self.prob(out)\n",
        "        return out"
      ]
    },
    {
      "cell_type": "code",
      "execution_count": null,
      "id": "65113fc4",
      "metadata": {
        "colab": {
          "base_uri": "https://localhost:8080/",
          "height": 121,
          "referenced_widgets": [
            "6b0f4cc954cd48d594137d03934a7adb",
            "1f598f9702eb4ec2b8205e21aea28c0d",
            "22dd7733fb6c4ae2ba29a9e4f883a892",
            "0e296e62e68740ce82e448ba5f0633bd",
            "cc28aec6366047f8a9d5594db0c76ed0",
            "14811c541f744fd49dda02d372ab5e0b",
            "1506b4e32b484768b7fbcae1ea6811fd",
            "18984adf234d40feb8eb80857f59bfeb",
            "6d84207633b640afa5a02671d4dfe4d3",
            "66616055d4ee4e46b290a9d6f2240821",
            "25d1ad63452c443f9e3d45dcba325d9b"
          ]
        },
        "id": "65113fc4",
        "outputId": "96784953-0671-4382-b2d9-82a1247d4b11",
        "scrolled": true
      },
      "outputs": [
        {
          "output_type": "display_data",
          "data": {
            "text/plain": [
              "Downloading:   0%|          | 0.00/440M [00:00<?, ?B/s]"
            ],
            "application/vnd.jupyter.widget-view+json": {
              "version_major": 2,
              "version_minor": 0,
              "model_id": "6b0f4cc954cd48d594137d03934a7adb"
            }
          },
          "metadata": {}
        },
        {
          "output_type": "stream",
          "name": "stderr",
          "text": [
            "Some weights of the model checkpoint at bert-base-uncased were not used when initializing BertModel: ['cls.seq_relationship.bias', 'cls.predictions.transform.LayerNorm.weight', 'cls.seq_relationship.weight', 'cls.predictions.bias', 'cls.predictions.transform.LayerNorm.bias', 'cls.predictions.transform.dense.bias', 'cls.predictions.decoder.weight', 'cls.predictions.transform.dense.weight']\n",
            "- This IS expected if you are initializing BertModel from the checkpoint of a model trained on another task or with another architecture (e.g. initializing a BertForSequenceClassification model from a BertForPreTraining model).\n",
            "- This IS NOT expected if you are initializing BertModel from the checkpoint of a model that you expect to be exactly identical (initializing a BertForSequenceClassification model from a BertForSequenceClassification model).\n"
          ]
        }
      ],
      "source": [
        "# Initialize a model\n",
        "model = NeuralNet()\n",
        "model = model.to(device)"
      ]
    },
    {
      "cell_type": "code",
      "execution_count": null,
      "id": "938d2f12",
      "metadata": {
        "id": "938d2f12"
      },
      "outputs": [],
      "source": [
        "# Define an optimizer\n",
        "learning_rate = 0.01\n",
        "optimizer = torch.optim.SGD(model.parameters(), lr=learning_rate)\n",
        "\n",
        "# Define a loss function, which computes to cross entropy loss\n",
        "def loss_function(batch_outputs, batch_labels):   \n",
        "    # Calculate the loss for the whole batch\n",
        "    celoss = nn.CrossEntropyLoss()\n",
        "    loss = celoss(batch_outputs, batch_labels.float())\n",
        "\n",
        "    # Rescale the loss. Already accounted for in CEloss\n",
        "    #loss = loss / batch_size\n",
        "\n",
        "    return loss"
      ]
    },
    {
      "cell_type": "code",
      "execution_count": null,
      "id": "1d91cb18",
      "metadata": {
        "id": "1d91cb18"
      },
      "outputs": [],
      "source": [
        "# Function that will be called in every epoch\n",
        "def train_epoch(loss_function, optimizer, model, loader):\n",
        "  \n",
        "  model.train()\n",
        "  # Keep track of the total loss for the batch\n",
        "  total_loss_train = 0\n",
        "  total_loss_test = 0\n",
        "  for batch_inputs, batch_mask, batch_labels in loader:\n",
        "    # Clear the gradients\n",
        "    optimizer.zero_grad()\n",
        "    # Run a forward pass\n",
        "    outputs = model.forward(batch_inputs, batch_mask)\n",
        "    # Compute the batch loss\n",
        "    loss = loss_function(outputs, batch_labels)\n",
        "    # Calculate the gradients\n",
        "    loss.backward()\n",
        "    #Gradient clipping\n",
        "    torch.nn.utils.clip_grad_norm_(model.parameters(),max_norm=1)\n",
        "    # Update the parameteres\n",
        "    optimizer.step()\n",
        "    total_loss_train += loss.item()/len(loader) #one full epoch loss\n",
        "\n",
        "  model.eval() \n",
        "  global pred, true\n",
        "  pred=[]; true=[] \n",
        "  for test_instance, test_mask, labels in test_loader:\n",
        "    # Run a forward pass\n",
        "    outputs = model.forward(test_instance, test_mask)\n",
        "    # Compute the batch loss\n",
        "    loss = loss_function(outputs, labels)\n",
        "    total_loss_test += loss.item()/len(test_loader)\n",
        "    #Compute accuracy\n",
        "    pred_temp = [0,0,0]\n",
        "    pred_temp[np.argmax((outputs.detach().tolist())[0])]=1\n",
        "    pred.append(pred_temp)\n",
        "    true_temp = labels.tolist()[0]\n",
        "    true.append(true_temp)\n",
        "    accuracy = metrics.accuracy_score(true,pred)*100\n",
        "    f1=metrics.f1_score(true,pred,average=\"macro\")*100\n",
        "\n",
        "  return total_loss_train, total_loss_test, accuracy, f1\n",
        "\n",
        "\n",
        "# Function containing our main training loop\n",
        "def train(loss_function, optimizer, model, loader, num_epochs):\n",
        "  global history\n",
        "  history=[]\n",
        "  # Iterate through each epoch and call our train_epoch function\n",
        "  for epoch in range(num_epochs):\n",
        "    epoch_loss = train_epoch(loss_function, optimizer, model, loader)\n",
        "    if epoch % 1 == 0: print('Epoch:',epoch+1,'Losses:', epoch_loss[0:2],'Test Accuracy:',epoch_loss[2], 'F1:', epoch_loss[3])\n",
        "    history.append(epoch_loss)\n",
        "    \n",
        "  history=np.array(history)\n",
        "  mat.figure(figsize=(10,5))\n",
        "  mat.plot(history[:,0], 'b-', label='Training Loss')\n",
        "  mat.plot(history[:,1], 'r-', label='Test Loss')\n",
        "  mat.title(\"Training/Test Loss\")\n",
        "  mat.xlabel(\"Epochs\")\n",
        "  mat.ylabel(\"Loss\")\n",
        "  mat.legend(loc=\"upper right\") \n",
        "  mat.show()\n",
        "\n",
        "  mat.figure(figsize=(10,5))\n",
        "  mat.plot(history[:,2], 'o-', label='Test Accuracy')\n",
        "  mat.plot(history[:,3], 'p-', label='F1 Score')\n",
        "  mat.title(\"Training/Validation Loss\")\n",
        "  mat.xlabel(\"Epochs\")\n",
        "  mat.ylabel(\"Loss\")\n",
        "  mat.legend(loc=\"upper right\") \n",
        "  mat.show()\n",
        "        "
      ]
    },
    {
      "cell_type": "markdown",
      "id": "e1e01600",
      "metadata": {
        "id": "e1e01600"
      },
      "source": [
        "# This part is for the tuning of hyperparameters with CV"
      ]
    },
    {
      "cell_type": "code",
      "execution_count": null,
      "id": "c8cebb97",
      "metadata": {
        "id": "c8cebb97"
      },
      "outputs": [],
      "source": [
        "random.seed(1)\n",
        "torch.random.manual_seed(1)\n",
        "#Hyperparameters\n",
        "#Don't forget to change sentence length as an input also. Currently using 80\n",
        "batch_size = 32\n",
        "num_epochs = 20\n",
        "learning_rate=0.00001"
      ]
    },
    {
      "cell_type": "code",
      "source": [
        "%%time\n",
        "#Tuning on Validation set\n",
        "\n",
        "#Rebalancing train and test data to account for selected batch_size\n",
        "train_size = len(train_x_input)-len(train_x_input)%batch_size # Must be a multiple of the batch size\n",
        "train_size=int(train_size)\n",
        "temp = list(range(0,len(train_x_input)))\n",
        "train_seq = random.sample(temp,train_size) # Must be a multiple of the batch size\n",
        "\n",
        "[temp.remove(i) for i in train_seq]\n",
        "val_seq = temp\n",
        "\n",
        "train_x_input1 = np.array(train_x_input)[train_seq]\n",
        "train_x_mask1 = np.array(train_x_mask)[train_seq]\n",
        "train_y1 = np.array(train_y)[train_seq]\n",
        "val_x_input1 = np.append(np.array(train_x_input)[val_seq], val_x_input, axis=0)\n",
        "val_x_mask1 = np.append(np.array(train_x_mask)[val_seq], val_x_mask, axis=0)\n",
        "val_y1 = np.append(np.array(train_y)[val_seq], val_y, axis=0)\n",
        "\n",
        "#Create Tensor training Dataset and dataloader\n",
        "train_data=TensorDataset(torch.LongTensor(train_x_input1).to(device), torch.LongTensor(train_x_mask1).to(device), torch.LongTensor(train_y1).to(device))\n",
        "loader=DataLoader(train_data, batch_size=batch_size, shuffle=True)\n",
        "\n",
        "#Create a val loader\n",
        "test_data = TensorDataset(torch.LongTensor(val_x_input1).to(device), torch.LongTensor(val_x_mask1).to(device), torch.LongTensor(val_y1).to(device))\n",
        "test_loader = DataLoader(test_data, batch_size=1, shuffle=False)\n",
        "\n",
        "#Initializing model\n",
        "model = NeuralNet()\n",
        "model = model.to(device)\n",
        "\n",
        "# Define an optimizer\n",
        "optimizer = torch.optim.Adam(model.parameters(), lr=learning_rate)\n",
        "\n",
        "#Train model for kth CV\n",
        "train(loss_function, optimizer, model, loader, num_epochs=num_epochs)\n",
        "    "
      ],
      "metadata": {
        "colab": {
          "base_uri": "https://localhost:8080/",
          "height": 1000
        },
        "id": "lUvl6idK-7er",
        "outputId": "4ab2e3d4-241e-456f-e9d7-e37c26c48b5c"
      },
      "id": "lUvl6idK-7er",
      "execution_count": null,
      "outputs": [
        {
          "output_type": "stream",
          "name": "stderr",
          "text": [
            "Some weights of the model checkpoint at bert-base-uncased were not used when initializing BertModel: ['cls.seq_relationship.weight', 'cls.predictions.transform.LayerNorm.bias', 'cls.seq_relationship.bias', 'cls.predictions.transform.dense.bias', 'cls.predictions.transform.dense.weight', 'cls.predictions.decoder.weight', 'cls.predictions.bias', 'cls.predictions.transform.LayerNorm.weight']\n",
            "- This IS expected if you are initializing BertModel from the checkpoint of a model trained on another task or with another architecture (e.g. initializing a BertForSequenceClassification model from a BertForPreTraining model).\n",
            "- This IS NOT expected if you are initializing BertModel from the checkpoint of a model that you expect to be exactly identical (initializing a BertForSequenceClassification model from a BertForSequenceClassification model).\n",
            "/usr/local/lib/python3.8/dist-packages/sklearn/metrics/_classification.py:1580: UndefinedMetricWarning: F-score is ill-defined and being set to 0.0 in labels with no true nor predicted samples. Use `zero_division` parameter to control this behavior.\n",
            "  _warn_prf(average, \"true nor predicted\", \"F-score is\", len(true_sum))\n",
            "/usr/local/lib/python3.8/dist-packages/sklearn/metrics/_classification.py:1580: UndefinedMetricWarning: F-score is ill-defined and being set to 0.0 in labels with no true nor predicted samples. Use `zero_division` parameter to control this behavior.\n",
            "  _warn_prf(average, \"true nor predicted\", \"F-score is\", len(true_sum))\n",
            "/usr/local/lib/python3.8/dist-packages/sklearn/metrics/_classification.py:1580: UndefinedMetricWarning: F-score is ill-defined and being set to 0.0 in labels with no true nor predicted samples. Use `zero_division` parameter to control this behavior.\n",
            "  _warn_prf(average, \"true nor predicted\", \"F-score is\", len(true_sum))\n"
          ]
        },
        {
          "output_type": "stream",
          "name": "stdout",
          "text": [
            "Epoch: 1 Losses: (0.9126319122868913, 0.7835435383756397) Test Accuracy: 79.43661971830987 F1: 53.08801054808067\n"
          ]
        },
        {
          "output_type": "stream",
          "name": "stderr",
          "text": [
            "/usr/local/lib/python3.8/dist-packages/sklearn/metrics/_classification.py:1580: UndefinedMetricWarning: F-score is ill-defined and being set to 0.0 in labels with no true nor predicted samples. Use `zero_division` parameter to control this behavior.\n",
            "  _warn_prf(average, \"true nor predicted\", \"F-score is\", len(true_sum))\n",
            "/usr/local/lib/python3.8/dist-packages/sklearn/metrics/_classification.py:1580: UndefinedMetricWarning: F-score is ill-defined and being set to 0.0 in labels with no true nor predicted samples. Use `zero_division` parameter to control this behavior.\n",
            "  _warn_prf(average, \"true nor predicted\", \"F-score is\", len(true_sum))\n",
            "/usr/local/lib/python3.8/dist-packages/sklearn/metrics/_classification.py:1580: UndefinedMetricWarning: F-score is ill-defined and being set to 0.0 in labels with no true nor predicted samples. Use `zero_division` parameter to control this behavior.\n",
            "  _warn_prf(average, \"true nor predicted\", \"F-score is\", len(true_sum))\n"
          ]
        },
        {
          "output_type": "stream",
          "name": "stdout",
          "text": [
            "Epoch: 2 Losses: (0.7293835067471793, 0.6637089111435571) Test Accuracy: 90.14084507042254 F1: 88.67784992784993\n"
          ]
        },
        {
          "output_type": "stream",
          "name": "stderr",
          "text": [
            "/usr/local/lib/python3.8/dist-packages/sklearn/metrics/_classification.py:1580: UndefinedMetricWarning: F-score is ill-defined and being set to 0.0 in labels with no true nor predicted samples. Use `zero_division` parameter to control this behavior.\n",
            "  _warn_prf(average, \"true nor predicted\", \"F-score is\", len(true_sum))\n",
            "/usr/local/lib/python3.8/dist-packages/sklearn/metrics/_classification.py:1580: UndefinedMetricWarning: F-score is ill-defined and being set to 0.0 in labels with no true nor predicted samples. Use `zero_division` parameter to control this behavior.\n",
            "  _warn_prf(average, \"true nor predicted\", \"F-score is\", len(true_sum))\n",
            "/usr/local/lib/python3.8/dist-packages/sklearn/metrics/_classification.py:1580: UndefinedMetricWarning: F-score is ill-defined and being set to 0.0 in labels with no true nor predicted samples. Use `zero_division` parameter to control this behavior.\n",
            "  _warn_prf(average, \"true nor predicted\", \"F-score is\", len(true_sum))\n"
          ]
        },
        {
          "output_type": "stream",
          "name": "stdout",
          "text": [
            "Epoch: 3 Losses: (0.6220785420994427, 0.6363904905990815) Test Accuracy: 91.83098591549296 F1: 90.49248952804173\n"
          ]
        },
        {
          "output_type": "stream",
          "name": "stderr",
          "text": [
            "/usr/local/lib/python3.8/dist-packages/sklearn/metrics/_classification.py:1580: UndefinedMetricWarning: F-score is ill-defined and being set to 0.0 in labels with no true nor predicted samples. Use `zero_division` parameter to control this behavior.\n",
            "  _warn_prf(average, \"true nor predicted\", \"F-score is\", len(true_sum))\n",
            "/usr/local/lib/python3.8/dist-packages/sklearn/metrics/_classification.py:1580: UndefinedMetricWarning: F-score is ill-defined and being set to 0.0 in labels with no true nor predicted samples. Use `zero_division` parameter to control this behavior.\n",
            "  _warn_prf(average, \"true nor predicted\", \"F-score is\", len(true_sum))\n",
            "/usr/local/lib/python3.8/dist-packages/sklearn/metrics/_classification.py:1580: UndefinedMetricWarning: F-score is ill-defined and being set to 0.0 in labels with no true nor predicted samples. Use `zero_division` parameter to control this behavior.\n",
            "  _warn_prf(average, \"true nor predicted\", \"F-score is\", len(true_sum))\n"
          ]
        },
        {
          "output_type": "stream",
          "name": "stdout",
          "text": [
            "Epoch: 4 Losses: (0.5923080971074658, 0.633554701402154) Test Accuracy: 92.11267605633803 F1: 89.71064121746083\n"
          ]
        },
        {
          "output_type": "stream",
          "name": "stderr",
          "text": [
            "/usr/local/lib/python3.8/dist-packages/sklearn/metrics/_classification.py:1580: UndefinedMetricWarning: F-score is ill-defined and being set to 0.0 in labels with no true nor predicted samples. Use `zero_division` parameter to control this behavior.\n",
            "  _warn_prf(average, \"true nor predicted\", \"F-score is\", len(true_sum))\n",
            "/usr/local/lib/python3.8/dist-packages/sklearn/metrics/_classification.py:1580: UndefinedMetricWarning: F-score is ill-defined and being set to 0.0 in labels with no true nor predicted samples. Use `zero_division` parameter to control this behavior.\n",
            "  _warn_prf(average, \"true nor predicted\", \"F-score is\", len(true_sum))\n",
            "/usr/local/lib/python3.8/dist-packages/sklearn/metrics/_classification.py:1580: UndefinedMetricWarning: F-score is ill-defined and being set to 0.0 in labels with no true nor predicted samples. Use `zero_division` parameter to control this behavior.\n",
            "  _warn_prf(average, \"true nor predicted\", \"F-score is\", len(true_sum))\n"
          ]
        },
        {
          "output_type": "stream",
          "name": "stdout",
          "text": [
            "Epoch: 5 Losses: (0.5852111231449041, 0.6163742317280292) Test Accuracy: 94.36619718309859 F1: 92.82522787537744\n"
          ]
        },
        {
          "output_type": "stream",
          "name": "stderr",
          "text": [
            "/usr/local/lib/python3.8/dist-packages/sklearn/metrics/_classification.py:1580: UndefinedMetricWarning: F-score is ill-defined and being set to 0.0 in labels with no true nor predicted samples. Use `zero_division` parameter to control this behavior.\n",
            "  _warn_prf(average, \"true nor predicted\", \"F-score is\", len(true_sum))\n",
            "/usr/local/lib/python3.8/dist-packages/sklearn/metrics/_classification.py:1580: UndefinedMetricWarning: F-score is ill-defined and being set to 0.0 in labels with no true nor predicted samples. Use `zero_division` parameter to control this behavior.\n",
            "  _warn_prf(average, \"true nor predicted\", \"F-score is\", len(true_sum))\n",
            "/usr/local/lib/python3.8/dist-packages/sklearn/metrics/_classification.py:1580: UndefinedMetricWarning: F-score is ill-defined and being set to 0.0 in labels with no true nor predicted samples. Use `zero_division` parameter to control this behavior.\n",
            "  _warn_prf(average, \"true nor predicted\", \"F-score is\", len(true_sum))\n"
          ]
        },
        {
          "output_type": "stream",
          "name": "stdout",
          "text": [
            "Epoch: 6 Losses: (0.57720053542492, 0.6175772515820791) Test Accuracy: 93.2394366197183 F1: 91.00118835412955\n"
          ]
        },
        {
          "output_type": "stream",
          "name": "stderr",
          "text": [
            "/usr/local/lib/python3.8/dist-packages/sklearn/metrics/_classification.py:1580: UndefinedMetricWarning: F-score is ill-defined and being set to 0.0 in labels with no true nor predicted samples. Use `zero_division` parameter to control this behavior.\n",
            "  _warn_prf(average, \"true nor predicted\", \"F-score is\", len(true_sum))\n",
            "/usr/local/lib/python3.8/dist-packages/sklearn/metrics/_classification.py:1580: UndefinedMetricWarning: F-score is ill-defined and being set to 0.0 in labels with no true nor predicted samples. Use `zero_division` parameter to control this behavior.\n",
            "  _warn_prf(average, \"true nor predicted\", \"F-score is\", len(true_sum))\n",
            "/usr/local/lib/python3.8/dist-packages/sklearn/metrics/_classification.py:1580: UndefinedMetricWarning: F-score is ill-defined and being set to 0.0 in labels with no true nor predicted samples. Use `zero_division` parameter to control this behavior.\n",
            "  _warn_prf(average, \"true nor predicted\", \"F-score is\", len(true_sum))\n"
          ]
        },
        {
          "output_type": "stream",
          "name": "stdout",
          "text": [
            "Epoch: 7 Losses: (0.5734604728776357, 0.6158409706303771) Test Accuracy: 92.95774647887323 F1: 90.38207209337537\n"
          ]
        },
        {
          "output_type": "stream",
          "name": "stderr",
          "text": [
            "/usr/local/lib/python3.8/dist-packages/sklearn/metrics/_classification.py:1580: UndefinedMetricWarning: F-score is ill-defined and being set to 0.0 in labels with no true nor predicted samples. Use `zero_division` parameter to control this behavior.\n",
            "  _warn_prf(average, \"true nor predicted\", \"F-score is\", len(true_sum))\n",
            "/usr/local/lib/python3.8/dist-packages/sklearn/metrics/_classification.py:1580: UndefinedMetricWarning: F-score is ill-defined and being set to 0.0 in labels with no true nor predicted samples. Use `zero_division` parameter to control this behavior.\n",
            "  _warn_prf(average, \"true nor predicted\", \"F-score is\", len(true_sum))\n",
            "/usr/local/lib/python3.8/dist-packages/sklearn/metrics/_classification.py:1580: UndefinedMetricWarning: F-score is ill-defined and being set to 0.0 in labels with no true nor predicted samples. Use `zero_division` parameter to control this behavior.\n",
            "  _warn_prf(average, \"true nor predicted\", \"F-score is\", len(true_sum))\n"
          ]
        },
        {
          "output_type": "stream",
          "name": "stdout",
          "text": [
            "Epoch: 8 Losses: (0.5724129330280215, 0.6325778386962246) Test Accuracy: 91.83098591549296 F1: 90.4321458009467\n"
          ]
        },
        {
          "output_type": "stream",
          "name": "stderr",
          "text": [
            "/usr/local/lib/python3.8/dist-packages/sklearn/metrics/_classification.py:1580: UndefinedMetricWarning: F-score is ill-defined and being set to 0.0 in labels with no true nor predicted samples. Use `zero_division` parameter to control this behavior.\n",
            "  _warn_prf(average, \"true nor predicted\", \"F-score is\", len(true_sum))\n",
            "/usr/local/lib/python3.8/dist-packages/sklearn/metrics/_classification.py:1580: UndefinedMetricWarning: F-score is ill-defined and being set to 0.0 in labels with no true nor predicted samples. Use `zero_division` parameter to control this behavior.\n",
            "  _warn_prf(average, \"true nor predicted\", \"F-score is\", len(true_sum))\n",
            "/usr/local/lib/python3.8/dist-packages/sklearn/metrics/_classification.py:1580: UndefinedMetricWarning: F-score is ill-defined and being set to 0.0 in labels with no true nor predicted samples. Use `zero_division` parameter to control this behavior.\n",
            "  _warn_prf(average, \"true nor predicted\", \"F-score is\", len(true_sum))\n"
          ]
        },
        {
          "output_type": "stream",
          "name": "stdout",
          "text": [
            "Epoch: 9 Losses: (0.5720273762248285, 0.608025584086566) Test Accuracy: 94.64788732394366 F1: 93.05219804816906\n"
          ]
        },
        {
          "output_type": "stream",
          "name": "stderr",
          "text": [
            "/usr/local/lib/python3.8/dist-packages/sklearn/metrics/_classification.py:1580: UndefinedMetricWarning: F-score is ill-defined and being set to 0.0 in labels with no true nor predicted samples. Use `zero_division` parameter to control this behavior.\n",
            "  _warn_prf(average, \"true nor predicted\", \"F-score is\", len(true_sum))\n",
            "/usr/local/lib/python3.8/dist-packages/sklearn/metrics/_classification.py:1580: UndefinedMetricWarning: F-score is ill-defined and being set to 0.0 in labels with no true nor predicted samples. Use `zero_division` parameter to control this behavior.\n",
            "  _warn_prf(average, \"true nor predicted\", \"F-score is\", len(true_sum))\n",
            "/usr/local/lib/python3.8/dist-packages/sklearn/metrics/_classification.py:1580: UndefinedMetricWarning: F-score is ill-defined and being set to 0.0 in labels with no true nor predicted samples. Use `zero_division` parameter to control this behavior.\n",
            "  _warn_prf(average, \"true nor predicted\", \"F-score is\", len(true_sum))\n"
          ]
        },
        {
          "output_type": "stream",
          "name": "stdout",
          "text": [
            "Epoch: 10 Losses: (0.5680451372335125, 0.6077392289336302) Test Accuracy: 94.36619718309859 F1: 92.41332905754786\n"
          ]
        },
        {
          "output_type": "stream",
          "name": "stderr",
          "text": [
            "/usr/local/lib/python3.8/dist-packages/sklearn/metrics/_classification.py:1580: UndefinedMetricWarning: F-score is ill-defined and being set to 0.0 in labels with no true nor predicted samples. Use `zero_division` parameter to control this behavior.\n",
            "  _warn_prf(average, \"true nor predicted\", \"F-score is\", len(true_sum))\n",
            "/usr/local/lib/python3.8/dist-packages/sklearn/metrics/_classification.py:1580: UndefinedMetricWarning: F-score is ill-defined and being set to 0.0 in labels with no true nor predicted samples. Use `zero_division` parameter to control this behavior.\n",
            "  _warn_prf(average, \"true nor predicted\", \"F-score is\", len(true_sum))\n",
            "/usr/local/lib/python3.8/dist-packages/sklearn/metrics/_classification.py:1580: UndefinedMetricWarning: F-score is ill-defined and being set to 0.0 in labels with no true nor predicted samples. Use `zero_division` parameter to control this behavior.\n",
            "  _warn_prf(average, \"true nor predicted\", \"F-score is\", len(true_sum))\n"
          ]
        },
        {
          "output_type": "stream",
          "name": "stdout",
          "text": [
            "Epoch: 11 Losses: (0.5673035196093625, 0.6063915277870603) Test Accuracy: 94.64788732394366 F1: 92.66534546256625\n"
          ]
        },
        {
          "output_type": "stream",
          "name": "stderr",
          "text": [
            "/usr/local/lib/python3.8/dist-packages/sklearn/metrics/_classification.py:1580: UndefinedMetricWarning: F-score is ill-defined and being set to 0.0 in labels with no true nor predicted samples. Use `zero_division` parameter to control this behavior.\n",
            "  _warn_prf(average, \"true nor predicted\", \"F-score is\", len(true_sum))\n",
            "/usr/local/lib/python3.8/dist-packages/sklearn/metrics/_classification.py:1580: UndefinedMetricWarning: F-score is ill-defined and being set to 0.0 in labels with no true nor predicted samples. Use `zero_division` parameter to control this behavior.\n",
            "  _warn_prf(average, \"true nor predicted\", \"F-score is\", len(true_sum))\n",
            "/usr/local/lib/python3.8/dist-packages/sklearn/metrics/_classification.py:1580: UndefinedMetricWarning: F-score is ill-defined and being set to 0.0 in labels with no true nor predicted samples. Use `zero_division` parameter to control this behavior.\n",
            "  _warn_prf(average, \"true nor predicted\", \"F-score is\", len(true_sum))\n"
          ]
        },
        {
          "output_type": "stream",
          "name": "stdout",
          "text": [
            "Epoch: 12 Losses: (0.5663128779378048, 0.6165715266281449) Test Accuracy: 93.2394366197183 F1: 91.53583321236435\n"
          ]
        },
        {
          "output_type": "stream",
          "name": "stderr",
          "text": [
            "/usr/local/lib/python3.8/dist-packages/sklearn/metrics/_classification.py:1580: UndefinedMetricWarning: F-score is ill-defined and being set to 0.0 in labels with no true nor predicted samples. Use `zero_division` parameter to control this behavior.\n",
            "  _warn_prf(average, \"true nor predicted\", \"F-score is\", len(true_sum))\n",
            "/usr/local/lib/python3.8/dist-packages/sklearn/metrics/_classification.py:1580: UndefinedMetricWarning: F-score is ill-defined and being set to 0.0 in labels with no true nor predicted samples. Use `zero_division` parameter to control this behavior.\n",
            "  _warn_prf(average, \"true nor predicted\", \"F-score is\", len(true_sum))\n",
            "/usr/local/lib/python3.8/dist-packages/sklearn/metrics/_classification.py:1580: UndefinedMetricWarning: F-score is ill-defined and being set to 0.0 in labels with no true nor predicted samples. Use `zero_division` parameter to control this behavior.\n",
            "  _warn_prf(average, \"true nor predicted\", \"F-score is\", len(true_sum))\n"
          ]
        },
        {
          "output_type": "stream",
          "name": "stdout",
          "text": [
            "Epoch: 13 Losses: (0.5652474809524627, 0.6110189629272672) Test Accuracy: 94.08450704225352 F1: 92.18542308609216\n"
          ]
        },
        {
          "output_type": "stream",
          "name": "stderr",
          "text": [
            "/usr/local/lib/python3.8/dist-packages/sklearn/metrics/_classification.py:1580: UndefinedMetricWarning: F-score is ill-defined and being set to 0.0 in labels with no true nor predicted samples. Use `zero_division` parameter to control this behavior.\n",
            "  _warn_prf(average, \"true nor predicted\", \"F-score is\", len(true_sum))\n",
            "/usr/local/lib/python3.8/dist-packages/sklearn/metrics/_classification.py:1580: UndefinedMetricWarning: F-score is ill-defined and being set to 0.0 in labels with no true nor predicted samples. Use `zero_division` parameter to control this behavior.\n",
            "  _warn_prf(average, \"true nor predicted\", \"F-score is\", len(true_sum))\n",
            "/usr/local/lib/python3.8/dist-packages/sklearn/metrics/_classification.py:1580: UndefinedMetricWarning: F-score is ill-defined and being set to 0.0 in labels with no true nor predicted samples. Use `zero_division` parameter to control this behavior.\n",
            "  _warn_prf(average, \"true nor predicted\", \"F-score is\", len(true_sum))\n"
          ]
        },
        {
          "output_type": "stream",
          "name": "stdout",
          "text": [
            "Epoch: 14 Losses: (0.5644978645235995, 0.6265319520319006) Test Accuracy: 91.83098591549296 F1: 89.74638081467498\n"
          ]
        },
        {
          "output_type": "stream",
          "name": "stderr",
          "text": [
            "/usr/local/lib/python3.8/dist-packages/sklearn/metrics/_classification.py:1580: UndefinedMetricWarning: F-score is ill-defined and being set to 0.0 in labels with no true nor predicted samples. Use `zero_division` parameter to control this behavior.\n",
            "  _warn_prf(average, \"true nor predicted\", \"F-score is\", len(true_sum))\n",
            "/usr/local/lib/python3.8/dist-packages/sklearn/metrics/_classification.py:1580: UndefinedMetricWarning: F-score is ill-defined and being set to 0.0 in labels with no true nor predicted samples. Use `zero_division` parameter to control this behavior.\n",
            "  _warn_prf(average, \"true nor predicted\", \"F-score is\", len(true_sum))\n",
            "/usr/local/lib/python3.8/dist-packages/sklearn/metrics/_classification.py:1580: UndefinedMetricWarning: F-score is ill-defined and being set to 0.0 in labels with no true nor predicted samples. Use `zero_division` parameter to control this behavior.\n",
            "  _warn_prf(average, \"true nor predicted\", \"F-score is\", len(true_sum))\n"
          ]
        },
        {
          "output_type": "stream",
          "name": "stdout",
          "text": [
            "Epoch: 15 Losses: (0.5639723359152328, 0.6105880082493096) Test Accuracy: 94.08450704225352 F1: 91.7312129012779\n"
          ]
        },
        {
          "output_type": "stream",
          "name": "stderr",
          "text": [
            "/usr/local/lib/python3.8/dist-packages/sklearn/metrics/_classification.py:1580: UndefinedMetricWarning: F-score is ill-defined and being set to 0.0 in labels with no true nor predicted samples. Use `zero_division` parameter to control this behavior.\n",
            "  _warn_prf(average, \"true nor predicted\", \"F-score is\", len(true_sum))\n",
            "/usr/local/lib/python3.8/dist-packages/sklearn/metrics/_classification.py:1580: UndefinedMetricWarning: F-score is ill-defined and being set to 0.0 in labels with no true nor predicted samples. Use `zero_division` parameter to control this behavior.\n",
            "  _warn_prf(average, \"true nor predicted\", \"F-score is\", len(true_sum))\n",
            "/usr/local/lib/python3.8/dist-packages/sklearn/metrics/_classification.py:1580: UndefinedMetricWarning: F-score is ill-defined and being set to 0.0 in labels with no true nor predicted samples. Use `zero_division` parameter to control this behavior.\n",
            "  _warn_prf(average, \"true nor predicted\", \"F-score is\", len(true_sum))\n"
          ]
        },
        {
          "output_type": "stream",
          "name": "stdout",
          "text": [
            "Epoch: 16 Losses: (0.5636645326780717, 0.6146194689710373) Test Accuracy: 93.52112676056338 F1: 91.57174175652095\n"
          ]
        },
        {
          "output_type": "stream",
          "name": "stderr",
          "text": [
            "/usr/local/lib/python3.8/dist-packages/sklearn/metrics/_classification.py:1580: UndefinedMetricWarning: F-score is ill-defined and being set to 0.0 in labels with no true nor predicted samples. Use `zero_division` parameter to control this behavior.\n",
            "  _warn_prf(average, \"true nor predicted\", \"F-score is\", len(true_sum))\n",
            "/usr/local/lib/python3.8/dist-packages/sklearn/metrics/_classification.py:1580: UndefinedMetricWarning: F-score is ill-defined and being set to 0.0 in labels with no true nor predicted samples. Use `zero_division` parameter to control this behavior.\n",
            "  _warn_prf(average, \"true nor predicted\", \"F-score is\", len(true_sum))\n",
            "/usr/local/lib/python3.8/dist-packages/sklearn/metrics/_classification.py:1580: UndefinedMetricWarning: F-score is ill-defined and being set to 0.0 in labels with no true nor predicted samples. Use `zero_division` parameter to control this behavior.\n",
            "  _warn_prf(average, \"true nor predicted\", \"F-score is\", len(true_sum))\n"
          ]
        },
        {
          "output_type": "stream",
          "name": "stdout",
          "text": [
            "Epoch: 17 Losses: (0.5626171092654384, 0.6099684421445288) Test Accuracy: 93.80281690140845 F1: 92.15277980462294\n"
          ]
        },
        {
          "output_type": "stream",
          "name": "stderr",
          "text": [
            "/usr/local/lib/python3.8/dist-packages/sklearn/metrics/_classification.py:1580: UndefinedMetricWarning: F-score is ill-defined and being set to 0.0 in labels with no true nor predicted samples. Use `zero_division` parameter to control this behavior.\n",
            "  _warn_prf(average, \"true nor predicted\", \"F-score is\", len(true_sum))\n",
            "/usr/local/lib/python3.8/dist-packages/sklearn/metrics/_classification.py:1580: UndefinedMetricWarning: F-score is ill-defined and being set to 0.0 in labels with no true nor predicted samples. Use `zero_division` parameter to control this behavior.\n",
            "  _warn_prf(average, \"true nor predicted\", \"F-score is\", len(true_sum))\n",
            "/usr/local/lib/python3.8/dist-packages/sklearn/metrics/_classification.py:1580: UndefinedMetricWarning: F-score is ill-defined and being set to 0.0 in labels with no true nor predicted samples. Use `zero_division` parameter to control this behavior.\n",
            "  _warn_prf(average, \"true nor predicted\", \"F-score is\", len(true_sum))\n"
          ]
        },
        {
          "output_type": "stream",
          "name": "stdout",
          "text": [
            "Epoch: 18 Losses: (0.5629142086173211, 0.6113612910391582) Test Accuracy: 93.80281690140845 F1: 91.50569399272685\n"
          ]
        },
        {
          "output_type": "stream",
          "name": "stderr",
          "text": [
            "/usr/local/lib/python3.8/dist-packages/sklearn/metrics/_classification.py:1580: UndefinedMetricWarning: F-score is ill-defined and being set to 0.0 in labels with no true nor predicted samples. Use `zero_division` parameter to control this behavior.\n",
            "  _warn_prf(average, \"true nor predicted\", \"F-score is\", len(true_sum))\n",
            "/usr/local/lib/python3.8/dist-packages/sklearn/metrics/_classification.py:1580: UndefinedMetricWarning: F-score is ill-defined and being set to 0.0 in labels with no true nor predicted samples. Use `zero_division` parameter to control this behavior.\n",
            "  _warn_prf(average, \"true nor predicted\", \"F-score is\", len(true_sum))\n",
            "/usr/local/lib/python3.8/dist-packages/sklearn/metrics/_classification.py:1580: UndefinedMetricWarning: F-score is ill-defined and being set to 0.0 in labels with no true nor predicted samples. Use `zero_division` parameter to control this behavior.\n",
            "  _warn_prf(average, \"true nor predicted\", \"F-score is\", len(true_sum))\n"
          ]
        },
        {
          "output_type": "stream",
          "name": "stdout",
          "text": [
            "Epoch: 19 Losses: (0.5615319907665253, 0.6194624924323928) Test Accuracy: 92.95774647887323 F1: 89.76481484931696\n"
          ]
        },
        {
          "output_type": "stream",
          "name": "stderr",
          "text": [
            "/usr/local/lib/python3.8/dist-packages/sklearn/metrics/_classification.py:1580: UndefinedMetricWarning: F-score is ill-defined and being set to 0.0 in labels with no true nor predicted samples. Use `zero_division` parameter to control this behavior.\n",
            "  _warn_prf(average, \"true nor predicted\", \"F-score is\", len(true_sum))\n",
            "/usr/local/lib/python3.8/dist-packages/sklearn/metrics/_classification.py:1580: UndefinedMetricWarning: F-score is ill-defined and being set to 0.0 in labels with no true nor predicted samples. Use `zero_division` parameter to control this behavior.\n",
            "  _warn_prf(average, \"true nor predicted\", \"F-score is\", len(true_sum))\n",
            "/usr/local/lib/python3.8/dist-packages/sklearn/metrics/_classification.py:1580: UndefinedMetricWarning: F-score is ill-defined and being set to 0.0 in labels with no true nor predicted samples. Use `zero_division` parameter to control this behavior.\n",
            "  _warn_prf(average, \"true nor predicted\", \"F-score is\", len(true_sum))\n"
          ]
        },
        {
          "output_type": "stream",
          "name": "stdout",
          "text": [
            "Epoch: 20 Losses: (0.5617692934912305, 0.6176682277464532) Test Accuracy: 93.2394366197183 F1: 90.95022523626416\n"
          ]
        },
        {
          "output_type": "display_data",
          "data": {
            "text/plain": [
              "<Figure size 720x360 with 1 Axes>"
            ],
            "image/png": "[encoded data removed]"
          },
          "metadata": {
            "needs_background": "light"
          }
        },
        {
          "output_type": "display_data",
          "data": {
            "text/plain": [
              "<Figure size 720x360 with 1 Axes>"
            ],
            "image/png": "[encoded data removed]"
          },
          "metadata": {
            "needs_background": "light"
          }
        },
        {
          "output_type": "stream",
          "name": "stdout",
          "text": [
            "CPU times: user 18min 18s, sys: 2min 6s, total: 20min 25s\n",
            "Wall time: 20min 29s\n"
          ]
        }
      ]
    },
    {
      "cell_type": "markdown",
      "id": "2081521b",
      "metadata": {
        "id": "2081521b"
      },
      "source": [
        "# Checking results from CV"
      ]
    },
    {
      "cell_type": "code",
      "source": [
        "classes = ['Negative', 'Neutral', 'Positive']\n",
        "true1=[classes[np.argmax(i)] for i in true]\n",
        "pred1=[classes[np.argmax(i)] for i in pred]"
      ],
      "metadata": {
        "id": "cpj1RpzuGFPi"
      },
      "id": "cpj1RpzuGFPi",
      "execution_count": null,
      "outputs": []
    },
    {
      "cell_type": "code",
      "source": [
        "print(metrics.classification_report(true1,pred1))\n",
        "metrics.confusion_matrix(true1,pred1) #row is \"true\" and column is \"predicted\""
      ],
      "metadata": {
        "colab": {
          "base_uri": "https://localhost:8080/"
        },
        "id": "7i5rQv8M3wMz",
        "outputId": "c98e2479-c1db-4354-8377-749c82975d29"
      },
      "id": "7i5rQv8M3wMz",
      "execution_count": null,
      "outputs": [
        {
          "output_type": "stream",
          "name": "stdout",
          "text": [
            "              precision    recall  f1-score   support\n",
            "\n",
            "    Negative       0.88      0.92      0.90        99\n",
            "     Neutral       0.97      0.95      0.96       220\n",
            "    Positive       0.89      0.86      0.87        36\n",
            "\n",
            "    accuracy                           0.93       355\n",
            "   macro avg       0.91      0.91      0.91       355\n",
            "weighted avg       0.93      0.93      0.93       355\n",
            "\n"
          ]
        },
        {
          "output_type": "execute_result",
          "data": {
            "text/plain": [
              "array([[ 91,   5,   3],\n",
              "       [ 10, 209,   1],\n",
              "       [  3,   2,  31]])"
            ]
          },
          "metadata": {},
          "execution_count": 23
        }
      ]
    },
    {
      "cell_type": "code",
      "execution_count": null,
      "id": "d21c019b",
      "metadata": {
        "id": "d21c019b",
        "colab": {
          "base_uri": "https://localhost:8080/",
          "height": 350
        },
        "outputId": "fe7e4cff-288a-473b-f30e-dca53218beda"
      },
      "outputs": [
        {
          "output_type": "display_data",
          "data": {
            "text/plain": [
              "<Figure size 720x360 with 1 Axes>"
            ],
            "image/png": "[encoded data removed]"
          },
          "metadata": {
            "needs_background": "light"
          }
        }
      ],
      "source": [
        "  history=np.array(history)\n",
        "  mat.figure(figsize=(10,5))\n",
        "  mat.plot(history[0:18,0], 'b-', label='Training Loss')\n",
        "  mat.plot(history[0:18,1], 'r-', label='Validation Loss')\n",
        "  mat.title(\"Training/Validation Loss\")\n",
        "  mat.xlabel(\"Epochs\")\n",
        "  mat.ylabel(\"Loss\")\n",
        "  mat.legend(loc=\"upper right\") \n",
        "  mat.show()"
      ]
    },
    {
      "cell_type": "code",
      "source": [
        "  mat.figure(figsize=(10,5))\n",
        "  mat.plot(history[0:18,2], 'o-', label='Test Accuracy')\n",
        "  mat.plot(history[0:18,3], 'p-', label='F1 Score')\n",
        "  mat.title(\"Training/Validation Loss\")\n",
        "  mat.xlabel(\"Epochs\")\n",
        "  mat.ylabel(\"Loss\")\n",
        "  mat.legend(loc=\"upper right\") \n",
        "  mat.show()"
      ],
      "metadata": {
        "colab": {
          "base_uri": "https://localhost:8080/",
          "height": 350
        },
        "id": "1gKSQl1d07J6",
        "outputId": "87afa222-a942-4628-9e4a-fa299a412966"
      },
      "id": "1gKSQl1d07J6",
      "execution_count": null,
      "outputs": [
        {
          "output_type": "display_data",
          "data": {
            "text/plain": [
              "<Figure size 720x360 with 1 Axes>"
            ],
            "image/png": "[encoded data removed]"
          },
          "metadata": {
            "needs_background": "light"
          }
        }
      ]
    },
    {
      "cell_type": "code",
      "execution_count": null,
      "id": "1a002b6a",
      "metadata": {
        "id": "1a002b6a"
      },
      "outputs": [],
      "source": [
        "#Create a test loader for checking training accuracy\n",
        "test_data = TensorDataset(torch.LongTensor(train_x_input1).to(device), torch.LongTensor(train_x_mask1).to(device), torch.LongTensor(train_y1).to(device))\n",
        "test_loader = DataLoader(test_data, batch_size=1, shuffle=False)"
      ]
    },
    {
      "cell_type": "code",
      "execution_count": null,
      "id": "835c7f92",
      "metadata": {
        "id": "835c7f92",
        "colab": {
          "base_uri": "https://localhost:8080/"
        },
        "outputId": "e8c8c696-ddf7-4619-937e-4755bf59f78d"
      },
      "outputs": [
        {
          "output_type": "stream",
          "name": "stdout",
          "text": [
            "Accuracy(%):\n",
            "99.0188953488372\n",
            "\n"
          ]
        }
      ],
      "source": [
        "count=0\n",
        "for test_input, test_mask, labels in test_loader:\n",
        "  batch_size_model=1\n",
        "  outputs = model.forward(test_input, test_mask)\n",
        "  if np.argmax((outputs.detach().tolist())[0])==np.argmax(labels.tolist()[0]):\n",
        "        count=count+1\n",
        "\n",
        "print(\"Accuracy(%):\")\n",
        "print(count/len(train_y1)*100)\n",
        "print(\"\")"
      ]
    },
    {
      "cell_type": "markdown",
      "id": "7fc63f1c",
      "metadata": {
        "id": "7fc63f1c"
      },
      "source": [
        "# The rest of this if for training the final model for estimating \"generalized accuracy\""
      ]
    },
    {
      "cell_type": "code",
      "execution_count": null,
      "id": "b90e30c7",
      "metadata": {
        "id": "b90e30c7",
        "colab": {
          "base_uri": "https://localhost:8080/"
        },
        "outputId": "590e25f2-34b8-427f-d358-143b08468f78"
      },
      "outputs": [
        {
          "output_type": "stream",
          "name": "stderr",
          "text": [
            "Some weights of the model checkpoint at bert-base-uncased were not used when initializing BertModel: ['cls.seq_relationship.bias', 'cls.predictions.transform.LayerNorm.weight', 'cls.seq_relationship.weight', 'cls.predictions.bias', 'cls.predictions.transform.LayerNorm.bias', 'cls.predictions.transform.dense.bias', 'cls.predictions.decoder.weight', 'cls.predictions.transform.dense.weight']\n",
            "- This IS expected if you are initializing BertModel from the checkpoint of a model trained on another task or with another architecture (e.g. initializing a BertForSequenceClassification model from a BertForPreTraining model).\n",
            "- This IS NOT expected if you are initializing BertModel from the checkpoint of a model that you expect to be exactly identical (initializing a BertForSequenceClassification model from a BertForSequenceClassification model).\n"
          ]
        }
      ],
      "source": [
        "#Finalized hyperparameters\n",
        "batch_size=32\n",
        "learning_rate=0.00001\n",
        "num_epochs = 7\n",
        "\n",
        "#Initializing model\n",
        "model = NeuralNet()\n",
        "model = model.to(device)\n",
        "\n",
        "# Define an optimizer\n",
        "optimizer = torch.optim.Adam(model.parameters(), lr=learning_rate)"
      ]
    },
    {
      "cell_type": "code",
      "execution_count": null,
      "id": "2346cdd8",
      "metadata": {
        "id": "2346cdd8"
      },
      "outputs": [],
      "source": [
        "#Rebalancing train and test data to account for selected batch_size\n",
        "train_size = len(train_x_input)-len(train_x_input)%batch_size # Must be a multiple of the batch size\n",
        "train_size=int(train_size)\n",
        "temp = list(range(0,len(train_x_input)))\n",
        "train_seq = random.sample(temp,train_size) # Must be a multiple of the batch size\n",
        "\n",
        "train_x_input2 = np.array(train_x_input)[train_seq]\n",
        "train_x_mask2 = np.array(train_x_mask)[train_seq]\n",
        "train_y2 = np.array(train_y)[train_seq]"
      ]
    },
    {
      "cell_type": "code",
      "execution_count": null,
      "id": "be616e5f",
      "metadata": {
        "id": "be616e5f"
      },
      "outputs": [],
      "source": [
        "#create Tensor Dataset\n",
        "train_data=TensorDataset(torch.LongTensor(train_x_input2).to(device), torch.LongTensor(train_x_mask2).to(device), torch.LongTensor(train_y2).to(device))\n",
        "\n",
        "#dataloader\n",
        "loader=DataLoader(train_data, batch_size=batch_size, shuffle=True)"
      ]
    },
    {
      "cell_type": "code",
      "execution_count": null,
      "id": "c867af08",
      "metadata": {
        "id": "c867af08"
      },
      "outputs": [],
      "source": [
        "# # Printing loader information\n",
        "# counter = 0\n",
        "# for batched_x_input, batched_x_mask, batched_y in loader:\n",
        "#   print(f\"Iteration {counter}\")\n",
        "#   print(\"Batched Input:\")\n",
        "#   print(batched_x_input)\n",
        "#   print(\"Batched Mask:\")\n",
        "#   print(batched_x_mask)\n",
        "#   print(\"Batched Labels:\")\n",
        "#   print(batched_y)\n",
        "#   print(\"\")\n",
        "#   counter += 1"
      ]
    },
    {
      "cell_type": "code",
      "execution_count": null,
      "id": "1a96dd49",
      "metadata": {
        "id": "1a96dd49"
      },
      "outputs": [],
      "source": [
        "# Create a test loader\n",
        "test_data=TensorDataset(torch.LongTensor(test_x_input).to(device), torch.LongTensor(test_x_mask).to(device), torch.LongTensor(test_y).to(device))\n",
        "test_loader = DataLoader(test_data, batch_size=1, shuffle=False)"
      ]
    },
    {
      "cell_type": "code",
      "execution_count": null,
      "id": "b59fd8b2",
      "metadata": {
        "id": "b59fd8b2"
      },
      "outputs": [],
      "source": [
        "# # Printing loader information\n",
        "# counter = 0\n",
        "# for batched_x_input, batched_x_mask, batched_y in test_loader:\n",
        "#   print(f\"Iteration {counter}\")\n",
        "#   print(\"Batched Input:\")\n",
        "#   print(batched_x_input)\n",
        "#   print(\"Batched Mask:\")\n",
        "#   print(batched_x_mask)\n",
        "#   print(\"Batched Labels:\")\n",
        "#   print(batched_y)\n",
        "#   print(\"\")\n",
        "#   counter += 1"
      ]
    },
    {
      "cell_type": "code",
      "execution_count": null,
      "id": "7aa915db",
      "metadata": {
        "id": "7aa915db",
        "scrolled": true,
        "colab": {
          "base_uri": "https://localhost:8080/",
          "height": 1000
        },
        "outputId": "7e4fbc08-5729-4a44-c6a4-035d9d82046c"
      },
      "outputs": [
        {
          "output_type": "stream",
          "name": "stderr",
          "text": [
            "/usr/local/lib/python3.8/dist-packages/sklearn/metrics/_classification.py:1580: UndefinedMetricWarning: F-score is ill-defined and being set to 0.0 in labels with no true nor predicted samples. Use `zero_division` parameter to control this behavior.\n",
            "  _warn_prf(average, \"true nor predicted\", \"F-score is\", len(true_sum))\n",
            "/usr/local/lib/python3.8/dist-packages/sklearn/metrics/_classification.py:1580: UndefinedMetricWarning: F-score is ill-defined and being set to 0.0 in labels with no true nor predicted samples. Use `zero_division` parameter to control this behavior.\n",
            "  _warn_prf(average, \"true nor predicted\", \"F-score is\", len(true_sum))\n",
            "/usr/local/lib/python3.8/dist-packages/sklearn/metrics/_classification.py:1580: UndefinedMetricWarning: F-score is ill-defined and being set to 0.0 in labels with no true nor predicted samples. Use `zero_division` parameter to control this behavior.\n",
            "  _warn_prf(average, \"true nor predicted\", \"F-score is\", len(true_sum))\n",
            "/usr/local/lib/python3.8/dist-packages/sklearn/metrics/_classification.py:1580: UndefinedMetricWarning: F-score is ill-defined and being set to 0.0 in labels with no true nor predicted samples. Use `zero_division` parameter to control this behavior.\n",
            "  _warn_prf(average, \"true nor predicted\", \"F-score is\", len(true_sum))\n",
            "/usr/local/lib/python3.8/dist-packages/sklearn/metrics/_classification.py:1580: UndefinedMetricWarning: F-score is ill-defined and being set to 0.0 in labels with no true nor predicted samples. Use `zero_division` parameter to control this behavior.\n",
            "  _warn_prf(average, \"true nor predicted\", \"F-score is\", len(true_sum))\n",
            "/usr/local/lib/python3.8/dist-packages/sklearn/metrics/_classification.py:1580: UndefinedMetricWarning: F-score is ill-defined and being set to 0.0 in labels with no true nor predicted samples. Use `zero_division` parameter to control this behavior.\n",
            "  _warn_prf(average, \"true nor predicted\", \"F-score is\", len(true_sum))\n",
            "/usr/local/lib/python3.8/dist-packages/sklearn/metrics/_classification.py:1580: UndefinedMetricWarning: F-score is ill-defined and being set to 0.0 in labels with no true nor predicted samples. Use `zero_division` parameter to control this behavior.\n",
            "  _warn_prf(average, \"true nor predicted\", \"F-score is\", len(true_sum))\n",
            "/usr/local/lib/python3.8/dist-packages/sklearn/metrics/_classification.py:1580: UndefinedMetricWarning: F-score is ill-defined and being set to 0.0 in labels with no true nor predicted samples. Use `zero_division` parameter to control this behavior.\n",
            "  _warn_prf(average, \"true nor predicted\", \"F-score is\", len(true_sum))\n",
            "/usr/local/lib/python3.8/dist-packages/sklearn/metrics/_classification.py:1580: UndefinedMetricWarning: F-score is ill-defined and being set to 0.0 in labels with no true nor predicted samples. Use `zero_division` parameter to control this behavior.\n",
            "  _warn_prf(average, \"true nor predicted\", \"F-score is\", len(true_sum))\n",
            "/usr/local/lib/python3.8/dist-packages/sklearn/metrics/_classification.py:1580: UndefinedMetricWarning: F-score is ill-defined and being set to 0.0 in labels with no true nor predicted samples. Use `zero_division` parameter to control this behavior.\n",
            "  _warn_prf(average, \"true nor predicted\", \"F-score is\", len(true_sum))\n",
            "/usr/local/lib/python3.8/dist-packages/sklearn/metrics/_classification.py:1580: UndefinedMetricWarning: F-score is ill-defined and being set to 0.0 in labels with no true nor predicted samples. Use `zero_division` parameter to control this behavior.\n",
            "  _warn_prf(average, \"true nor predicted\", \"F-score is\", len(true_sum))\n"
          ]
        },
        {
          "output_type": "stream",
          "name": "stdout",
          "text": [
            "Epoch: 1 Losses: (0.8941451914088673, 0.7631282189677903) Test Accuracy: 78.90173410404624 F1: 52.42862034547825\n"
          ]
        },
        {
          "output_type": "stream",
          "name": "stderr",
          "text": [
            "/usr/local/lib/python3.8/dist-packages/sklearn/metrics/_classification.py:1580: UndefinedMetricWarning: F-score is ill-defined and being set to 0.0 in labels with no true nor predicted samples. Use `zero_division` parameter to control this behavior.\n",
            "  _warn_prf(average, \"true nor predicted\", \"F-score is\", len(true_sum))\n",
            "/usr/local/lib/python3.8/dist-packages/sklearn/metrics/_classification.py:1580: UndefinedMetricWarning: F-score is ill-defined and being set to 0.0 in labels with no true nor predicted samples. Use `zero_division` parameter to control this behavior.\n",
            "  _warn_prf(average, \"true nor predicted\", \"F-score is\", len(true_sum))\n",
            "/usr/local/lib/python3.8/dist-packages/sklearn/metrics/_classification.py:1580: UndefinedMetricWarning: F-score is ill-defined and being set to 0.0 in labels with no true nor predicted samples. Use `zero_division` parameter to control this behavior.\n",
            "  _warn_prf(average, \"true nor predicted\", \"F-score is\", len(true_sum))\n",
            "/usr/local/lib/python3.8/dist-packages/sklearn/metrics/_classification.py:1580: UndefinedMetricWarning: F-score is ill-defined and being set to 0.0 in labels with no true nor predicted samples. Use `zero_division` parameter to control this behavior.\n",
            "  _warn_prf(average, \"true nor predicted\", \"F-score is\", len(true_sum))\n",
            "/usr/local/lib/python3.8/dist-packages/sklearn/metrics/_classification.py:1580: UndefinedMetricWarning: F-score is ill-defined and being set to 0.0 in labels with no true nor predicted samples. Use `zero_division` parameter to control this behavior.\n",
            "  _warn_prf(average, \"true nor predicted\", \"F-score is\", len(true_sum))\n",
            "/usr/local/lib/python3.8/dist-packages/sklearn/metrics/_classification.py:1580: UndefinedMetricWarning: F-score is ill-defined and being set to 0.0 in labels with no true nor predicted samples. Use `zero_division` parameter to control this behavior.\n",
            "  _warn_prf(average, \"true nor predicted\", \"F-score is\", len(true_sum))\n",
            "/usr/local/lib/python3.8/dist-packages/sklearn/metrics/_classification.py:1580: UndefinedMetricWarning: F-score is ill-defined and being set to 0.0 in labels with no true nor predicted samples. Use `zero_division` parameter to control this behavior.\n",
            "  _warn_prf(average, \"true nor predicted\", \"F-score is\", len(true_sum))\n",
            "/usr/local/lib/python3.8/dist-packages/sklearn/metrics/_classification.py:1580: UndefinedMetricWarning: F-score is ill-defined and being set to 0.0 in labels with no true nor predicted samples. Use `zero_division` parameter to control this behavior.\n",
            "  _warn_prf(average, \"true nor predicted\", \"F-score is\", len(true_sum))\n",
            "/usr/local/lib/python3.8/dist-packages/sklearn/metrics/_classification.py:1580: UndefinedMetricWarning: F-score is ill-defined and being set to 0.0 in labels with no true nor predicted samples. Use `zero_division` parameter to control this behavior.\n",
            "  _warn_prf(average, \"true nor predicted\", \"F-score is\", len(true_sum))\n",
            "/usr/local/lib/python3.8/dist-packages/sklearn/metrics/_classification.py:1580: UndefinedMetricWarning: F-score is ill-defined and being set to 0.0 in labels with no true nor predicted samples. Use `zero_division` parameter to control this behavior.\n",
            "  _warn_prf(average, \"true nor predicted\", \"F-score is\", len(true_sum))\n",
            "/usr/local/lib/python3.8/dist-packages/sklearn/metrics/_classification.py:1580: UndefinedMetricWarning: F-score is ill-defined and being set to 0.0 in labels with no true nor predicted samples. Use `zero_division` parameter to control this behavior.\n",
            "  _warn_prf(average, \"true nor predicted\", \"F-score is\", len(true_sum))\n"
          ]
        },
        {
          "output_type": "stream",
          "name": "stdout",
          "text": [
            "Epoch: 2 Losses: (0.6966723460097647, 0.63398789291437) Test Accuracy: 92.48554913294798 F1: 90.32573577666717\n"
          ]
        },
        {
          "output_type": "stream",
          "name": "stderr",
          "text": [
            "/usr/local/lib/python3.8/dist-packages/sklearn/metrics/_classification.py:1580: UndefinedMetricWarning: F-score is ill-defined and being set to 0.0 in labels with no true nor predicted samples. Use `zero_division` parameter to control this behavior.\n",
            "  _warn_prf(average, \"true nor predicted\", \"F-score is\", len(true_sum))\n",
            "/usr/local/lib/python3.8/dist-packages/sklearn/metrics/_classification.py:1580: UndefinedMetricWarning: F-score is ill-defined and being set to 0.0 in labels with no true nor predicted samples. Use `zero_division` parameter to control this behavior.\n",
            "  _warn_prf(average, \"true nor predicted\", \"F-score is\", len(true_sum))\n",
            "/usr/local/lib/python3.8/dist-packages/sklearn/metrics/_classification.py:1580: UndefinedMetricWarning: F-score is ill-defined and being set to 0.0 in labels with no true nor predicted samples. Use `zero_division` parameter to control this behavior.\n",
            "  _warn_prf(average, \"true nor predicted\", \"F-score is\", len(true_sum))\n",
            "/usr/local/lib/python3.8/dist-packages/sklearn/metrics/_classification.py:1580: UndefinedMetricWarning: F-score is ill-defined and being set to 0.0 in labels with no true nor predicted samples. Use `zero_division` parameter to control this behavior.\n",
            "  _warn_prf(average, \"true nor predicted\", \"F-score is\", len(true_sum))\n",
            "/usr/local/lib/python3.8/dist-packages/sklearn/metrics/_classification.py:1580: UndefinedMetricWarning: F-score is ill-defined and being set to 0.0 in labels with no true nor predicted samples. Use `zero_division` parameter to control this behavior.\n",
            "  _warn_prf(average, \"true nor predicted\", \"F-score is\", len(true_sum))\n",
            "/usr/local/lib/python3.8/dist-packages/sklearn/metrics/_classification.py:1580: UndefinedMetricWarning: F-score is ill-defined and being set to 0.0 in labels with no true nor predicted samples. Use `zero_division` parameter to control this behavior.\n",
            "  _warn_prf(average, \"true nor predicted\", \"F-score is\", len(true_sum))\n",
            "/usr/local/lib/python3.8/dist-packages/sklearn/metrics/_classification.py:1580: UndefinedMetricWarning: F-score is ill-defined and being set to 0.0 in labels with no true nor predicted samples. Use `zero_division` parameter to control this behavior.\n",
            "  _warn_prf(average, \"true nor predicted\", \"F-score is\", len(true_sum))\n",
            "/usr/local/lib/python3.8/dist-packages/sklearn/metrics/_classification.py:1580: UndefinedMetricWarning: F-score is ill-defined and being set to 0.0 in labels with no true nor predicted samples. Use `zero_division` parameter to control this behavior.\n",
            "  _warn_prf(average, \"true nor predicted\", \"F-score is\", len(true_sum))\n",
            "/usr/local/lib/python3.8/dist-packages/sklearn/metrics/_classification.py:1580: UndefinedMetricWarning: F-score is ill-defined and being set to 0.0 in labels with no true nor predicted samples. Use `zero_division` parameter to control this behavior.\n",
            "  _warn_prf(average, \"true nor predicted\", \"F-score is\", len(true_sum))\n",
            "/usr/local/lib/python3.8/dist-packages/sklearn/metrics/_classification.py:1580: UndefinedMetricWarning: F-score is ill-defined and being set to 0.0 in labels with no true nor predicted samples. Use `zero_division` parameter to control this behavior.\n",
            "  _warn_prf(average, \"true nor predicted\", \"F-score is\", len(true_sum))\n",
            "/usr/local/lib/python3.8/dist-packages/sklearn/metrics/_classification.py:1580: UndefinedMetricWarning: F-score is ill-defined and being set to 0.0 in labels with no true nor predicted samples. Use `zero_division` parameter to control this behavior.\n",
            "  _warn_prf(average, \"true nor predicted\", \"F-score is\", len(true_sum))\n"
          ]
        },
        {
          "output_type": "stream",
          "name": "stdout",
          "text": [
            "Epoch: 3 Losses: (0.6144428592781686, 0.6125195426058906) Test Accuracy: 93.9306358381503 F1: 90.97590426545406\n"
          ]
        },
        {
          "output_type": "stream",
          "name": "stderr",
          "text": [
            "/usr/local/lib/python3.8/dist-packages/sklearn/metrics/_classification.py:1580: UndefinedMetricWarning: F-score is ill-defined and being set to 0.0 in labels with no true nor predicted samples. Use `zero_division` parameter to control this behavior.\n",
            "  _warn_prf(average, \"true nor predicted\", \"F-score is\", len(true_sum))\n",
            "/usr/local/lib/python3.8/dist-packages/sklearn/metrics/_classification.py:1580: UndefinedMetricWarning: F-score is ill-defined and being set to 0.0 in labels with no true nor predicted samples. Use `zero_division` parameter to control this behavior.\n",
            "  _warn_prf(average, \"true nor predicted\", \"F-score is\", len(true_sum))\n",
            "/usr/local/lib/python3.8/dist-packages/sklearn/metrics/_classification.py:1580: UndefinedMetricWarning: F-score is ill-defined and being set to 0.0 in labels with no true nor predicted samples. Use `zero_division` parameter to control this behavior.\n",
            "  _warn_prf(average, \"true nor predicted\", \"F-score is\", len(true_sum))\n",
            "/usr/local/lib/python3.8/dist-packages/sklearn/metrics/_classification.py:1580: UndefinedMetricWarning: F-score is ill-defined and being set to 0.0 in labels with no true nor predicted samples. Use `zero_division` parameter to control this behavior.\n",
            "  _warn_prf(average, \"true nor predicted\", \"F-score is\", len(true_sum))\n",
            "/usr/local/lib/python3.8/dist-packages/sklearn/metrics/_classification.py:1580: UndefinedMetricWarning: F-score is ill-defined and being set to 0.0 in labels with no true nor predicted samples. Use `zero_division` parameter to control this behavior.\n",
            "  _warn_prf(average, \"true nor predicted\", \"F-score is\", len(true_sum))\n",
            "/usr/local/lib/python3.8/dist-packages/sklearn/metrics/_classification.py:1580: UndefinedMetricWarning: F-score is ill-defined and being set to 0.0 in labels with no true nor predicted samples. Use `zero_division` parameter to control this behavior.\n",
            "  _warn_prf(average, \"true nor predicted\", \"F-score is\", len(true_sum))\n",
            "/usr/local/lib/python3.8/dist-packages/sklearn/metrics/_classification.py:1580: UndefinedMetricWarning: F-score is ill-defined and being set to 0.0 in labels with no true nor predicted samples. Use `zero_division` parameter to control this behavior.\n",
            "  _warn_prf(average, \"true nor predicted\", \"F-score is\", len(true_sum))\n",
            "/usr/local/lib/python3.8/dist-packages/sklearn/metrics/_classification.py:1580: UndefinedMetricWarning: F-score is ill-defined and being set to 0.0 in labels with no true nor predicted samples. Use `zero_division` parameter to control this behavior.\n",
            "  _warn_prf(average, \"true nor predicted\", \"F-score is\", len(true_sum))\n",
            "/usr/local/lib/python3.8/dist-packages/sklearn/metrics/_classification.py:1580: UndefinedMetricWarning: F-score is ill-defined and being set to 0.0 in labels with no true nor predicted samples. Use `zero_division` parameter to control this behavior.\n",
            "  _warn_prf(average, \"true nor predicted\", \"F-score is\", len(true_sum))\n",
            "/usr/local/lib/python3.8/dist-packages/sklearn/metrics/_classification.py:1580: UndefinedMetricWarning: F-score is ill-defined and being set to 0.0 in labels with no true nor predicted samples. Use `zero_division` parameter to control this behavior.\n",
            "  _warn_prf(average, \"true nor predicted\", \"F-score is\", len(true_sum))\n",
            "/usr/local/lib/python3.8/dist-packages/sklearn/metrics/_classification.py:1580: UndefinedMetricWarning: F-score is ill-defined and being set to 0.0 in labels with no true nor predicted samples. Use `zero_division` parameter to control this behavior.\n",
            "  _warn_prf(average, \"true nor predicted\", \"F-score is\", len(true_sum))\n"
          ]
        },
        {
          "output_type": "stream",
          "name": "stdout",
          "text": [
            "Epoch: 4 Losses: (0.5893819754899933, 0.6181041289960718) Test Accuracy: 93.0635838150289 F1: 90.77194573149022\n"
          ]
        },
        {
          "output_type": "stream",
          "name": "stderr",
          "text": [
            "/usr/local/lib/python3.8/dist-packages/sklearn/metrics/_classification.py:1580: UndefinedMetricWarning: F-score is ill-defined and being set to 0.0 in labels with no true nor predicted samples. Use `zero_division` parameter to control this behavior.\n",
            "  _warn_prf(average, \"true nor predicted\", \"F-score is\", len(true_sum))\n",
            "/usr/local/lib/python3.8/dist-packages/sklearn/metrics/_classification.py:1580: UndefinedMetricWarning: F-score is ill-defined and being set to 0.0 in labels with no true nor predicted samples. Use `zero_division` parameter to control this behavior.\n",
            "  _warn_prf(average, \"true nor predicted\", \"F-score is\", len(true_sum))\n",
            "/usr/local/lib/python3.8/dist-packages/sklearn/metrics/_classification.py:1580: UndefinedMetricWarning: F-score is ill-defined and being set to 0.0 in labels with no true nor predicted samples. Use `zero_division` parameter to control this behavior.\n",
            "  _warn_prf(average, \"true nor predicted\", \"F-score is\", len(true_sum))\n",
            "/usr/local/lib/python3.8/dist-packages/sklearn/metrics/_classification.py:1580: UndefinedMetricWarning: F-score is ill-defined and being set to 0.0 in labels with no true nor predicted samples. Use `zero_division` parameter to control this behavior.\n",
            "  _warn_prf(average, \"true nor predicted\", \"F-score is\", len(true_sum))\n",
            "/usr/local/lib/python3.8/dist-packages/sklearn/metrics/_classification.py:1580: UndefinedMetricWarning: F-score is ill-defined and being set to 0.0 in labels with no true nor predicted samples. Use `zero_division` parameter to control this behavior.\n",
            "  _warn_prf(average, \"true nor predicted\", \"F-score is\", len(true_sum))\n",
            "/usr/local/lib/python3.8/dist-packages/sklearn/metrics/_classification.py:1580: UndefinedMetricWarning: F-score is ill-defined and being set to 0.0 in labels with no true nor predicted samples. Use `zero_division` parameter to control this behavior.\n",
            "  _warn_prf(average, \"true nor predicted\", \"F-score is\", len(true_sum))\n",
            "/usr/local/lib/python3.8/dist-packages/sklearn/metrics/_classification.py:1580: UndefinedMetricWarning: F-score is ill-defined and being set to 0.0 in labels with no true nor predicted samples. Use `zero_division` parameter to control this behavior.\n",
            "  _warn_prf(average, \"true nor predicted\", \"F-score is\", len(true_sum))\n",
            "/usr/local/lib/python3.8/dist-packages/sklearn/metrics/_classification.py:1580: UndefinedMetricWarning: F-score is ill-defined and being set to 0.0 in labels with no true nor predicted samples. Use `zero_division` parameter to control this behavior.\n",
            "  _warn_prf(average, \"true nor predicted\", \"F-score is\", len(true_sum))\n",
            "/usr/local/lib/python3.8/dist-packages/sklearn/metrics/_classification.py:1580: UndefinedMetricWarning: F-score is ill-defined and being set to 0.0 in labels with no true nor predicted samples. Use `zero_division` parameter to control this behavior.\n",
            "  _warn_prf(average, \"true nor predicted\", \"F-score is\", len(true_sum))\n",
            "/usr/local/lib/python3.8/dist-packages/sklearn/metrics/_classification.py:1580: UndefinedMetricWarning: F-score is ill-defined and being set to 0.0 in labels with no true nor predicted samples. Use `zero_division` parameter to control this behavior.\n",
            "  _warn_prf(average, \"true nor predicted\", \"F-score is\", len(true_sum))\n",
            "/usr/local/lib/python3.8/dist-packages/sklearn/metrics/_classification.py:1580: UndefinedMetricWarning: F-score is ill-defined and being set to 0.0 in labels with no true nor predicted samples. Use `zero_division` parameter to control this behavior.\n",
            "  _warn_prf(average, \"true nor predicted\", \"F-score is\", len(true_sum))\n"
          ]
        },
        {
          "output_type": "stream",
          "name": "stdout",
          "text": [
            "Epoch: 5 Losses: (0.5785589141901147, 0.6076912871330453) Test Accuracy: 94.21965317919076 F1: 91.83694050190452\n"
          ]
        },
        {
          "output_type": "stream",
          "name": "stderr",
          "text": [
            "/usr/local/lib/python3.8/dist-packages/sklearn/metrics/_classification.py:1580: UndefinedMetricWarning: F-score is ill-defined and being set to 0.0 in labels with no true nor predicted samples. Use `zero_division` parameter to control this behavior.\n",
            "  _warn_prf(average, \"true nor predicted\", \"F-score is\", len(true_sum))\n",
            "/usr/local/lib/python3.8/dist-packages/sklearn/metrics/_classification.py:1580: UndefinedMetricWarning: F-score is ill-defined and being set to 0.0 in labels with no true nor predicted samples. Use `zero_division` parameter to control this behavior.\n",
            "  _warn_prf(average, \"true nor predicted\", \"F-score is\", len(true_sum))\n",
            "/usr/local/lib/python3.8/dist-packages/sklearn/metrics/_classification.py:1580: UndefinedMetricWarning: F-score is ill-defined and being set to 0.0 in labels with no true nor predicted samples. Use `zero_division` parameter to control this behavior.\n",
            "  _warn_prf(average, \"true nor predicted\", \"F-score is\", len(true_sum))\n",
            "/usr/local/lib/python3.8/dist-packages/sklearn/metrics/_classification.py:1580: UndefinedMetricWarning: F-score is ill-defined and being set to 0.0 in labels with no true nor predicted samples. Use `zero_division` parameter to control this behavior.\n",
            "  _warn_prf(average, \"true nor predicted\", \"F-score is\", len(true_sum))\n",
            "/usr/local/lib/python3.8/dist-packages/sklearn/metrics/_classification.py:1580: UndefinedMetricWarning: F-score is ill-defined and being set to 0.0 in labels with no true nor predicted samples. Use `zero_division` parameter to control this behavior.\n",
            "  _warn_prf(average, \"true nor predicted\", \"F-score is\", len(true_sum))\n",
            "/usr/local/lib/python3.8/dist-packages/sklearn/metrics/_classification.py:1580: UndefinedMetricWarning: F-score is ill-defined and being set to 0.0 in labels with no true nor predicted samples. Use `zero_division` parameter to control this behavior.\n",
            "  _warn_prf(average, \"true nor predicted\", \"F-score is\", len(true_sum))\n",
            "/usr/local/lib/python3.8/dist-packages/sklearn/metrics/_classification.py:1580: UndefinedMetricWarning: F-score is ill-defined and being set to 0.0 in labels with no true nor predicted samples. Use `zero_division` parameter to control this behavior.\n",
            "  _warn_prf(average, \"true nor predicted\", \"F-score is\", len(true_sum))\n",
            "/usr/local/lib/python3.8/dist-packages/sklearn/metrics/_classification.py:1580: UndefinedMetricWarning: F-score is ill-defined and being set to 0.0 in labels with no true nor predicted samples. Use `zero_division` parameter to control this behavior.\n",
            "  _warn_prf(average, \"true nor predicted\", \"F-score is\", len(true_sum))\n",
            "/usr/local/lib/python3.8/dist-packages/sklearn/metrics/_classification.py:1580: UndefinedMetricWarning: F-score is ill-defined and being set to 0.0 in labels with no true nor predicted samples. Use `zero_division` parameter to control this behavior.\n",
            "  _warn_prf(average, \"true nor predicted\", \"F-score is\", len(true_sum))\n",
            "/usr/local/lib/python3.8/dist-packages/sklearn/metrics/_classification.py:1580: UndefinedMetricWarning: F-score is ill-defined and being set to 0.0 in labels with no true nor predicted samples. Use `zero_division` parameter to control this behavior.\n",
            "  _warn_prf(average, \"true nor predicted\", \"F-score is\", len(true_sum))\n",
            "/usr/local/lib/python3.8/dist-packages/sklearn/metrics/_classification.py:1580: UndefinedMetricWarning: F-score is ill-defined and being set to 0.0 in labels with no true nor predicted samples. Use `zero_division` parameter to control this behavior.\n",
            "  _warn_prf(average, \"true nor predicted\", \"F-score is\", len(true_sum))\n"
          ]
        },
        {
          "output_type": "stream",
          "name": "stdout",
          "text": [
            "Epoch: 6 Losses: (0.5741984345192136, 0.6042973013282515) Test Accuracy: 94.79768786127167 F1: 92.73262854857344\n"
          ]
        },
        {
          "output_type": "stream",
          "name": "stderr",
          "text": [
            "/usr/local/lib/python3.8/dist-packages/sklearn/metrics/_classification.py:1580: UndefinedMetricWarning: F-score is ill-defined and being set to 0.0 in labels with no true nor predicted samples. Use `zero_division` parameter to control this behavior.\n",
            "  _warn_prf(average, \"true nor predicted\", \"F-score is\", len(true_sum))\n",
            "/usr/local/lib/python3.8/dist-packages/sklearn/metrics/_classification.py:1580: UndefinedMetricWarning: F-score is ill-defined and being set to 0.0 in labels with no true nor predicted samples. Use `zero_division` parameter to control this behavior.\n",
            "  _warn_prf(average, \"true nor predicted\", \"F-score is\", len(true_sum))\n",
            "/usr/local/lib/python3.8/dist-packages/sklearn/metrics/_classification.py:1580: UndefinedMetricWarning: F-score is ill-defined and being set to 0.0 in labels with no true nor predicted samples. Use `zero_division` parameter to control this behavior.\n",
            "  _warn_prf(average, \"true nor predicted\", \"F-score is\", len(true_sum))\n",
            "/usr/local/lib/python3.8/dist-packages/sklearn/metrics/_classification.py:1580: UndefinedMetricWarning: F-score is ill-defined and being set to 0.0 in labels with no true nor predicted samples. Use `zero_division` parameter to control this behavior.\n",
            "  _warn_prf(average, \"true nor predicted\", \"F-score is\", len(true_sum))\n",
            "/usr/local/lib/python3.8/dist-packages/sklearn/metrics/_classification.py:1580: UndefinedMetricWarning: F-score is ill-defined and being set to 0.0 in labels with no true nor predicted samples. Use `zero_division` parameter to control this behavior.\n",
            "  _warn_prf(average, \"true nor predicted\", \"F-score is\", len(true_sum))\n",
            "/usr/local/lib/python3.8/dist-packages/sklearn/metrics/_classification.py:1580: UndefinedMetricWarning: F-score is ill-defined and being set to 0.0 in labels with no true nor predicted samples. Use `zero_division` parameter to control this behavior.\n",
            "  _warn_prf(average, \"true nor predicted\", \"F-score is\", len(true_sum))\n",
            "/usr/local/lib/python3.8/dist-packages/sklearn/metrics/_classification.py:1580: UndefinedMetricWarning: F-score is ill-defined and being set to 0.0 in labels with no true nor predicted samples. Use `zero_division` parameter to control this behavior.\n",
            "  _warn_prf(average, \"true nor predicted\", \"F-score is\", len(true_sum))\n",
            "/usr/local/lib/python3.8/dist-packages/sklearn/metrics/_classification.py:1580: UndefinedMetricWarning: F-score is ill-defined and being set to 0.0 in labels with no true nor predicted samples. Use `zero_division` parameter to control this behavior.\n",
            "  _warn_prf(average, \"true nor predicted\", \"F-score is\", len(true_sum))\n",
            "/usr/local/lib/python3.8/dist-packages/sklearn/metrics/_classification.py:1580: UndefinedMetricWarning: F-score is ill-defined and being set to 0.0 in labels with no true nor predicted samples. Use `zero_division` parameter to control this behavior.\n",
            "  _warn_prf(average, \"true nor predicted\", \"F-score is\", len(true_sum))\n",
            "/usr/local/lib/python3.8/dist-packages/sklearn/metrics/_classification.py:1580: UndefinedMetricWarning: F-score is ill-defined and being set to 0.0 in labels with no true nor predicted samples. Use `zero_division` parameter to control this behavior.\n",
            "  _warn_prf(average, \"true nor predicted\", \"F-score is\", len(true_sum))\n",
            "/usr/local/lib/python3.8/dist-packages/sklearn/metrics/_classification.py:1580: UndefinedMetricWarning: F-score is ill-defined and being set to 0.0 in labels with no true nor predicted samples. Use `zero_division` parameter to control this behavior.\n",
            "  _warn_prf(average, \"true nor predicted\", \"F-score is\", len(true_sum))\n"
          ]
        },
        {
          "output_type": "stream",
          "name": "stdout",
          "text": [
            "Epoch: 7 Losses: (0.5715466536754785, 0.5997496142208228) Test Accuracy: 95.37572254335261 F1: 93.27648112317544\n"
          ]
        },
        {
          "output_type": "display_data",
          "data": {
            "text/plain": [
              "<Figure size 720x360 with 1 Axes>"
            ],
            "image/png": "[encoded data removed]"
          },
          "metadata": {
            "needs_background": "light"
          }
        },
        {
          "output_type": "display_data",
          "data": {
            "text/plain": [
              "<Figure size 720x360 with 1 Axes>"
            ],
            "image/png": "[encoded data removed]"
          },
          "metadata": {
            "needs_background": "light"
          }
        }
      ],
      "source": [
        "train(loss_function, optimizer, model, loader, num_epochs=num_epochs)"
      ]
    },
    {
      "cell_type": "code",
      "execution_count": null,
      "id": "0fc48c43",
      "metadata": {
        "id": "0fc48c43"
      },
      "outputs": [],
      "source": [
        "# Saving model\n",
        "torch.save(model.state_dict(), '/content/model_BERT_07')"
      ]
    },
    {
      "cell_type": "code",
      "execution_count": null,
      "id": "c68dd25b",
      "metadata": {
        "id": "c68dd25b"
      },
      "outputs": [],
      "source": [
        "# # Loading model (Must run all code before # Define an optimizer)\n",
        "# model.load_state_dict(torch.load('/Users/sarkaajsingh/Library/CloudStorage/OneDrive-Personal/OneNote/Python Files/SQB7002/model_BERT'))\n",
        "# model.eval()"
      ]
    },
    {
      "cell_type": "code",
      "execution_count": null,
      "id": "1a8a2992",
      "metadata": {
        "id": "1a8a2992",
        "colab": {
          "base_uri": "https://localhost:8080/"
        },
        "outputId": "4e55e49d-81de-4836-e94c-35871e61c3a3"
      },
      "outputs": [
        {
          "output_type": "stream",
          "name": "stdout",
          "text": [
            "tensor([[0, 1, 0]], device='cuda:0')\n",
            "tensor([[2.5733e-04, 9.9955e-01, 1.9080e-04]], device='cuda:0',\n",
            "       grad_fn=<SoftmaxBackward0>)\n",
            "tensor([[0, 1, 0]], device='cuda:0')\n",
            "tensor([[1.6372e-04, 9.9963e-01, 2.0699e-04]], device='cuda:0',\n",
            "       grad_fn=<SoftmaxBackward0>)\n",
            "tensor([[1, 0, 0]], device='cuda:0')\n",
            "tensor([[9.9851e-01, 7.3525e-04, 7.5758e-04]], device='cuda:0',\n",
            "       grad_fn=<SoftmaxBackward0>)\n",
            "tensor([[0, 1, 0]], device='cuda:0')\n",
            "tensor([[1.7662e-04, 9.9959e-01, 2.3024e-04]], device='cuda:0',\n",
            "       grad_fn=<SoftmaxBackward0>)\n",
            "tensor([[1, 0, 0]], device='cuda:0')\n",
            "tensor([[9.9846e-01, 7.3140e-04, 8.0645e-04]], device='cuda:0',\n",
            "       grad_fn=<SoftmaxBackward0>)\n",
            "tensor([[0, 1, 0]], device='cuda:0')\n",
            "tensor([[0.0435, 0.9549, 0.0016]], device='cuda:0', grad_fn=<SoftmaxBackward0>)\n",
            "tensor([[0, 1, 0]], device='cuda:0')\n",
            "tensor([[2.1969e-04, 9.9950e-01, 2.8418e-04]], device='cuda:0',\n",
            "       grad_fn=<SoftmaxBackward0>)\n",
            "tensor([[1, 0, 0]], device='cuda:0')\n",
            "tensor([[9.9844e-01, 8.8878e-04, 6.7255e-04]], device='cuda:0',\n",
            "       grad_fn=<SoftmaxBackward0>)\n",
            "tensor([[0, 1, 0]], device='cuda:0')\n",
            "tensor([[2.1574e-04, 9.9952e-01, 2.6553e-04]], device='cuda:0',\n",
            "       grad_fn=<SoftmaxBackward0>)\n",
            "tensor([[0, 1, 0]], device='cuda:0')\n",
            "tensor([[3.1582e-04, 9.9945e-01, 2.3284e-04]], device='cuda:0',\n",
            "       grad_fn=<SoftmaxBackward0>)\n",
            "tensor([[0, 1, 0]], device='cuda:0')\n",
            "tensor([[2.3400e-04, 9.9955e-01, 2.1634e-04]], device='cuda:0',\n",
            "       grad_fn=<SoftmaxBackward0>)\n",
            "tensor([[0, 0, 1]], device='cuda:0')\n",
            "tensor([[1.0446e-03, 4.9790e-04, 9.9846e-01]], device='cuda:0',\n",
            "       grad_fn=<SoftmaxBackward0>)\n",
            "tensor([[0, 0, 1]], device='cuda:0')\n",
            "tensor([[1.1668e-03, 5.4065e-04, 9.9829e-01]], device='cuda:0',\n",
            "       grad_fn=<SoftmaxBackward0>)\n",
            "tensor([[0, 1, 0]], device='cuda:0')\n",
            "tensor([[1.7353e-04, 9.9960e-01, 2.2355e-04]], device='cuda:0',\n",
            "       grad_fn=<SoftmaxBackward0>)\n",
            "tensor([[0, 0, 1]], device='cuda:0')\n",
            "tensor([[1.0647e-03, 4.5779e-04, 9.9848e-01]], device='cuda:0',\n",
            "       grad_fn=<SoftmaxBackward0>)\n",
            "tensor([[0, 0, 1]], device='cuda:0')\n",
            "tensor([[1.7753e-03, 3.7427e-04, 9.9785e-01]], device='cuda:0',\n",
            "       grad_fn=<SoftmaxBackward0>)\n",
            "tensor([[0, 1, 0]], device='cuda:0')\n",
            "tensor([[4.1731e-02, 9.5740e-01, 8.7012e-04]], device='cuda:0',\n",
            "       grad_fn=<SoftmaxBackward0>)\n",
            "tensor([[1, 0, 0]], device='cuda:0')\n",
            "tensor([[9.9819e-01, 8.9758e-04, 9.1721e-04]], device='cuda:0',\n",
            "       grad_fn=<SoftmaxBackward0>)\n",
            "tensor([[1, 0, 0]], device='cuda:0')\n",
            "tensor([[9.9852e-01, 7.2106e-04, 7.6320e-04]], device='cuda:0',\n",
            "       grad_fn=<SoftmaxBackward0>)\n",
            "tensor([[1, 0, 0]], device='cuda:0')\n",
            "tensor([[9.9843e-01, 8.8785e-04, 6.8198e-04]], device='cuda:0',\n",
            "       grad_fn=<SoftmaxBackward0>)\n",
            "tensor([[1, 0, 0]], device='cuda:0')\n",
            "tensor([[9.9854e-01, 7.0259e-04, 7.6094e-04]], device='cuda:0',\n",
            "       grad_fn=<SoftmaxBackward0>)\n",
            "tensor([[1, 0, 0]], device='cuda:0')\n",
            "tensor([[1.3802e-03, 9.9820e-01, 4.1522e-04]], device='cuda:0',\n",
            "       grad_fn=<SoftmaxBackward0>)\n",
            "tensor([[1, 0, 0]], device='cuda:0')\n",
            "tensor([[9.9809e-01, 1.1406e-03, 7.6834e-04]], device='cuda:0',\n",
            "       grad_fn=<SoftmaxBackward0>)\n",
            "tensor([[0, 1, 0]], device='cuda:0')\n",
            "tensor([[2.8509e-04, 9.9949e-01, 2.2367e-04]], device='cuda:0',\n",
            "       grad_fn=<SoftmaxBackward0>)\n",
            "tensor([[0, 1, 0]], device='cuda:0')\n",
            "tensor([[2.1878e-04, 9.9948e-01, 2.9624e-04]], device='cuda:0',\n",
            "       grad_fn=<SoftmaxBackward0>)\n",
            "tensor([[0, 1, 0]], device='cuda:0')\n",
            "tensor([[1.9806e-04, 9.9953e-01, 2.7177e-04]], device='cuda:0',\n",
            "       grad_fn=<SoftmaxBackward0>)\n",
            "tensor([[0, 1, 0]], device='cuda:0')\n",
            "tensor([[2.4603e-04, 9.9955e-01, 2.0481e-04]], device='cuda:0',\n",
            "       grad_fn=<SoftmaxBackward0>)\n",
            "tensor([[1, 0, 0]], device='cuda:0')\n",
            "tensor([[9.9847e-01, 7.5088e-04, 7.8285e-04]], device='cuda:0',\n",
            "       grad_fn=<SoftmaxBackward0>)\n",
            "tensor([[1, 0, 0]], device='cuda:0')\n",
            "tensor([[9.9825e-01, 8.0767e-04, 9.4249e-04]], device='cuda:0',\n",
            "       grad_fn=<SoftmaxBackward0>)\n",
            "tensor([[1, 0, 0]], device='cuda:0')\n",
            "tensor([[9.9844e-01, 7.9315e-04, 7.7076e-04]], device='cuda:0',\n",
            "       grad_fn=<SoftmaxBackward0>)\n",
            "tensor([[1, 0, 0]], device='cuda:0')\n",
            "tensor([[9.9841e-01, 6.3791e-04, 9.5323e-04]], device='cuda:0',\n",
            "       grad_fn=<SoftmaxBackward0>)\n",
            "tensor([[1, 0, 0]], device='cuda:0')\n",
            "tensor([[9.9848e-01, 7.4159e-04, 7.7866e-04]], device='cuda:0',\n",
            "       grad_fn=<SoftmaxBackward0>)\n",
            "tensor([[0, 1, 0]], device='cuda:0')\n",
            "tensor([[2.1415e-04, 9.9953e-01, 2.5420e-04]], device='cuda:0',\n",
            "       grad_fn=<SoftmaxBackward0>)\n",
            "tensor([[0, 1, 0]], device='cuda:0')\n",
            "tensor([[1.8295e-04, 9.9958e-01, 2.3807e-04]], device='cuda:0',\n",
            "       grad_fn=<SoftmaxBackward0>)\n",
            "tensor([[0, 0, 1]], device='cuda:0')\n",
            "tensor([[1.0138e-03, 5.3828e-04, 9.9845e-01]], device='cuda:0',\n",
            "       grad_fn=<SoftmaxBackward0>)\n",
            "tensor([[0, 1, 0]], device='cuda:0')\n",
            "tensor([[0.1722, 0.8261, 0.0017]], device='cuda:0', grad_fn=<SoftmaxBackward0>)\n",
            "tensor([[0, 1, 0]], device='cuda:0')\n",
            "tensor([[2.5139e-04, 9.9954e-01, 2.0530e-04]], device='cuda:0',\n",
            "       grad_fn=<SoftmaxBackward0>)\n",
            "tensor([[0, 1, 0]], device='cuda:0')\n",
            "tensor([[2.6222e-04, 9.9941e-01, 3.2444e-04]], device='cuda:0',\n",
            "       grad_fn=<SoftmaxBackward0>)\n",
            "tensor([[1, 0, 0]], device='cuda:0')\n",
            "tensor([[9.9789e-01, 1.2388e-03, 8.7165e-04]], device='cuda:0',\n",
            "       grad_fn=<SoftmaxBackward0>)\n",
            "tensor([[0, 0, 1]], device='cuda:0')\n",
            "tensor([[9.0001e-04, 5.5816e-04, 9.9854e-01]], device='cuda:0',\n",
            "       grad_fn=<SoftmaxBackward0>)\n",
            "tensor([[0, 1, 0]], device='cuda:0')\n",
            "tensor([[3.1991e-04, 9.9944e-01, 2.3861e-04]], device='cuda:0',\n",
            "       grad_fn=<SoftmaxBackward0>)\n",
            "tensor([[0, 0, 1]], device='cuda:0')\n",
            "tensor([[9.7264e-04, 6.3454e-04, 9.9839e-01]], device='cuda:0',\n",
            "       grad_fn=<SoftmaxBackward0>)\n",
            "tensor([[1, 0, 0]], device='cuda:0')\n",
            "tensor([[9.9846e-01, 7.4721e-04, 7.9023e-04]], device='cuda:0',\n",
            "       grad_fn=<SoftmaxBackward0>)\n",
            "tensor([[0, 1, 0]], device='cuda:0')\n",
            "tensor([[6.6370e-04, 9.9902e-01, 3.1302e-04]], device='cuda:0',\n",
            "       grad_fn=<SoftmaxBackward0>)\n",
            "tensor([[0, 0, 1]], device='cuda:0')\n",
            "tensor([[8.8769e-04, 5.2590e-04, 9.9859e-01]], device='cuda:0',\n",
            "       grad_fn=<SoftmaxBackward0>)\n",
            "tensor([[0, 1, 0]], device='cuda:0')\n",
            "tensor([[2.8857e-04, 9.9942e-01, 2.8691e-04]], device='cuda:0',\n",
            "       grad_fn=<SoftmaxBackward0>)\n",
            "tensor([[0, 1, 0]], device='cuda:0')\n",
            "tensor([[6.2960e-04, 9.9894e-01, 4.3408e-04]], device='cuda:0',\n",
            "       grad_fn=<SoftmaxBackward0>)\n",
            "tensor([[0, 0, 1]], device='cuda:0')\n",
            "tensor([[1.1749e-03, 7.7735e-04, 9.9805e-01]], device='cuda:0',\n",
            "       grad_fn=<SoftmaxBackward0>)\n",
            "tensor([[0, 1, 0]], device='cuda:0')\n",
            "tensor([[2.7933e-04, 9.9944e-01, 2.8159e-04]], device='cuda:0',\n",
            "       grad_fn=<SoftmaxBackward0>)\n",
            "tensor([[0, 1, 0]], device='cuda:0')\n",
            "tensor([[3.0286e-04, 9.9942e-01, 2.7910e-04]], device='cuda:0',\n",
            "       grad_fn=<SoftmaxBackward0>)\n",
            "tensor([[0, 1, 0]], device='cuda:0')\n",
            "tensor([[2.1587e-04, 9.9953e-01, 2.5859e-04]], device='cuda:0',\n",
            "       grad_fn=<SoftmaxBackward0>)\n",
            "tensor([[0, 1, 0]], device='cuda:0')\n",
            "tensor([[2.7107e-04, 9.9957e-01, 1.6013e-04]], device='cuda:0',\n",
            "       grad_fn=<SoftmaxBackward0>)\n",
            "tensor([[0, 1, 0]], device='cuda:0')\n",
            "tensor([[2.1402e-04, 9.9959e-01, 1.9946e-04]], device='cuda:0',\n",
            "       grad_fn=<SoftmaxBackward0>)\n",
            "tensor([[0, 1, 0]], device='cuda:0')\n",
            "tensor([[5.0440e-04, 9.9884e-01, 6.5066e-04]], device='cuda:0',\n",
            "       grad_fn=<SoftmaxBackward0>)\n",
            "tensor([[0, 1, 0]], device='cuda:0')\n",
            "tensor([[2.1829e-04, 9.9949e-01, 2.9648e-04]], device='cuda:0',\n",
            "       grad_fn=<SoftmaxBackward0>)\n",
            "tensor([[0, 1, 0]], device='cuda:0')\n",
            "tensor([[2.2999e-04, 9.9957e-01, 2.0275e-04]], device='cuda:0',\n",
            "       grad_fn=<SoftmaxBackward0>)\n",
            "tensor([[0, 1, 0]], device='cuda:0')\n",
            "tensor([[2.3629e-04, 9.9958e-01, 1.8195e-04]], device='cuda:0',\n",
            "       grad_fn=<SoftmaxBackward0>)\n",
            "tensor([[0, 0, 1]], device='cuda:0')\n",
            "tensor([[1.1384e-03, 9.4560e-04, 9.9792e-01]], device='cuda:0',\n",
            "       grad_fn=<SoftmaxBackward0>)\n",
            "tensor([[0, 1, 0]], device='cuda:0')\n",
            "tensor([[2.3964e-04, 9.9942e-01, 3.4463e-04]], device='cuda:0',\n",
            "       grad_fn=<SoftmaxBackward0>)\n",
            "tensor([[0, 1, 0]], device='cuda:0')\n",
            "tensor([[1.9590e-04, 9.9952e-01, 2.8248e-04]], device='cuda:0',\n",
            "       grad_fn=<SoftmaxBackward0>)\n",
            "tensor([[0, 1, 0]], device='cuda:0')\n",
            "tensor([[2.0830e-04, 9.9958e-01, 2.0931e-04]], device='cuda:0',\n",
            "       grad_fn=<SoftmaxBackward0>)\n",
            "tensor([[1, 0, 0]], device='cuda:0')\n",
            "tensor([[9.9841e-01, 7.2181e-04, 8.7037e-04]], device='cuda:0',\n",
            "       grad_fn=<SoftmaxBackward0>)\n",
            "tensor([[0, 1, 0]], device='cuda:0')\n",
            "tensor([[1.8069e-04, 9.9961e-01, 2.1206e-04]], device='cuda:0',\n",
            "       grad_fn=<SoftmaxBackward0>)\n",
            "tensor([[0, 1, 0]], device='cuda:0')\n",
            "tensor([[2.0343e-04, 9.9956e-01, 2.3743e-04]], device='cuda:0',\n",
            "       grad_fn=<SoftmaxBackward0>)\n",
            "tensor([[0, 1, 0]], device='cuda:0')\n",
            "tensor([[3.2133e-04, 9.9948e-01, 1.9616e-04]], device='cuda:0',\n",
            "       grad_fn=<SoftmaxBackward0>)\n",
            "tensor([[0, 0, 1]], device='cuda:0')\n",
            "tensor([[9.2728e-04, 5.1116e-04, 9.9856e-01]], device='cuda:0',\n",
            "       grad_fn=<SoftmaxBackward0>)\n",
            "tensor([[0, 1, 0]], device='cuda:0')\n",
            "tensor([[2.2615e-04, 9.9950e-01, 2.7441e-04]], device='cuda:0',\n",
            "       grad_fn=<SoftmaxBackward0>)\n",
            "tensor([[0, 1, 0]], device='cuda:0')\n",
            "tensor([[2.7768e-04, 9.9937e-01, 3.4849e-04]], device='cuda:0',\n",
            "       grad_fn=<SoftmaxBackward0>)\n",
            "tensor([[0, 1, 0]], device='cuda:0')\n",
            "tensor([[2.1042e-04, 9.9960e-01, 1.9213e-04]], device='cuda:0',\n",
            "       grad_fn=<SoftmaxBackward0>)\n",
            "tensor([[1, 0, 0]], device='cuda:0')\n",
            "tensor([[9.9277e-01, 6.3153e-03, 9.1334e-04]], device='cuda:0',\n",
            "       grad_fn=<SoftmaxBackward0>)\n",
            "tensor([[0, 1, 0]], device='cuda:0')\n",
            "tensor([[2.1919e-04, 9.9963e-01, 1.5207e-04]], device='cuda:0',\n",
            "       grad_fn=<SoftmaxBackward0>)\n",
            "tensor([[0, 1, 0]], device='cuda:0')\n",
            "tensor([[2.0285e-04, 9.9952e-01, 2.8152e-04]], device='cuda:0',\n",
            "       grad_fn=<SoftmaxBackward0>)\n",
            "tensor([[0, 1, 0]], device='cuda:0')\n",
            "tensor([[2.2386e-04, 9.9954e-01, 2.3183e-04]], device='cuda:0',\n",
            "       grad_fn=<SoftmaxBackward0>)\n",
            "tensor([[0, 1, 0]], device='cuda:0')\n",
            "tensor([[2.2243e-04, 9.9948e-01, 2.9895e-04]], device='cuda:0',\n",
            "       grad_fn=<SoftmaxBackward0>)\n",
            "tensor([[0, 1, 0]], device='cuda:0')\n",
            "tensor([[2.4040e-04, 9.9952e-01, 2.4176e-04]], device='cuda:0',\n",
            "       grad_fn=<SoftmaxBackward0>)\n",
            "tensor([[0, 1, 0]], device='cuda:0')\n",
            "tensor([[2.1576e-04, 9.9954e-01, 2.4132e-04]], device='cuda:0',\n",
            "       grad_fn=<SoftmaxBackward0>)\n",
            "tensor([[0, 0, 1]], device='cuda:0')\n",
            "tensor([[9.6124e-04, 5.1723e-04, 9.9852e-01]], device='cuda:0',\n",
            "       grad_fn=<SoftmaxBackward0>)\n",
            "tensor([[0, 0, 1]], device='cuda:0')\n",
            "tensor([[9.8382e-01, 4.2178e-04, 1.5755e-02]], device='cuda:0',\n",
            "       grad_fn=<SoftmaxBackward0>)\n",
            "tensor([[0, 1, 0]], device='cuda:0')\n",
            "tensor([[6.4666e-04, 9.9848e-01, 8.7197e-04]], device='cuda:0',\n",
            "       grad_fn=<SoftmaxBackward0>)\n",
            "tensor([[0, 1, 0]], device='cuda:0')\n",
            "tensor([[2.0787e-04, 9.9951e-01, 2.7994e-04]], device='cuda:0',\n",
            "       grad_fn=<SoftmaxBackward0>)\n",
            "tensor([[1, 0, 0]], device='cuda:0')\n",
            "tensor([[9.9857e-01, 6.9270e-04, 7.3486e-04]], device='cuda:0',\n",
            "       grad_fn=<SoftmaxBackward0>)\n",
            "tensor([[0, 1, 0]], device='cuda:0')\n",
            "tensor([[3.4063e-04, 9.9939e-01, 2.6557e-04]], device='cuda:0',\n",
            "       grad_fn=<SoftmaxBackward0>)\n",
            "tensor([[0, 1, 0]], device='cuda:0')\n",
            "tensor([[1.6163e-04, 9.9963e-01, 2.0981e-04]], device='cuda:0',\n",
            "       grad_fn=<SoftmaxBackward0>)\n",
            "tensor([[1, 0, 0]], device='cuda:0')\n",
            "tensor([[9.9717e-01, 2.0646e-03, 7.6140e-04]], device='cuda:0',\n",
            "       grad_fn=<SoftmaxBackward0>)\n",
            "tensor([[0, 0, 1]], device='cuda:0')\n",
            "tensor([[9.9237e-04, 4.9013e-04, 9.9852e-01]], device='cuda:0',\n",
            "       grad_fn=<SoftmaxBackward0>)\n",
            "tensor([[1, 0, 0]], device='cuda:0')\n",
            "tensor([[9.9840e-01, 7.7187e-04, 8.3287e-04]], device='cuda:0',\n",
            "       grad_fn=<SoftmaxBackward0>)\n",
            "tensor([[0, 1, 0]], device='cuda:0')\n",
            "tensor([[3.7766e-04, 9.9937e-01, 2.4985e-04]], device='cuda:0',\n",
            "       grad_fn=<SoftmaxBackward0>)\n",
            "tensor([[0, 1, 0]], device='cuda:0')\n",
            "tensor([[1.7019e-04, 9.9961e-01, 2.1541e-04]], device='cuda:0',\n",
            "       grad_fn=<SoftmaxBackward0>)\n",
            "tensor([[0, 1, 0]], device='cuda:0')\n",
            "tensor([[2.1609e-04, 9.9947e-01, 3.1243e-04]], device='cuda:0',\n",
            "       grad_fn=<SoftmaxBackward0>)\n",
            "tensor([[1, 0, 0]], device='cuda:0')\n",
            "tensor([[2.4995e-04, 9.9954e-01, 2.1503e-04]], device='cuda:0',\n",
            "       grad_fn=<SoftmaxBackward0>)\n",
            "tensor([[0, 1, 0]], device='cuda:0')\n",
            "tensor([[7.6848e-04, 7.0632e-04, 9.9853e-01]], device='cuda:0',\n",
            "       grad_fn=<SoftmaxBackward0>)\n",
            "tensor([[0, 0, 1]], device='cuda:0')\n",
            "tensor([[1.5802e-03, 3.8138e-04, 9.9804e-01]], device='cuda:0',\n",
            "       grad_fn=<SoftmaxBackward0>)\n",
            "tensor([[0, 0, 1]], device='cuda:0')\n",
            "tensor([[9.3261e-04, 5.3395e-04, 9.9853e-01]], device='cuda:0',\n",
            "       grad_fn=<SoftmaxBackward0>)\n",
            "tensor([[0, 0, 1]], device='cuda:0')\n",
            "tensor([[9.6552e-04, 5.0339e-04, 9.9853e-01]], device='cuda:0',\n",
            "       grad_fn=<SoftmaxBackward0>)\n",
            "tensor([[0, 1, 0]], device='cuda:0')\n",
            "tensor([[2.2097e-04, 9.9953e-01, 2.4706e-04]], device='cuda:0',\n",
            "       grad_fn=<SoftmaxBackward0>)\n",
            "tensor([[1, 0, 0]], device='cuda:0')\n",
            "tensor([[2.3903e-01, 4.8963e-04, 7.6048e-01]], device='cuda:0',\n",
            "       grad_fn=<SoftmaxBackward0>)\n",
            "tensor([[1, 0, 0]], device='cuda:0')\n",
            "tensor([[9.9818e-01, 1.0058e-03, 8.1569e-04]], device='cuda:0',\n",
            "       grad_fn=<SoftmaxBackward0>)\n",
            "tensor([[0, 1, 0]], device='cuda:0')\n",
            "tensor([[2.0607e-04, 9.9956e-01, 2.2919e-04]], device='cuda:0',\n",
            "       grad_fn=<SoftmaxBackward0>)\n",
            "tensor([[1, 0, 0]], device='cuda:0')\n",
            "tensor([[1.1176e-03, 5.5869e-04, 9.9832e-01]], device='cuda:0',\n",
            "       grad_fn=<SoftmaxBackward0>)\n",
            "tensor([[0, 1, 0]], device='cuda:0')\n",
            "tensor([[9.9822e-01, 7.2559e-04, 1.0494e-03]], device='cuda:0',\n",
            "       grad_fn=<SoftmaxBackward0>)\n",
            "tensor([[0, 1, 0]], device='cuda:0')\n",
            "tensor([[2.3977e-04, 9.9960e-01, 1.5752e-04]], device='cuda:0',\n",
            "       grad_fn=<SoftmaxBackward0>)\n",
            "tensor([[0, 1, 0]], device='cuda:0')\n",
            "tensor([[1.9293e-04, 9.9962e-01, 1.8254e-04]], device='cuda:0',\n",
            "       grad_fn=<SoftmaxBackward0>)\n",
            "tensor([[0, 1, 0]], device='cuda:0')\n",
            "tensor([[2.2052e-04, 9.9956e-01, 2.1538e-04]], device='cuda:0',\n",
            "       grad_fn=<SoftmaxBackward0>)\n",
            "tensor([[0, 1, 0]], device='cuda:0')\n",
            "tensor([[2.1583e-04, 9.9960e-01, 1.8531e-04]], device='cuda:0',\n",
            "       grad_fn=<SoftmaxBackward0>)\n",
            "tensor([[0, 1, 0]], device='cuda:0')\n",
            "tensor([[3.0774e-04, 9.9946e-01, 2.3076e-04]], device='cuda:0',\n",
            "       grad_fn=<SoftmaxBackward0>)\n",
            "tensor([[0, 0, 1]], device='cuda:0')\n",
            "tensor([[1.5083e-03, 3.6143e-04, 9.9813e-01]], device='cuda:0',\n",
            "       grad_fn=<SoftmaxBackward0>)\n",
            "tensor([[0, 1, 0]], device='cuda:0')\n",
            "tensor([[4.1825e-04, 9.9928e-01, 3.0177e-04]], device='cuda:0',\n",
            "       grad_fn=<SoftmaxBackward0>)\n",
            "tensor([[1, 0, 0]], device='cuda:0')\n",
            "tensor([[9.9854e-01, 6.8775e-04, 7.7667e-04]], device='cuda:0',\n",
            "       grad_fn=<SoftmaxBackward0>)\n",
            "tensor([[0, 1, 0]], device='cuda:0')\n",
            "tensor([[2.0918e-04, 9.9959e-01, 1.9824e-04]], device='cuda:0',\n",
            "       grad_fn=<SoftmaxBackward0>)\n",
            "tensor([[0, 1, 0]], device='cuda:0')\n",
            "tensor([[3.1126e-04, 9.9943e-01, 2.5631e-04]], device='cuda:0',\n",
            "       grad_fn=<SoftmaxBackward0>)\n",
            "tensor([[0, 1, 0]], device='cuda:0')\n",
            "tensor([[3.0006e-04, 9.9949e-01, 2.0552e-04]], device='cuda:0',\n",
            "       grad_fn=<SoftmaxBackward0>)\n",
            "tensor([[0, 1, 0]], device='cuda:0')\n",
            "tensor([[2.1244e-04, 9.9958e-01, 2.0737e-04]], device='cuda:0',\n",
            "       grad_fn=<SoftmaxBackward0>)\n",
            "tensor([[0, 1, 0]], device='cuda:0')\n",
            "tensor([[9.9803e-01, 1.0821e-03, 8.9019e-04]], device='cuda:0',\n",
            "       grad_fn=<SoftmaxBackward0>)\n",
            "tensor([[0, 1, 0]], device='cuda:0')\n",
            "tensor([[2.5621e-04, 9.9887e-01, 8.7493e-04]], device='cuda:0',\n",
            "       grad_fn=<SoftmaxBackward0>)\n",
            "tensor([[0, 1, 0]], device='cuda:0')\n",
            "tensor([[2.5726e-04, 9.9945e-01, 2.9159e-04]], device='cuda:0',\n",
            "       grad_fn=<SoftmaxBackward0>)\n",
            "tensor([[0, 1, 0]], device='cuda:0')\n",
            "tensor([[3.3103e-04, 9.9946e-01, 2.0593e-04]], device='cuda:0',\n",
            "       grad_fn=<SoftmaxBackward0>)\n",
            "tensor([[0, 0, 1]], device='cuda:0')\n",
            "tensor([[1.1324e-03, 4.8418e-04, 9.9838e-01]], device='cuda:0',\n",
            "       grad_fn=<SoftmaxBackward0>)\n",
            "tensor([[1, 0, 0]], device='cuda:0')\n",
            "tensor([[9.9839e-01, 8.5216e-04, 7.5510e-04]], device='cuda:0',\n",
            "       grad_fn=<SoftmaxBackward0>)\n",
            "tensor([[0, 1, 0]], device='cuda:0')\n",
            "tensor([[0.9465, 0.0517, 0.0018]], device='cuda:0', grad_fn=<SoftmaxBackward0>)\n",
            "tensor([[0, 1, 0]], device='cuda:0')\n",
            "tensor([[1.9502e-04, 9.9962e-01, 1.8837e-04]], device='cuda:0',\n",
            "       grad_fn=<SoftmaxBackward0>)\n",
            "tensor([[1, 0, 0]], device='cuda:0')\n",
            "tensor([[9.9849e-01, 7.8605e-04, 7.2888e-04]], device='cuda:0',\n",
            "       grad_fn=<SoftmaxBackward0>)\n",
            "tensor([[1, 0, 0]], device='cuda:0')\n",
            "tensor([[9.9839e-01, 8.3400e-04, 7.7341e-04]], device='cuda:0',\n",
            "       grad_fn=<SoftmaxBackward0>)\n",
            "tensor([[0, 1, 0]], device='cuda:0')\n",
            "tensor([[2.8716e-04, 9.9947e-01, 2.3965e-04]], device='cuda:0',\n",
            "       grad_fn=<SoftmaxBackward0>)\n",
            "tensor([[0, 1, 0]], device='cuda:0')\n",
            "tensor([[0.7753, 0.2205, 0.0041]], device='cuda:0', grad_fn=<SoftmaxBackward0>)\n",
            "tensor([[1, 0, 0]], device='cuda:0')\n",
            "tensor([[9.9848e-01, 7.6876e-04, 7.5105e-04]], device='cuda:0',\n",
            "       grad_fn=<SoftmaxBackward0>)\n",
            "tensor([[0, 1, 0]], device='cuda:0')\n",
            "tensor([[2.0125e-04, 9.9958e-01, 2.2005e-04]], device='cuda:0',\n",
            "       grad_fn=<SoftmaxBackward0>)\n",
            "tensor([[0, 1, 0]], device='cuda:0')\n",
            "tensor([[0.0056, 0.9814, 0.0130]], device='cuda:0', grad_fn=<SoftmaxBackward0>)\n",
            "tensor([[0, 1, 0]], device='cuda:0')\n",
            "tensor([[2.1205e-04, 9.9954e-01, 2.5073e-04]], device='cuda:0',\n",
            "       grad_fn=<SoftmaxBackward0>)\n",
            "tensor([[0, 1, 0]], device='cuda:0')\n",
            "tensor([[2.9371e-04, 9.9947e-01, 2.3142e-04]], device='cuda:0',\n",
            "       grad_fn=<SoftmaxBackward0>)\n",
            "tensor([[0, 0, 1]], device='cuda:0')\n",
            "tensor([[1.1039e-03, 4.8663e-04, 9.9841e-01]], device='cuda:0',\n",
            "       grad_fn=<SoftmaxBackward0>)\n",
            "tensor([[1, 0, 0]], device='cuda:0')\n",
            "tensor([[9.9842e-01, 7.6485e-04, 8.1967e-04]], device='cuda:0',\n",
            "       grad_fn=<SoftmaxBackward0>)\n",
            "tensor([[0, 0, 1]], device='cuda:0')\n",
            "tensor([[7.8980e-04, 6.3822e-04, 9.9857e-01]], device='cuda:0',\n",
            "       grad_fn=<SoftmaxBackward0>)\n",
            "tensor([[0, 1, 0]], device='cuda:0')\n",
            "tensor([[6.5376e-04, 9.9862e-01, 7.2249e-04]], device='cuda:0',\n",
            "       grad_fn=<SoftmaxBackward0>)\n",
            "tensor([[0, 1, 0]], device='cuda:0')\n",
            "tensor([[1.0624e-03, 9.9849e-01, 4.5056e-04]], device='cuda:0',\n",
            "       grad_fn=<SoftmaxBackward0>)\n",
            "tensor([[0, 1, 0]], device='cuda:0')\n",
            "tensor([[2.6113e-04, 9.9953e-01, 2.0465e-04]], device='cuda:0',\n",
            "       grad_fn=<SoftmaxBackward0>)\n",
            "tensor([[0, 1, 0]], device='cuda:0')\n",
            "tensor([[1.7821e-04, 9.9953e-01, 2.9293e-04]], device='cuda:0',\n",
            "       grad_fn=<SoftmaxBackward0>)\n",
            "tensor([[0, 0, 1]], device='cuda:0')\n",
            "tensor([[8.4867e-04, 6.4312e-04, 9.9851e-01]], device='cuda:0',\n",
            "       grad_fn=<SoftmaxBackward0>)\n",
            "tensor([[0, 1, 0]], device='cuda:0')\n",
            "tensor([[2.0391e-04, 9.9951e-01, 2.8392e-04]], device='cuda:0',\n",
            "       grad_fn=<SoftmaxBackward0>)\n",
            "tensor([[0, 1, 0]], device='cuda:0')\n",
            "tensor([[2.5226e-04, 9.9955e-01, 1.9859e-04]], device='cuda:0',\n",
            "       grad_fn=<SoftmaxBackward0>)\n",
            "tensor([[0, 0, 1]], device='cuda:0')\n",
            "tensor([[1.0017e-03, 5.0996e-04, 9.9849e-01]], device='cuda:0',\n",
            "       grad_fn=<SoftmaxBackward0>)\n",
            "tensor([[1, 0, 0]], device='cuda:0')\n",
            "tensor([[9.9849e-01, 8.0779e-04, 7.0064e-04]], device='cuda:0',\n",
            "       grad_fn=<SoftmaxBackward0>)\n",
            "tensor([[1, 0, 0]], device='cuda:0')\n",
            "tensor([[9.9847e-01, 8.0903e-04, 7.2051e-04]], device='cuda:0',\n",
            "       grad_fn=<SoftmaxBackward0>)\n",
            "tensor([[0, 1, 0]], device='cuda:0')\n",
            "tensor([[1.9774e-04, 9.9957e-01, 2.3288e-04]], device='cuda:0',\n",
            "       grad_fn=<SoftmaxBackward0>)\n",
            "tensor([[0, 1, 0]], device='cuda:0')\n",
            "tensor([[3.1231e-04, 9.9943e-01, 2.6103e-04]], device='cuda:0',\n",
            "       grad_fn=<SoftmaxBackward0>)\n",
            "tensor([[1, 0, 0]], device='cuda:0')\n",
            "tensor([[9.9841e-01, 8.4993e-04, 7.4049e-04]], device='cuda:0',\n",
            "       grad_fn=<SoftmaxBackward0>)\n",
            "tensor([[0, 1, 0]], device='cuda:0')\n",
            "tensor([[5.6597e-04, 9.9920e-01, 2.2994e-04]], device='cuda:0',\n",
            "       grad_fn=<SoftmaxBackward0>)\n",
            "tensor([[0, 1, 0]], device='cuda:0')\n",
            "tensor([[4.3559e-04, 9.9937e-01, 1.9170e-04]], device='cuda:0',\n",
            "       grad_fn=<SoftmaxBackward0>)\n",
            "tensor([[0, 1, 0]], device='cuda:0')\n",
            "tensor([[2.2957e-04, 9.9953e-01, 2.3557e-04]], device='cuda:0',\n",
            "       grad_fn=<SoftmaxBackward0>)\n",
            "tensor([[1, 0, 0]], device='cuda:0')\n",
            "tensor([[0.7440, 0.2518, 0.0042]], device='cuda:0', grad_fn=<SoftmaxBackward0>)\n",
            "tensor([[0, 1, 0]], device='cuda:0')\n",
            "tensor([[4.2699e-04, 9.9934e-01, 2.3131e-04]], device='cuda:0',\n",
            "       grad_fn=<SoftmaxBackward0>)\n",
            "tensor([[0, 1, 0]], device='cuda:0')\n",
            "tensor([[3.2288e-04, 9.9937e-01, 3.0733e-04]], device='cuda:0',\n",
            "       grad_fn=<SoftmaxBackward0>)\n",
            "tensor([[1, 0, 0]], device='cuda:0')\n",
            "tensor([[9.9849e-01, 7.6831e-04, 7.4637e-04]], device='cuda:0',\n",
            "       grad_fn=<SoftmaxBackward0>)\n",
            "tensor([[1, 0, 0]], device='cuda:0')\n",
            "tensor([[9.9821e-01, 9.4168e-04, 8.4455e-04]], device='cuda:0',\n",
            "       grad_fn=<SoftmaxBackward0>)\n",
            "tensor([[1, 0, 0]], device='cuda:0')\n",
            "tensor([[9.9840e-01, 8.6639e-04, 7.3067e-04]], device='cuda:0',\n",
            "       grad_fn=<SoftmaxBackward0>)\n",
            "tensor([[0, 1, 0]], device='cuda:0')\n",
            "tensor([[2.0161e-04, 9.9953e-01, 2.7038e-04]], device='cuda:0',\n",
            "       grad_fn=<SoftmaxBackward0>)\n",
            "tensor([[0, 0, 1]], device='cuda:0')\n",
            "tensor([[0.0041, 0.0342, 0.9618]], device='cuda:0', grad_fn=<SoftmaxBackward0>)\n",
            "tensor([[0, 1, 0]], device='cuda:0')\n",
            "tensor([[4.3256e-04, 9.9938e-01, 1.8640e-04]], device='cuda:0',\n",
            "       grad_fn=<SoftmaxBackward0>)\n",
            "tensor([[0, 1, 0]], device='cuda:0')\n",
            "tensor([[1.8436e-04, 9.9962e-01, 1.9980e-04]], device='cuda:0',\n",
            "       grad_fn=<SoftmaxBackward0>)\n",
            "tensor([[0, 1, 0]], device='cuda:0')\n",
            "tensor([[5.8938e-04, 9.9902e-01, 3.8671e-04]], device='cuda:0',\n",
            "       grad_fn=<SoftmaxBackward0>)\n",
            "tensor([[1, 0, 0]], device='cuda:0')\n",
            "tensor([[9.9840e-01, 8.4162e-04, 7.5560e-04]], device='cuda:0',\n",
            "       grad_fn=<SoftmaxBackward0>)\n",
            "tensor([[0, 1, 0]], device='cuda:0')\n",
            "tensor([[4.7030e-04, 9.9930e-01, 2.3426e-04]], device='cuda:0',\n",
            "       grad_fn=<SoftmaxBackward0>)\n",
            "tensor([[0, 1, 0]], device='cuda:0')\n",
            "tensor([[2.7068e-04, 9.9948e-01, 2.4874e-04]], device='cuda:0',\n",
            "       grad_fn=<SoftmaxBackward0>)\n",
            "tensor([[0, 1, 0]], device='cuda:0')\n",
            "tensor([[3.5734e-04, 9.9942e-01, 2.2051e-04]], device='cuda:0',\n",
            "       grad_fn=<SoftmaxBackward0>)\n",
            "tensor([[0, 1, 0]], device='cuda:0')\n",
            "tensor([[4.2623e-04, 9.9926e-01, 3.1366e-04]], device='cuda:0',\n",
            "       grad_fn=<SoftmaxBackward0>)\n",
            "tensor([[0, 1, 0]], device='cuda:0')\n",
            "tensor([[1.3717e-03, 9.9829e-01, 3.3361e-04]], device='cuda:0',\n",
            "       grad_fn=<SoftmaxBackward0>)\n",
            "tensor([[0, 1, 0]], device='cuda:0')\n",
            "tensor([[2.6616e-04, 9.9954e-01, 1.9703e-04]], device='cuda:0',\n",
            "       grad_fn=<SoftmaxBackward0>)\n",
            "tensor([[0, 1, 0]], device='cuda:0')\n",
            "tensor([[2.5250e-04, 9.9958e-01, 1.7028e-04]], device='cuda:0',\n",
            "       grad_fn=<SoftmaxBackward0>)\n",
            "tensor([[0, 1, 0]], device='cuda:0')\n",
            "tensor([[2.6085e-04, 9.9945e-01, 2.8643e-04]], device='cuda:0',\n",
            "       grad_fn=<SoftmaxBackward0>)\n",
            "tensor([[0, 1, 0]], device='cuda:0')\n",
            "tensor([[2.8015e-04, 9.9927e-01, 4.4770e-04]], device='cuda:0',\n",
            "       grad_fn=<SoftmaxBackward0>)\n",
            "tensor([[0, 1, 0]], device='cuda:0')\n",
            "tensor([[1.9204e-04, 9.9961e-01, 1.9920e-04]], device='cuda:0',\n",
            "       grad_fn=<SoftmaxBackward0>)\n",
            "tensor([[0, 1, 0]], device='cuda:0')\n",
            "tensor([[8.6796e-04, 9.9871e-01, 4.2261e-04]], device='cuda:0',\n",
            "       grad_fn=<SoftmaxBackward0>)\n",
            "tensor([[0, 0, 1]], device='cuda:0')\n",
            "tensor([[1.1218e-03, 4.3201e-04, 9.9845e-01]], device='cuda:0',\n",
            "       grad_fn=<SoftmaxBackward0>)\n",
            "tensor([[0, 1, 0]], device='cuda:0')\n",
            "tensor([[2.1021e-04, 9.9958e-01, 2.1395e-04]], device='cuda:0',\n",
            "       grad_fn=<SoftmaxBackward0>)\n",
            "tensor([[0, 1, 0]], device='cuda:0')\n",
            "tensor([[1.8385e-04, 9.9963e-01, 1.8936e-04]], device='cuda:0',\n",
            "       grad_fn=<SoftmaxBackward0>)\n",
            "tensor([[0, 1, 0]], device='cuda:0')\n",
            "tensor([[2.4434e-04, 9.9955e-01, 2.0190e-04]], device='cuda:0',\n",
            "       grad_fn=<SoftmaxBackward0>)\n",
            "tensor([[0, 1, 0]], device='cuda:0')\n",
            "tensor([[2.3319e-04, 9.9955e-01, 2.1437e-04]], device='cuda:0',\n",
            "       grad_fn=<SoftmaxBackward0>)\n",
            "tensor([[0, 1, 0]], device='cuda:0')\n",
            "tensor([[2.3477e-04, 9.9954e-01, 2.2345e-04]], device='cuda:0',\n",
            "       grad_fn=<SoftmaxBackward0>)\n",
            "tensor([[0, 1, 0]], device='cuda:0')\n",
            "tensor([[3.9396e-04, 9.9936e-01, 2.4854e-04]], device='cuda:0',\n",
            "       grad_fn=<SoftmaxBackward0>)\n",
            "tensor([[0, 1, 0]], device='cuda:0')\n",
            "tensor([[2.7835e-02, 9.7129e-01, 8.7643e-04]], device='cuda:0',\n",
            "       grad_fn=<SoftmaxBackward0>)\n",
            "tensor([[0, 1, 0]], device='cuda:0')\n",
            "tensor([[2.8555e-04, 9.9950e-01, 2.1398e-04]], device='cuda:0',\n",
            "       grad_fn=<SoftmaxBackward0>)\n",
            "tensor([[0, 1, 0]], device='cuda:0')\n",
            "tensor([[2.0950e-04, 9.9956e-01, 2.2867e-04]], device='cuda:0',\n",
            "       grad_fn=<SoftmaxBackward0>)\n",
            "tensor([[0, 1, 0]], device='cuda:0')\n",
            "tensor([[8.2817e-04, 9.9883e-01, 3.4197e-04]], device='cuda:0',\n",
            "       grad_fn=<SoftmaxBackward0>)\n",
            "tensor([[0, 1, 0]], device='cuda:0')\n",
            "tensor([[1.8322e-04, 9.9959e-01, 2.3138e-04]], device='cuda:0',\n",
            "       grad_fn=<SoftmaxBackward0>)\n",
            "tensor([[0, 1, 0]], device='cuda:0')\n",
            "tensor([[8.7630e-04, 2.0832e-03, 9.9704e-01]], device='cuda:0',\n",
            "       grad_fn=<SoftmaxBackward0>)\n",
            "tensor([[0, 1, 0]], device='cuda:0')\n",
            "tensor([[2.7921e-04, 9.9935e-01, 3.7089e-04]], device='cuda:0',\n",
            "       grad_fn=<SoftmaxBackward0>)\n",
            "tensor([[0, 1, 0]], device='cuda:0')\n",
            "tensor([[2.9652e-04, 9.9940e-01, 3.0587e-04]], device='cuda:0',\n",
            "       grad_fn=<SoftmaxBackward0>)\n",
            "tensor([[0, 1, 0]], device='cuda:0')\n",
            "tensor([[2.1029e-04, 9.9952e-01, 2.7149e-04]], device='cuda:0',\n",
            "       grad_fn=<SoftmaxBackward0>)\n",
            "tensor([[1, 0, 0]], device='cuda:0')\n",
            "tensor([[9.9833e-01, 8.6597e-04, 8.0069e-04]], device='cuda:0',\n",
            "       grad_fn=<SoftmaxBackward0>)\n",
            "tensor([[0, 1, 0]], device='cuda:0')\n",
            "tensor([[0.9973, 0.0017, 0.0010]], device='cuda:0', grad_fn=<SoftmaxBackward0>)\n",
            "tensor([[1, 0, 0]], device='cuda:0')\n",
            "tensor([[9.9806e-01, 5.3323e-04, 1.4032e-03]], device='cuda:0',\n",
            "       grad_fn=<SoftmaxBackward0>)\n",
            "tensor([[0, 1, 0]], device='cuda:0')\n",
            "tensor([[2.1247e-04, 9.9956e-01, 2.2327e-04]], device='cuda:0',\n",
            "       grad_fn=<SoftmaxBackward0>)\n",
            "tensor([[0, 1, 0]], device='cuda:0')\n",
            "tensor([[3.2647e-04, 9.9942e-01, 2.5065e-04]], device='cuda:0',\n",
            "       grad_fn=<SoftmaxBackward0>)\n",
            "tensor([[0, 1, 0]], device='cuda:0')\n",
            "tensor([[2.1737e-04, 9.9958e-01, 2.0301e-04]], device='cuda:0',\n",
            "       grad_fn=<SoftmaxBackward0>)\n",
            "tensor([[1, 0, 0]], device='cuda:0')\n",
            "tensor([[9.9850e-01, 7.4827e-04, 7.5416e-04]], device='cuda:0',\n",
            "       grad_fn=<SoftmaxBackward0>)\n",
            "tensor([[0, 1, 0]], device='cuda:0')\n",
            "tensor([[1.2070e-02, 9.8722e-01, 7.0921e-04]], device='cuda:0',\n",
            "       grad_fn=<SoftmaxBackward0>)\n",
            "tensor([[0, 1, 0]], device='cuda:0')\n",
            "tensor([[3.7020e-03, 9.9577e-01, 5.2536e-04]], device='cuda:0',\n",
            "       grad_fn=<SoftmaxBackward0>)\n",
            "tensor([[0, 1, 0]], device='cuda:0')\n",
            "tensor([[1.9342e-04, 9.9961e-01, 2.0022e-04]], device='cuda:0',\n",
            "       grad_fn=<SoftmaxBackward0>)\n",
            "tensor([[0, 1, 0]], device='cuda:0')\n",
            "tensor([[3.6018e-04, 9.9935e-01, 2.8829e-04]], device='cuda:0',\n",
            "       grad_fn=<SoftmaxBackward0>)\n",
            "tensor([[0, 1, 0]], device='cuda:0')\n",
            "tensor([[1.7703e-04, 9.9949e-01, 3.3667e-04]], device='cuda:0',\n",
            "       grad_fn=<SoftmaxBackward0>)\n",
            "tensor([[0, 1, 0]], device='cuda:0')\n",
            "tensor([[4.1841e-04, 9.9922e-01, 3.6375e-04]], device='cuda:0',\n",
            "       grad_fn=<SoftmaxBackward0>)\n",
            "tensor([[0, 1, 0]], device='cuda:0')\n",
            "tensor([[1.9804e-04, 9.9956e-01, 2.3773e-04]], device='cuda:0',\n",
            "       grad_fn=<SoftmaxBackward0>)\n",
            "tensor([[0, 1, 0]], device='cuda:0')\n",
            "tensor([[2.0883e-04, 9.9959e-01, 1.9749e-04]], device='cuda:0',\n",
            "       grad_fn=<SoftmaxBackward0>)\n",
            "tensor([[0, 1, 0]], device='cuda:0')\n",
            "tensor([[1.7221e-04, 9.9962e-01, 2.0847e-04]], device='cuda:0',\n",
            "       grad_fn=<SoftmaxBackward0>)\n",
            "tensor([[1, 0, 0]], device='cuda:0')\n",
            "tensor([[9.9817e-01, 8.3395e-04, 9.9772e-04]], device='cuda:0',\n",
            "       grad_fn=<SoftmaxBackward0>)\n",
            "tensor([[0, 1, 0]], device='cuda:0')\n",
            "tensor([[3.2857e-04, 9.9946e-01, 2.1301e-04]], device='cuda:0',\n",
            "       grad_fn=<SoftmaxBackward0>)\n",
            "tensor([[0, 1, 0]], device='cuda:0')\n",
            "tensor([[2.1145e-04, 9.9935e-01, 4.3373e-04]], device='cuda:0',\n",
            "       grad_fn=<SoftmaxBackward0>)\n",
            "tensor([[0, 1, 0]], device='cuda:0')\n",
            "tensor([[2.1585e-04, 9.9957e-01, 2.1858e-04]], device='cuda:0',\n",
            "       grad_fn=<SoftmaxBackward0>)\n",
            "tensor([[0, 1, 0]], device='cuda:0')\n",
            "tensor([[3.6140e-04, 9.9919e-01, 4.4722e-04]], device='cuda:0',\n",
            "       grad_fn=<SoftmaxBackward0>)\n",
            "tensor([[1, 0, 0]], device='cuda:0')\n",
            "tensor([[9.4005e-01, 6.0497e-04, 5.9342e-02]], device='cuda:0',\n",
            "       grad_fn=<SoftmaxBackward0>)\n",
            "tensor([[0, 1, 0]], device='cuda:0')\n",
            "tensor([[3.0494e-04, 9.9938e-01, 3.1432e-04]], device='cuda:0',\n",
            "       grad_fn=<SoftmaxBackward0>)\n",
            "tensor([[0, 1, 0]], device='cuda:0')\n",
            "tensor([[2.1235e-04, 9.9958e-01, 2.0922e-04]], device='cuda:0',\n",
            "       grad_fn=<SoftmaxBackward0>)\n",
            "tensor([[1, 0, 0]], device='cuda:0')\n",
            "tensor([[9.9834e-01, 8.5815e-04, 7.9707e-04]], device='cuda:0',\n",
            "       grad_fn=<SoftmaxBackward0>)\n",
            "tensor([[0, 0, 1]], device='cuda:0')\n",
            "tensor([[1.6920e-04, 9.9939e-01, 4.3964e-04]], device='cuda:0',\n",
            "       grad_fn=<SoftmaxBackward0>)\n",
            "tensor([[0, 1, 0]], device='cuda:0')\n",
            "tensor([[2.0755e-04, 9.9955e-01, 2.4112e-04]], device='cuda:0',\n",
            "       grad_fn=<SoftmaxBackward0>)\n",
            "tensor([[0, 1, 0]], device='cuda:0')\n",
            "tensor([[2.4550e-04, 9.9952e-01, 2.3777e-04]], device='cuda:0',\n",
            "       grad_fn=<SoftmaxBackward0>)\n",
            "tensor([[0, 1, 0]], device='cuda:0')\n",
            "tensor([[2.0321e-04, 9.9958e-01, 2.1906e-04]], device='cuda:0',\n",
            "       grad_fn=<SoftmaxBackward0>)\n",
            "tensor([[0, 1, 0]], device='cuda:0')\n",
            "tensor([[3.0751e-04, 9.9951e-01, 1.8208e-04]], device='cuda:0',\n",
            "       grad_fn=<SoftmaxBackward0>)\n",
            "tensor([[0, 0, 1]], device='cuda:0')\n",
            "tensor([[8.7984e-04, 5.4900e-04, 9.9857e-01]], device='cuda:0',\n",
            "       grad_fn=<SoftmaxBackward0>)\n",
            "tensor([[1, 0, 0]], device='cuda:0')\n",
            "tensor([[9.9850e-01, 6.9042e-04, 8.0888e-04]], device='cuda:0',\n",
            "       grad_fn=<SoftmaxBackward0>)\n",
            "tensor([[0, 1, 0]], device='cuda:0')\n",
            "tensor([[2.3882e-04, 9.9953e-01, 2.3589e-04]], device='cuda:0',\n",
            "       grad_fn=<SoftmaxBackward0>)\n",
            "tensor([[0, 1, 0]], device='cuda:0')\n",
            "tensor([[2.5002e-03, 9.9704e-01, 4.6117e-04]], device='cuda:0',\n",
            "       grad_fn=<SoftmaxBackward0>)\n",
            "tensor([[0, 1, 0]], device='cuda:0')\n",
            "tensor([[2.4652e-04, 9.9955e-01, 1.9909e-04]], device='cuda:0',\n",
            "       grad_fn=<SoftmaxBackward0>)\n",
            "tensor([[0, 1, 0]], device='cuda:0')\n",
            "tensor([[3.6271e-04, 9.9925e-01, 3.8812e-04]], device='cuda:0',\n",
            "       grad_fn=<SoftmaxBackward0>)\n",
            "tensor([[0, 1, 0]], device='cuda:0')\n",
            "tensor([[3.5354e-04, 9.9944e-01, 2.0280e-04]], device='cuda:0',\n",
            "       grad_fn=<SoftmaxBackward0>)\n",
            "tensor([[1, 0, 0]], device='cuda:0')\n",
            "tensor([[9.9625e-01, 3.0133e-03, 7.4160e-04]], device='cuda:0',\n",
            "       grad_fn=<SoftmaxBackward0>)\n",
            "tensor([[0, 1, 0]], device='cuda:0')\n",
            "tensor([[1.8932e-04, 9.9949e-01, 3.2047e-04]], device='cuda:0',\n",
            "       grad_fn=<SoftmaxBackward0>)\n",
            "tensor([[1, 0, 0]], device='cuda:0')\n",
            "tensor([[9.9845e-01, 8.2217e-04, 7.2399e-04]], device='cuda:0',\n",
            "       grad_fn=<SoftmaxBackward0>)\n",
            "tensor([[0, 1, 0]], device='cuda:0')\n",
            "tensor([[2.5038e-04, 9.9958e-01, 1.6868e-04]], device='cuda:0',\n",
            "       grad_fn=<SoftmaxBackward0>)\n",
            "tensor([[1, 0, 0]], device='cuda:0')\n",
            "tensor([[9.9851e-01, 7.6576e-04, 7.2850e-04]], device='cuda:0',\n",
            "       grad_fn=<SoftmaxBackward0>)\n",
            "tensor([[0, 1, 0]], device='cuda:0')\n",
            "tensor([[1.8914e-04, 9.9962e-01, 1.8665e-04]], device='cuda:0',\n",
            "       grad_fn=<SoftmaxBackward0>)\n",
            "tensor([[0, 1, 0]], device='cuda:0')\n",
            "tensor([[2.2486e-04, 9.9954e-01, 2.3197e-04]], device='cuda:0',\n",
            "       grad_fn=<SoftmaxBackward0>)\n",
            "tensor([[0, 1, 0]], device='cuda:0')\n",
            "tensor([[3.3772e-04, 9.9943e-01, 2.2758e-04]], device='cuda:0',\n",
            "       grad_fn=<SoftmaxBackward0>)\n",
            "tensor([[1, 0, 0]], device='cuda:0')\n",
            "tensor([[1.2536e-03, 4.6013e-04, 9.9829e-01]], device='cuda:0',\n",
            "       grad_fn=<SoftmaxBackward0>)\n",
            "tensor([[0, 1, 0]], device='cuda:0')\n",
            "tensor([[2.6554e-04, 9.9950e-01, 2.3613e-04]], device='cuda:0',\n",
            "       grad_fn=<SoftmaxBackward0>)\n",
            "tensor([[1, 0, 0]], device='cuda:0')\n",
            "tensor([[9.9833e-01, 8.7231e-04, 7.9697e-04]], device='cuda:0',\n",
            "       grad_fn=<SoftmaxBackward0>)\n",
            "tensor([[1, 0, 0]], device='cuda:0')\n",
            "tensor([[9.9839e-01, 8.8223e-04, 7.3207e-04]], device='cuda:0',\n",
            "       grad_fn=<SoftmaxBackward0>)\n",
            "tensor([[1, 0, 0]], device='cuda:0')\n",
            "tensor([[2.5327e-04, 9.9952e-01, 2.2379e-04]], device='cuda:0',\n",
            "       grad_fn=<SoftmaxBackward0>)\n",
            "tensor([[1, 0, 0]], device='cuda:0')\n",
            "tensor([[9.9846e-01, 8.1778e-04, 7.2384e-04]], device='cuda:0',\n",
            "       grad_fn=<SoftmaxBackward0>)\n",
            "tensor([[0, 1, 0]], device='cuda:0')\n",
            "tensor([[2.2934e-04, 9.9957e-01, 2.0397e-04]], device='cuda:0',\n",
            "       grad_fn=<SoftmaxBackward0>)\n",
            "tensor([[1, 0, 0]], device='cuda:0')\n",
            "tensor([[9.9845e-01, 8.5283e-04, 6.9874e-04]], device='cuda:0',\n",
            "       grad_fn=<SoftmaxBackward0>)\n",
            "tensor([[0, 1, 0]], device='cuda:0')\n",
            "tensor([[2.5366e-03, 9.9663e-01, 8.3185e-04]], device='cuda:0',\n",
            "       grad_fn=<SoftmaxBackward0>)\n",
            "tensor([[1, 0, 0]], device='cuda:0')\n",
            "tensor([[9.9850e-01, 6.6467e-04, 8.3845e-04]], device='cuda:0',\n",
            "       grad_fn=<SoftmaxBackward0>)\n",
            "tensor([[0, 1, 0]], device='cuda:0')\n",
            "tensor([[4.4101e-04, 9.9936e-01, 1.9851e-04]], device='cuda:0',\n",
            "       grad_fn=<SoftmaxBackward0>)\n",
            "tensor([[0, 0, 1]], device='cuda:0')\n",
            "tensor([[9.9852e-01, 7.1320e-04, 7.6880e-04]], device='cuda:0',\n",
            "       grad_fn=<SoftmaxBackward0>)\n",
            "tensor([[0, 1, 0]], device='cuda:0')\n",
            "tensor([[0.4615, 0.5352, 0.0032]], device='cuda:0', grad_fn=<SoftmaxBackward0>)\n",
            "tensor([[1, 0, 0]], device='cuda:0')\n",
            "tensor([[9.9850e-01, 7.5531e-04, 7.4647e-04]], device='cuda:0',\n",
            "       grad_fn=<SoftmaxBackward0>)\n",
            "tensor([[1, 0, 0]], device='cuda:0')\n",
            "tensor([[9.9844e-01, 7.3456e-04, 8.2099e-04]], device='cuda:0',\n",
            "       grad_fn=<SoftmaxBackward0>)\n",
            "tensor([[0, 1, 0]], device='cuda:0')\n",
            "tensor([[4.2703e-04, 9.9918e-01, 3.9167e-04]], device='cuda:0',\n",
            "       grad_fn=<SoftmaxBackward0>)\n",
            "tensor([[0, 1, 0]], device='cuda:0')\n",
            "tensor([[2.0961e-04, 9.9958e-01, 2.1082e-04]], device='cuda:0',\n",
            "       grad_fn=<SoftmaxBackward0>)\n",
            "tensor([[0, 1, 0]], device='cuda:0')\n",
            "tensor([[2.7661e-04, 9.9954e-01, 1.8049e-04]], device='cuda:0',\n",
            "       grad_fn=<SoftmaxBackward0>)\n",
            "tensor([[1, 0, 0]], device='cuda:0')\n",
            "tensor([[9.9587e-01, 3.4044e-03, 7.2383e-04]], device='cuda:0',\n",
            "       grad_fn=<SoftmaxBackward0>)\n",
            "tensor([[0, 1, 0]], device='cuda:0')\n",
            "tensor([[1.8006e-04, 9.9949e-01, 3.2864e-04]], device='cuda:0',\n",
            "       grad_fn=<SoftmaxBackward0>)\n",
            "tensor([[1, 0, 0]], device='cuda:0')\n",
            "tensor([[9.9852e-01, 7.1185e-04, 7.6831e-04]], device='cuda:0',\n",
            "       grad_fn=<SoftmaxBackward0>)\n",
            "tensor([[0, 1, 0]], device='cuda:0')\n",
            "tensor([[2.2215e-04, 9.9958e-01, 2.0147e-04]], device='cuda:0',\n",
            "       grad_fn=<SoftmaxBackward0>)\n",
            "tensor([[1, 0, 0]], device='cuda:0')\n",
            "tensor([[9.9815e-01, 1.0331e-03, 8.1956e-04]], device='cuda:0',\n",
            "       grad_fn=<SoftmaxBackward0>)\n",
            "tensor([[0, 1, 0]], device='cuda:0')\n",
            "tensor([[2.4358e-04, 9.9948e-01, 2.7676e-04]], device='cuda:0',\n",
            "       grad_fn=<SoftmaxBackward0>)\n",
            "tensor([[0, 1, 0]], device='cuda:0')\n",
            "tensor([[0.0757, 0.9014, 0.0229]], device='cuda:0', grad_fn=<SoftmaxBackward0>)\n",
            "tensor([[0, 1, 0]], device='cuda:0')\n",
            "tensor([[2.1591e-04, 9.9958e-01, 2.0594e-04]], device='cuda:0',\n",
            "       grad_fn=<SoftmaxBackward0>)\n",
            "tensor([[1, 0, 0]], device='cuda:0')\n",
            "tensor([[9.9835e-01, 8.4572e-04, 8.0923e-04]], device='cuda:0',\n",
            "       grad_fn=<SoftmaxBackward0>)\n",
            "tensor([[0, 1, 0]], device='cuda:0')\n",
            "tensor([[1.9511e-04, 9.9960e-01, 2.0250e-04]], device='cuda:0',\n",
            "       grad_fn=<SoftmaxBackward0>)\n",
            "tensor([[1, 0, 0]], device='cuda:0')\n",
            "tensor([[9.9853e-01, 6.9902e-04, 7.7429e-04]], device='cuda:0',\n",
            "       grad_fn=<SoftmaxBackward0>)\n",
            "tensor([[1, 0, 0]], device='cuda:0')\n",
            "tensor([[9.9851e-01, 6.9034e-04, 8.0160e-04]], device='cuda:0',\n",
            "       grad_fn=<SoftmaxBackward0>)\n",
            "tensor([[0, 1, 0]], device='cuda:0')\n",
            "tensor([[1.8624e-04, 9.9963e-01, 1.8598e-04]], device='cuda:0',\n",
            "       grad_fn=<SoftmaxBackward0>)\n",
            "tensor([[0, 1, 0]], device='cuda:0')\n",
            "tensor([[2.2272e-04, 9.9960e-01, 1.7491e-04]], device='cuda:0',\n",
            "       grad_fn=<SoftmaxBackward0>)\n",
            "tensor([[1, 0, 0]], device='cuda:0')\n",
            "tensor([[9.9849e-01, 7.6556e-04, 7.4220e-04]], device='cuda:0',\n",
            "       grad_fn=<SoftmaxBackward0>)\n",
            "tensor([[0, 1, 0]], device='cuda:0')\n",
            "tensor([[3.3974e-04, 9.9939e-01, 2.6603e-04]], device='cuda:0',\n",
            "       grad_fn=<SoftmaxBackward0>)\n",
            "tensor([[0, 1, 0]], device='cuda:0')\n",
            "tensor([[0.0013, 0.9861, 0.0126]], device='cuda:0', grad_fn=<SoftmaxBackward0>)\n",
            "tensor([[0, 1, 0]], device='cuda:0')\n",
            "tensor([[2.1464e-04, 9.9953e-01, 2.5358e-04]], device='cuda:0',\n",
            "       grad_fn=<SoftmaxBackward0>)\n",
            "tensor([[1, 0, 0]], device='cuda:0')\n",
            "tensor([[9.9848e-01, 6.9518e-04, 8.2375e-04]], device='cuda:0',\n",
            "       grad_fn=<SoftmaxBackward0>)\n",
            "tensor([[1, 0, 0]], device='cuda:0')\n",
            "tensor([[9.9851e-01, 7.0638e-04, 7.8016e-04]], device='cuda:0',\n",
            "       grad_fn=<SoftmaxBackward0>)\n",
            "tensor([[0, 1, 0]], device='cuda:0')\n",
            "tensor([[1.9765e-04, 9.9961e-01, 1.8928e-04]], device='cuda:0',\n",
            "       grad_fn=<SoftmaxBackward0>)\n",
            "tensor([[0, 0, 1]], device='cuda:0')\n",
            "tensor([[0.0033, 0.0323, 0.9645]], device='cuda:0', grad_fn=<SoftmaxBackward0>)\n",
            "tensor([[0, 1, 0]], device='cuda:0')\n",
            "tensor([[3.0790e-04, 9.9944e-01, 2.5312e-04]], device='cuda:0',\n",
            "       grad_fn=<SoftmaxBackward0>)\n",
            "tensor([[1, 0, 0]], device='cuda:0')\n",
            "tensor([[9.9845e-01, 8.2964e-04, 7.1858e-04]], device='cuda:0',\n",
            "       grad_fn=<SoftmaxBackward0>)\n",
            "tensor([[1, 0, 0]], device='cuda:0')\n",
            "tensor([[0.8940, 0.1027, 0.0032]], device='cuda:0', grad_fn=<SoftmaxBackward0>)\n",
            "tensor([[0, 1, 0]], device='cuda:0')\n",
            "tensor([[2.3526e-04, 9.9956e-01, 2.0043e-04]], device='cuda:0',\n",
            "       grad_fn=<SoftmaxBackward0>)\n",
            "tensor([[1, 0, 0]], device='cuda:0')\n",
            "tensor([[9.9841e-01, 7.0600e-04, 8.8286e-04]], device='cuda:0',\n",
            "       grad_fn=<SoftmaxBackward0>)\n",
            "tensor([[0, 1, 0]], device='cuda:0')\n",
            "tensor([[2.2361e-04, 9.9946e-01, 3.1663e-04]], device='cuda:0',\n",
            "       grad_fn=<SoftmaxBackward0>)\n",
            "tensor([[0, 1, 0]], device='cuda:0')\n",
            "tensor([[2.0011e-04, 9.9955e-01, 2.4766e-04]], device='cuda:0',\n",
            "       grad_fn=<SoftmaxBackward0>)\n",
            "tensor([[0, 1, 0]], device='cuda:0')\n",
            "tensor([[2.7458e-04, 9.9953e-01, 1.9865e-04]], device='cuda:0',\n",
            "       grad_fn=<SoftmaxBackward0>)\n",
            "tensor([[0, 1, 0]], device='cuda:0')\n",
            "tensor([[2.2102e-04, 9.9959e-01, 1.8963e-04]], device='cuda:0',\n",
            "       grad_fn=<SoftmaxBackward0>)\n",
            "tensor([[0, 1, 0]], device='cuda:0')\n",
            "tensor([[4.3625e-04, 9.9875e-01, 8.1520e-04]], device='cuda:0',\n",
            "       grad_fn=<SoftmaxBackward0>)\n",
            "tensor([[0, 1, 0]], device='cuda:0')\n",
            "tensor([[5.4492e-04, 9.9928e-01, 1.7501e-04]], device='cuda:0',\n",
            "       grad_fn=<SoftmaxBackward0>)\n",
            "tensor([[0, 0, 1]], device='cuda:0')\n",
            "tensor([[8.8283e-04, 6.8808e-04, 9.9843e-01]], device='cuda:0',\n",
            "       grad_fn=<SoftmaxBackward0>)\n",
            "tensor([[0, 1, 0]], device='cuda:0')\n",
            "tensor([[3.2524e-04, 9.9940e-01, 2.7931e-04]], device='cuda:0',\n",
            "       grad_fn=<SoftmaxBackward0>)\n",
            "tensor([[1, 0, 0]], device='cuda:0')\n",
            "tensor([[9.9852e-01, 6.4157e-04, 8.4040e-04]], device='cuda:0',\n",
            "       grad_fn=<SoftmaxBackward0>)\n",
            "tensor([[1, 0, 0]], device='cuda:0')\n",
            "tensor([[9.9796e-01, 1.3016e-03, 7.4135e-04]], device='cuda:0',\n",
            "       grad_fn=<SoftmaxBackward0>)\n",
            "tensor([[0, 1, 0]], device='cuda:0')\n",
            "tensor([[2.4209e-04, 9.9956e-01, 1.9697e-04]], device='cuda:0',\n",
            "       grad_fn=<SoftmaxBackward0>)\n",
            "tensor([[0, 1, 0]], device='cuda:0')\n",
            "tensor([[2.4162e-04, 9.9947e-01, 2.8631e-04]], device='cuda:0',\n",
            "       grad_fn=<SoftmaxBackward0>)\n",
            "tensor([[0, 1, 0]], device='cuda:0')\n",
            "tensor([[2.6534e-04, 9.9949e-01, 2.4939e-04]], device='cuda:0',\n",
            "       grad_fn=<SoftmaxBackward0>)\n",
            "tensor([[0, 1, 0]], device='cuda:0')\n",
            "tensor([[2.1126e-04, 9.9960e-01, 1.9250e-04]], device='cuda:0',\n",
            "       grad_fn=<SoftmaxBackward0>)\n",
            "tensor([[0, 1, 0]], device='cuda:0')\n",
            "tensor([[1.7843e-04, 9.9959e-01, 2.3108e-04]], device='cuda:0',\n",
            "       grad_fn=<SoftmaxBackward0>)\n",
            "tensor([[1, 0, 0]], device='cuda:0')\n",
            "tensor([[9.9857e-01, 6.3292e-04, 7.9538e-04]], device='cuda:0',\n",
            "       grad_fn=<SoftmaxBackward0>)\n",
            "tensor([[1, 0, 0]], device='cuda:0')\n",
            "tensor([[9.9848e-01, 6.9282e-04, 8.2297e-04]], device='cuda:0',\n",
            "       grad_fn=<SoftmaxBackward0>)\n",
            "tensor([[0, 0, 1]], device='cuda:0')\n",
            "tensor([[1.4036e-03, 4.2186e-04, 9.9817e-01]], device='cuda:0',\n",
            "       grad_fn=<SoftmaxBackward0>)\n",
            "tensor([[0, 1, 0]], device='cuda:0')\n",
            "tensor([[1.8643e-04, 9.9962e-01, 1.9286e-04]], device='cuda:0',\n",
            "       grad_fn=<SoftmaxBackward0>)\n",
            "tensor([[0, 1, 0]], device='cuda:0')\n",
            "tensor([[2.1585e-04, 9.9933e-01, 4.5405e-04]], device='cuda:0',\n",
            "       grad_fn=<SoftmaxBackward0>)\n",
            "tensor([[1, 0, 0]], device='cuda:0')\n",
            "tensor([[9.9849e-01, 8.0270e-04, 7.0736e-04]], device='cuda:0',\n",
            "       grad_fn=<SoftmaxBackward0>)\n",
            "tensor([[0, 1, 0]], device='cuda:0')\n",
            "tensor([[2.1228e-04, 9.9952e-01, 2.6785e-04]], device='cuda:0',\n",
            "       grad_fn=<SoftmaxBackward0>)\n",
            "tensor([[0, 1, 0]], device='cuda:0')\n",
            "tensor([[3.1379e-04, 9.9949e-01, 1.9401e-04]], device='cuda:0',\n",
            "       grad_fn=<SoftmaxBackward0>)\n",
            "tensor([[0, 1, 0]], device='cuda:0')\n",
            "tensor([[2.3038e-04, 9.9956e-01, 2.1331e-04]], device='cuda:0',\n",
            "       grad_fn=<SoftmaxBackward0>)\n",
            "tensor([[1, 0, 0]], device='cuda:0')\n",
            "tensor([[9.9850e-01, 8.0362e-04, 6.9589e-04]], device='cuda:0',\n",
            "       grad_fn=<SoftmaxBackward0>)\n",
            "tensor([[0, 1, 0]], device='cuda:0')\n",
            "tensor([[2.0990e-04, 9.9961e-01, 1.7957e-04]], device='cuda:0',\n",
            "       grad_fn=<SoftmaxBackward0>)\n",
            "tensor([[0, 1, 0]], device='cuda:0')\n",
            "tensor([[3.0381e-04, 9.9949e-01, 2.0265e-04]], device='cuda:0',\n",
            "       grad_fn=<SoftmaxBackward0>)\n",
            "tensor([[1, 0, 0]], device='cuda:0')\n",
            "tensor([[9.9829e-01, 8.7955e-04, 8.2904e-04]], device='cuda:0',\n",
            "       grad_fn=<SoftmaxBackward0>)\n",
            "tensor([[1, 0, 0]], device='cuda:0')\n",
            "tensor([[0.7131, 0.0008, 0.2862]], device='cuda:0', grad_fn=<SoftmaxBackward0>)\n",
            "tensor([[0, 1, 0]], device='cuda:0')\n",
            "tensor([[2.6654e-04, 9.9955e-01, 1.8156e-04]], device='cuda:0',\n",
            "       grad_fn=<SoftmaxBackward0>)\n",
            "tensor([[0, 1, 0]], device='cuda:0')\n",
            "tensor([[3.2920e-04, 9.9906e-01, 6.0763e-04]], device='cuda:0',\n",
            "       grad_fn=<SoftmaxBackward0>)\n",
            "tensor([[0, 0, 1]], device='cuda:0')\n",
            "tensor([[8.6422e-04, 5.5126e-04, 9.9858e-01]], device='cuda:0',\n",
            "       grad_fn=<SoftmaxBackward0>)\n",
            "tensor([[1, 0, 0]], device='cuda:0')\n",
            "tensor([[9.9838e-01, 8.6134e-04, 7.6236e-04]], device='cuda:0',\n",
            "       grad_fn=<SoftmaxBackward0>)\n",
            "tensor([[0, 1, 0]], device='cuda:0')\n",
            "tensor([[2.6881e-04, 9.9952e-01, 2.1558e-04]], device='cuda:0',\n",
            "       grad_fn=<SoftmaxBackward0>)\n",
            "tensor([[0, 1, 0]], device='cuda:0')\n",
            "tensor([[4.5417e-04, 9.9931e-01, 2.3401e-04]], device='cuda:0',\n",
            "       grad_fn=<SoftmaxBackward0>)\n",
            "tensor([[0, 1, 0]], device='cuda:0')\n",
            "tensor([[2.7329e-04, 9.9953e-01, 1.9831e-04]], device='cuda:0',\n",
            "       grad_fn=<SoftmaxBackward0>)\n",
            "tensor([[1, 0, 0]], device='cuda:0')\n",
            "tensor([[9.9851e-01, 7.2093e-04, 7.6533e-04]], device='cuda:0',\n",
            "       grad_fn=<SoftmaxBackward0>)\n",
            "tensor([[0, 1, 0]], device='cuda:0')\n",
            "tensor([[2.5546e-04, 9.9949e-01, 2.5928e-04]], device='cuda:0',\n",
            "       grad_fn=<SoftmaxBackward0>)\n",
            "tensor([[1, 0, 0]], device='cuda:0')\n",
            "tensor([[9.9838e-01, 7.0313e-04, 9.1440e-04]], device='cuda:0',\n",
            "       grad_fn=<SoftmaxBackward0>)\n",
            "tensor([[0, 1, 0]], device='cuda:0')\n",
            "tensor([[2.3940e-04, 9.9950e-01, 2.6535e-04]], device='cuda:0',\n",
            "       grad_fn=<SoftmaxBackward0>)\n",
            "tensor([[1, 0, 0]], device='cuda:0')\n",
            "tensor([[9.9832e-01, 8.9443e-04, 7.8123e-04]], device='cuda:0',\n",
            "       grad_fn=<SoftmaxBackward0>)\n",
            "tensor([[0, 1, 0]], device='cuda:0')\n",
            "tensor([[3.8729e-04, 9.9946e-01, 1.5098e-04]], device='cuda:0',\n",
            "       grad_fn=<SoftmaxBackward0>)\n",
            "tensor([[0, 1, 0]], device='cuda:0')\n",
            "tensor([[2.1009e-04, 9.9953e-01, 2.5959e-04]], device='cuda:0',\n",
            "       grad_fn=<SoftmaxBackward0>)\n",
            "tensor([[0, 1, 0]], device='cuda:0')\n",
            "tensor([[2.7956e-04, 9.9944e-01, 2.7757e-04]], device='cuda:0',\n",
            "       grad_fn=<SoftmaxBackward0>)\n",
            "tensor([[0, 1, 0]], device='cuda:0')\n",
            "tensor([[2.0423e-04, 9.9961e-01, 1.8450e-04]], device='cuda:0',\n",
            "       grad_fn=<SoftmaxBackward0>)\n",
            "tensor([[1, 0, 0]], device='cuda:0')\n",
            "tensor([[9.9540e-01, 3.9611e-04, 4.2030e-03]], device='cuda:0',\n",
            "       grad_fn=<SoftmaxBackward0>)\n",
            "tensor([[0, 1, 0]], device='cuda:0')\n",
            "tensor([[3.8643e-04, 9.9942e-01, 1.9248e-04]], device='cuda:0',\n",
            "       grad_fn=<SoftmaxBackward0>)\n",
            "tensor([[0, 0, 1]], device='cuda:0')\n",
            "tensor([[8.9129e-04, 5.2629e-04, 9.9858e-01]], device='cuda:0',\n",
            "       grad_fn=<SoftmaxBackward0>)\n",
            "tensor([[0, 1, 0]], device='cuda:0')\n",
            "tensor([[1.8291e-04, 9.9960e-01, 2.1438e-04]], device='cuda:0',\n",
            "       grad_fn=<SoftmaxBackward0>)\n",
            "tensor([[0, 1, 0]], device='cuda:0')\n",
            "tensor([[2.0504e-04, 9.9956e-01, 2.3812e-04]], device='cuda:0',\n",
            "       grad_fn=<SoftmaxBackward0>)\n",
            "tensor([[1, 0, 0]], device='cuda:0')\n",
            "tensor([[9.9855e-01, 7.5761e-04, 6.9370e-04]], device='cuda:0',\n",
            "       grad_fn=<SoftmaxBackward0>)\n",
            "tensor([[1, 0, 0]], device='cuda:0')\n",
            "tensor([[9.9840e-01, 6.2465e-04, 9.7191e-04]], device='cuda:0',\n",
            "       grad_fn=<SoftmaxBackward0>)\n",
            "tensor([[1, 0, 0]], device='cuda:0')\n",
            "tensor([[9.9849e-01, 7.5585e-04, 7.5212e-04]], device='cuda:0',\n",
            "       grad_fn=<SoftmaxBackward0>)\n",
            "tensor([[0, 0, 1]], device='cuda:0')\n",
            "tensor([[1.0130e-03, 5.0002e-04, 9.9849e-01]], device='cuda:0',\n",
            "       grad_fn=<SoftmaxBackward0>)\n",
            "tensor([[0, 1, 0]], device='cuda:0')\n",
            "tensor([[2.6509e-04, 9.9949e-01, 2.3993e-04]], device='cuda:0',\n",
            "       grad_fn=<SoftmaxBackward0>)\n",
            "tensor([[0, 0, 1]], device='cuda:0')\n",
            "tensor([[8.8164e-04, 5.8583e-04, 9.9853e-01]], device='cuda:0',\n",
            "       grad_fn=<SoftmaxBackward0>)\n",
            "tensor([[1, 0, 0]], device='cuda:0')\n",
            "tensor([[9.9842e-01, 8.4573e-04, 7.3245e-04]], device='cuda:0',\n",
            "       grad_fn=<SoftmaxBackward0>)\n",
            "tensor([[1, 0, 0]], device='cuda:0')\n",
            "tensor([[9.9856e-01, 6.8480e-04, 7.5559e-04]], device='cuda:0',\n",
            "       grad_fn=<SoftmaxBackward0>)\n",
            "tensor([[0, 1, 0]], device='cuda:0')\n",
            "tensor([[3.1048e-04, 9.9938e-01, 3.0508e-04]], device='cuda:0',\n",
            "       grad_fn=<SoftmaxBackward0>)\n",
            "tensor([[0, 0, 1]], device='cuda:0')\n",
            "tensor([[8.7598e-04, 5.3068e-04, 9.9859e-01]], device='cuda:0',\n",
            "       grad_fn=<SoftmaxBackward0>)\n",
            "tensor([[0, 1, 0]], device='cuda:0')\n",
            "tensor([[2.3872e-04, 9.9947e-01, 2.9097e-04]], device='cuda:0',\n",
            "       grad_fn=<SoftmaxBackward0>)\n",
            "tensor([[1, 0, 0]], device='cuda:0')\n",
            "tensor([[9.9820e-01, 5.5276e-04, 1.2472e-03]], device='cuda:0',\n",
            "       grad_fn=<SoftmaxBackward0>)\n",
            "tensor([[0, 1, 0]], device='cuda:0')\n",
            "tensor([[3.0757e-04, 9.9937e-01, 3.2269e-04]], device='cuda:0',\n",
            "       grad_fn=<SoftmaxBackward0>)\n",
            "tensor([[0, 1, 0]], device='cuda:0')\n",
            "tensor([[1.9995e-04, 9.9959e-01, 2.0970e-04]], device='cuda:0',\n",
            "       grad_fn=<SoftmaxBackward0>)\n",
            "tensor([[1, 0, 0]], device='cuda:0')\n",
            "tensor([[9.9841e-01, 7.9608e-04, 7.9701e-04]], device='cuda:0',\n",
            "       grad_fn=<SoftmaxBackward0>)\n",
            "tensor([[0, 0, 1]], device='cuda:0')\n",
            "tensor([[9.3677e-04, 5.4681e-04, 9.9852e-01]], device='cuda:0',\n",
            "       grad_fn=<SoftmaxBackward0>)\n",
            "tensor([[0, 1, 0]], device='cuda:0')\n",
            "tensor([[3.2093e-04, 9.9932e-01, 3.5495e-04]], device='cuda:0',\n",
            "       grad_fn=<SoftmaxBackward0>)\n",
            "tensor([[0, 1, 0]], device='cuda:0')\n",
            "tensor([[2.1304e-04, 9.9961e-01, 1.7501e-04]], device='cuda:0',\n",
            "       grad_fn=<SoftmaxBackward0>)\n",
            "tensor([[1, 0, 0]], device='cuda:0')\n",
            "tensor([[9.9842e-01, 7.4379e-04, 8.3140e-04]], device='cuda:0',\n",
            "       grad_fn=<SoftmaxBackward0>)\n"
          ]
        }
      ],
      "source": [
        "count=0\n",
        "for test_input, test_mask, labels in test_loader:\n",
        "  outputs = model.forward(test_input, test_mask)\n",
        "  print(labels)\n",
        "  print(outputs)\n",
        "  if np.argmax((outputs.detach().tolist())[0])==np.argmax(labels.tolist()[0]):\n",
        "        count=count+1"
      ]
    },
    {
      "cell_type": "code",
      "execution_count": null,
      "id": "500fd91e",
      "metadata": {
        "colab": {
          "base_uri": "https://localhost:8080/"
        },
        "id": "500fd91e",
        "outputId": "a8f92556-8475-49d5-8f79-798da1e6c485"
      },
      "outputs": [
        {
          "output_type": "stream",
          "name": "stdout",
          "text": [
            "Accuracy(%):\n",
            "95.37572254335261\n"
          ]
        }
      ],
      "source": [
        "print(\"Accuracy(%):\")\n",
        "print(count/len(test_x_input)*100)"
      ]
    },
    {
      "cell_type": "code",
      "execution_count": null,
      "id": "e47e557f",
      "metadata": {
        "colab": {
          "base_uri": "https://localhost:8080/"
        },
        "id": "e47e557f",
        "outputId": "e9add8c1-775d-4e1f-dd23-5db3813f8d52"
      },
      "outputs": [
        {
          "output_type": "execute_result",
          "data": {
            "text/plain": [
              "array([ 91, 218,  37])"
            ]
          },
          "metadata": {},
          "execution_count": 26
        }
      ],
      "source": [
        "np.sum(test_y,axis=0)"
      ]
    },
    {
      "cell_type": "code",
      "execution_count": null,
      "id": "9dab4266",
      "metadata": {
        "colab": {
          "base_uri": "https://localhost:8080/"
        },
        "id": "9dab4266",
        "outputId": "85f66d16-9626-4ba1-8ba6-59738da149eb"
      },
      "outputs": [
        {
          "output_type": "execute_result",
          "data": {
            "text/plain": [
              "63.005780346820806"
            ]
          },
          "metadata": {},
          "execution_count": 27
        }
      ],
      "source": [
        "np.sum(test_y,axis=0)[np.argmax(np.sum(test_y,axis=0))]/np.sum(np.sum(test_y,axis=0))*100"
      ]
    },
    {
      "cell_type": "markdown",
      "source": [
        "# Computing full model for deployment using entire training data"
      ],
      "metadata": {
        "id": "P4xwZpjihp4C"
      },
      "id": "P4xwZpjihp4C"
    },
    {
      "cell_type": "code",
      "execution_count": null,
      "metadata": {
        "id": "VhmQWZaDjYWA"
      },
      "outputs": [],
      "source": [
        "# Function that will be called in every epoch\n",
        "def train_epoch(loss_function, optimizer, model, loader):\n",
        "  \n",
        "  model.train()\n",
        "  # Keep track of the total loss for the batch\n",
        "  total_loss_train = 0\n",
        "  for batch_inputs, batch_mask, batch_labels in loader:\n",
        "    # Clear the gradients\n",
        "    optimizer.zero_grad()\n",
        "    # Run a forward pass\n",
        "    global batch_size_model\n",
        "    batch_size_model=batch_size\n",
        "    outputs = model.forward(batch_inputs, batch_mask)\n",
        "    # Compute the batch loss\n",
        "    loss = loss_function(outputs, batch_labels)\n",
        "    # Calculate the gradients\n",
        "    loss.backward()\n",
        "    #Gradient clipping\n",
        "    torch.nn.utils.clip_grad_norm_(model.parameters(),max_norm=1)\n",
        "    # Update the parameteres\n",
        "    optimizer.step()\n",
        "    total_loss_train += loss.item() #one full epoch loss\n",
        "\n",
        "  model.eval() \n",
        "  \n",
        "  return total_loss_train\n",
        "\n",
        "\n",
        "# Function containing our main training loop\n",
        "def train(loss_function, optimizer, model, loader, num_epochs):\n",
        "  global history\n",
        "  history=[]\n",
        "  # Iterate through each epoch and call our train_epoch function\n",
        "  for epoch in range(num_epochs):\n",
        "    epoch_loss = train_epoch(loss_function, optimizer, model, loader)\n",
        "    if epoch % 1 == 0: print('Epoch:',epoch,'Losses:', epoch_loss)\n",
        "    history.append(epoch_loss)\n",
        "    \n",
        "  history=np.array(history)\n",
        "  mat.figure(figsize=(10,5))\n",
        "  mat.plot(history, 'b-', label='Training Loss')\n",
        "  mat.title(\"Training Loss\")\n",
        "  mat.xlabel(\"Epochs\")\n",
        "  mat.ylabel(\"Loss\")\n",
        "  mat.legend(loc=\"upper right\") \n",
        "  mat.show()\n",
        "        "
      ],
      "id": "VhmQWZaDjYWA"
    },
    {
      "cell_type": "code",
      "execution_count": null,
      "id": "cYsvbeSI4Kpn",
      "metadata": {
        "id": "cYsvbeSI4Kpn",
        "colab": {
          "base_uri": "https://localhost:8080/"
        },
        "outputId": "3bd3a5cc-0a04-4c4e-94ca-f6bd231bb7e5"
      },
      "outputs": [
        {
          "output_type": "stream",
          "name": "stderr",
          "text": [
            "Some weights of the model checkpoint at bert-base-uncased were not used when initializing BertModel: ['cls.seq_relationship.bias', 'cls.predictions.transform.LayerNorm.weight', 'cls.seq_relationship.weight', 'cls.predictions.bias', 'cls.predictions.transform.LayerNorm.bias', 'cls.predictions.transform.dense.bias', 'cls.predictions.decoder.weight', 'cls.predictions.transform.dense.weight']\n",
            "- This IS expected if you are initializing BertModel from the checkpoint of a model trained on another task or with another architecture (e.g. initializing a BertForSequenceClassification model from a BertForPreTraining model).\n",
            "- This IS NOT expected if you are initializing BertModel from the checkpoint of a model that you expect to be exactly identical (initializing a BertForSequenceClassification model from a BertForSequenceClassification model).\n"
          ]
        }
      ],
      "source": [
        "#Finalized hyperparameters\n",
        "batch_size=32\n",
        "learning_rate=0.00001\n",
        "num_epochs = 7\n",
        "\n",
        "#Initializing model\n",
        "model = NeuralNet()\n",
        "model = model.to(device)\n",
        "\n",
        "# Define an optimizer\n",
        "optimizer = torch.optim.Adam(model.parameters(), lr=learning_rate)"
      ]
    },
    {
      "cell_type": "code",
      "source": [
        "#Rebalancing train and test data to account for selected batch_size\n",
        "size = len(x_input)-len(x_input)%batch_size # Must be a multiple of the batch size\n",
        "size=int(size)\n",
        "temp = list(range(0,len(x_input)))\n",
        "train_seq = random.sample(temp,size) # Must be a multiple of the batch size\n",
        "\n",
        "x_input2 = np.array(x_input)[train_seq]\n",
        "x_mask2 = np.array(x_mask)[train_seq]\n",
        "y2 = np.array(y)[train_seq]"
      ],
      "metadata": {
        "id": "PN4lTKpiiHeT"
      },
      "id": "PN4lTKpiiHeT",
      "execution_count": null,
      "outputs": []
    },
    {
      "cell_type": "code",
      "source": [
        "print(len(x_input2))\n",
        "print(len(x_mask2))\n",
        "print(len(y2))"
      ],
      "metadata": {
        "colab": {
          "base_uri": "https://localhost:8080/"
        },
        "id": "hCRn-OG4ix57",
        "outputId": "7b9d00d8-5ba2-4ec1-f944-11ffd1497cf6"
      },
      "id": "hCRn-OG4ix57",
      "execution_count": null,
      "outputs": [
        {
          "output_type": "stream",
          "name": "stdout",
          "text": [
            "3424\n",
            "3424\n",
            "3424\n"
          ]
        }
      ]
    },
    {
      "cell_type": "code",
      "source": [
        "#create Tensor Dataset\n",
        "train_data=TensorDataset(torch.LongTensor(x_input2).to(device), torch.LongTensor(x_mask2).to(device), torch.LongTensor(y2).to(device))\n",
        "\n",
        "#dataloader\n",
        "loader=DataLoader(train_data, batch_size=batch_size, shuffle=True)"
      ],
      "metadata": {
        "id": "E4tXKRTCiJ5w"
      },
      "id": "E4tXKRTCiJ5w",
      "execution_count": null,
      "outputs": []
    },
    {
      "cell_type": "code",
      "source": [
        "# # Printing loader information\n",
        "# counter = 0\n",
        "# for batched_x_input, batched_x_mask, batched_y in test_loader:\n",
        "#   print(f\"Iteration {counter}\")\n",
        "#   print(\"Batched Input:\")\n",
        "#   print(batched_x_input)\n",
        "#   print(\"Batched Mask:\")\n",
        "#   print(batched_x_mask)\n",
        "#   print(\"Batched Labels:\")\n",
        "#   print(batched_y)\n",
        "#   print(\"\")\n",
        "#   counter += 1"
      ],
      "metadata": {
        "id": "34KV1I6biQB9"
      },
      "id": "34KV1I6biQB9",
      "execution_count": null,
      "outputs": []
    },
    {
      "cell_type": "code",
      "source": [
        "train(loss_function, optimizer, model, loader, num_epochs=num_epochs)"
      ],
      "metadata": {
        "colab": {
          "base_uri": "https://localhost:8080/",
          "height": 472
        },
        "id": "jVKZ6USziTsX",
        "outputId": "b0e76d3a-364d-43c5-ff51-42341cf8e1a2"
      },
      "id": "jVKZ6USziTsX",
      "execution_count": null,
      "outputs": [
        {
          "output_type": "stream",
          "name": "stdout",
          "text": [
            "Epoch: 0 Losses: 92.99679720401764\n",
            "Epoch: 1 Losses: 70.58621513843536\n",
            "Epoch: 2 Losses: 65.04385358095169\n",
            "Epoch: 3 Losses: 62.69447183609009\n",
            "Epoch: 4 Losses: 61.92827308177948\n",
            "Epoch: 5 Losses: 61.767823696136475\n",
            "Epoch: 6 Losses: 60.86726152896881\n"
          ]
        },
        {
          "output_type": "display_data",
          "data": {
            "text/plain": [
              "<Figure size 720x360 with 1 Axes>"
            ],
            "image/png": "[encoded data removed]"
          },
          "metadata": {
            "needs_background": "light"
          }
        }
      ]
    },
    {
      "cell_type": "code",
      "source": [
        "#Create a test loader for checking training accuracy\n",
        "test_data = TensorDataset(torch.LongTensor(x_input2).to(device), torch.LongTensor(x_mask2).to(device), torch.LongTensor(y2).to(device))\n",
        "test_loader = DataLoader(test_data, batch_size=1, shuffle=False)"
      ],
      "metadata": {
        "id": "_rw2T6HRk9yd"
      },
      "id": "_rw2T6HRk9yd",
      "execution_count": null,
      "outputs": []
    },
    {
      "cell_type": "code",
      "source": [
        "  pred=[]; true=[] \n",
        "  for input, mask, labels in test_loader:\n",
        "    # Run a forward pass\n",
        "    batch_size_model=1\n",
        "    outputs = model.forward(input, mask)\n",
        "    # For metrics computation\n",
        "    pred_temp = [0,0,0]\n",
        "    pred_temp[np.argmax((outputs.detach().tolist())[0])]=1\n",
        "    pred.append(pred_temp)\n",
        "    true_temp = labels.tolist()[0]\n",
        "    true.append(true_temp)\n",
        "    accuracy = metrics.accuracy_score(true,pred)*100\n",
        "    f1=metrics.f1_score(true,pred,average=\"macro\")*100"
      ],
      "metadata": {
        "colab": {
          "base_uri": "https://localhost:8080/"
        },
        "id": "GZZwvzF5kuK-",
        "outputId": "a1a1a991-9d71-47f5-9bd4-b0f00f8797f8"
      },
      "id": "GZZwvzF5kuK-",
      "execution_count": null,
      "outputs": [
        {
          "output_type": "stream",
          "name": "stderr",
          "text": [
            "/usr/local/lib/python3.8/dist-packages/sklearn/metrics/_classification.py:1580: UndefinedMetricWarning: F-score is ill-defined and being set to 0.0 in labels with no true nor predicted samples. Use `zero_division` parameter to control this behavior.\n",
            "  _warn_prf(average, \"true nor predicted\", \"F-score is\", len(true_sum))\n",
            "/usr/local/lib/python3.8/dist-packages/sklearn/metrics/_classification.py:1580: UndefinedMetricWarning: F-score is ill-defined and being set to 0.0 in labels with no true nor predicted samples. Use `zero_division` parameter to control this behavior.\n",
            "  _warn_prf(average, \"true nor predicted\", \"F-score is\", len(true_sum))\n",
            "/usr/local/lib/python3.8/dist-packages/sklearn/metrics/_classification.py:1580: UndefinedMetricWarning: F-score is ill-defined and being set to 0.0 in labels with no true nor predicted samples. Use `zero_division` parameter to control this behavior.\n",
            "  _warn_prf(average, \"true nor predicted\", \"F-score is\", len(true_sum))\n",
            "/usr/local/lib/python3.8/dist-packages/sklearn/metrics/_classification.py:1580: UndefinedMetricWarning: F-score is ill-defined and being set to 0.0 in labels with no true nor predicted samples. Use `zero_division` parameter to control this behavior.\n",
            "  _warn_prf(average, \"true nor predicted\", \"F-score is\", len(true_sum))\n",
            "/usr/local/lib/python3.8/dist-packages/sklearn/metrics/_classification.py:1580: UndefinedMetricWarning: F-score is ill-defined and being set to 0.0 in labels with no true nor predicted samples. Use `zero_division` parameter to control this behavior.\n",
            "  _warn_prf(average, \"true nor predicted\", \"F-score is\", len(true_sum))\n",
            "/usr/local/lib/python3.8/dist-packages/sklearn/metrics/_classification.py:1580: UndefinedMetricWarning: F-score is ill-defined and being set to 0.0 in labels with no true nor predicted samples. Use `zero_division` parameter to control this behavior.\n",
            "  _warn_prf(average, \"true nor predicted\", \"F-score is\", len(true_sum))\n"
          ]
        }
      ]
    },
    {
      "cell_type": "code",
      "source": [
        "classes = ['Negative', 'Neutral', 'Positive']\n",
        "true1=[classes[np.argmax(i)] for i in true]\n",
        "pred1=[classes[np.argmax(i)] for i in pred]"
      ],
      "metadata": {
        "id": "EvhhLNdWlP4P"
      },
      "id": "EvhhLNdWlP4P",
      "execution_count": null,
      "outputs": []
    },
    {
      "cell_type": "code",
      "source": [
        "print('Training Accuracy:', accuracy)\n",
        "print('F1 Score:', f1)\n",
        "print(metrics.classification_report(true1,pred1))\n",
        "metrics.confusion_matrix(true1,pred1) #row is \"true\" and column is \"predicted\""
      ],
      "metadata": {
        "colab": {
          "base_uri": "https://localhost:8080/"
        },
        "id": "SzNxi_y0lZpO",
        "outputId": "06bab366-97f0-48a3-dde3-1b83ba921976"
      },
      "id": "SzNxi_y0lZpO",
      "execution_count": null,
      "outputs": [
        {
          "output_type": "stream",
          "name": "stdout",
          "text": [
            "Training Accuracy: 98.39369158878505\n",
            "F1 Score: 97.88203421752453\n",
            "              precision    recall  f1-score   support\n",
            "\n",
            "    Negative       0.98      0.97      0.97       878\n",
            "     Neutral       0.99      0.99      0.99      2130\n",
            "    Positive       0.96      0.98      0.97       416\n",
            "\n",
            "    accuracy                           0.98      3424\n",
            "   macro avg       0.98      0.98      0.98      3424\n",
            "weighted avg       0.98      0.98      0.98      3424\n",
            "\n"
          ]
        },
        {
          "output_type": "execute_result",
          "data": {
            "text/plain": [
              "array([[ 852,   18,    8],\n",
              "       [  13, 2108,    9],\n",
              "       [   5,    2,  409]])"
            ]
          },
          "metadata": {},
          "execution_count": 38
        }
      ]
    },
    {
      "cell_type": "code",
      "source": [
        "# Saving model\n",
        "torch.save(model.state_dict(), '/content/model_BERT_final_07')"
      ],
      "metadata": {
        "id": "YbStvJ7ViWzR"
      },
      "id": "YbStvJ7ViWzR",
      "execution_count": null,
      "outputs": []
    }
  ],
  "metadata": {
    "accelerator": "GPU",
    "colab": {
      "provenance": []
    },
    "gpuClass": "standard",
    "kernelspec": {
      "display_name": "Python 3 (ipykernel)",
      "language": "python",
      "name": "python3"
    },
    "language_info": {
      "codemirror_mode": {
        "name": "ipython",
        "version": 3
      },
      "file_extension": ".py",
      "mimetype": "text/x-python",
      "name": "python",
      "nbconvert_exporter": "python",
      "pygments_lexer": "ipython3",
      "version": "3.10.4"
    },
    "widgets": {
      "application/vnd.jupyter.widget-state+json": {
        "a69553085e064f5986c499c9033e6747": {
          "model_module": "@jupyter-widgets/controls",
          "model_name": "HBoxModel",
          "model_module_version": "1.5.0",
          "state": {
            "_dom_classes": [],
            "_model_module": "@jupyter-widgets/controls",
            "_model_module_version": "1.5.0",
            "_model_name": "HBoxModel",
            "_view_count": null,
            "_view_module": "@jupyter-widgets/controls",
            "_view_module_version": "1.5.0",
            "_view_name": "HBoxView",
            "box_style": "",
            "children": [
              "IPY_MODEL_3a3415ecb04f4ceab707acf06089b827",
              "IPY_MODEL_93d8a561ae384fc7a585b60f30171cd0",
              "IPY_MODEL_9e28f05788344158be771a3b3ce04c9e"
            ],
            "layout": "IPY_MODEL_ba82a4e2d5c844acac61aecf4164f432"
          }
        },
        "3a3415ecb04f4ceab707acf06089b827": {
          "model_module": "@jupyter-widgets/controls",
          "model_name": "HTMLModel",
          "model_module_version": "1.5.0",
          "state": {
            "_dom_classes": [],
            "_model_module": "@jupyter-widgets/controls",
            "_model_module_version": "1.5.0",
            "_model_name": "HTMLModel",
            "_view_count": null,
            "_view_module": "@jupyter-widgets/controls",
            "_view_module_version": "1.5.0",
            "_view_name": "HTMLView",
            "description": "",
            "description_tooltip": null,
            "layout": "IPY_MODEL_e821c3858b224385a9df14279a18158d",
            "placeholder": "​",
            "style": "IPY_MODEL_86d7b02dcc504185b6fed5f8a06f625a",
            "value": "Downloading: 100%"
          }
        },
        "93d8a561ae384fc7a585b60f30171cd0": {
          "model_module": "@jupyter-widgets/controls",
          "model_name": "FloatProgressModel",
          "model_module_version": "1.5.0",
          "state": {
            "_dom_classes": [],
            "_model_module": "@jupyter-widgets/controls",
            "_model_module_version": "1.5.0",
            "_model_name": "FloatProgressModel",
            "_view_count": null,
            "_view_module": "@jupyter-widgets/controls",
            "_view_module_version": "1.5.0",
            "_view_name": "ProgressView",
            "bar_style": "success",
            "description": "",
            "description_tooltip": null,
            "layout": "IPY_MODEL_47b3dfb954944856813a71f3e411b8ee",
            "max": 231508,
            "min": 0,
            "orientation": "horizontal",
            "style": "IPY_MODEL_be1b82ffbc6042eab4db68b2ec8f8d56",
            "value": 231508
          }
        },
        "9e28f05788344158be771a3b3ce04c9e": {
          "model_module": "@jupyter-widgets/controls",
          "model_name": "HTMLModel",
          "model_module_version": "1.5.0",
          "state": {
            "_dom_classes": [],
            "_model_module": "@jupyter-widgets/controls",
            "_model_module_version": "1.5.0",
            "_model_name": "HTMLModel",
            "_view_count": null,
            "_view_module": "@jupyter-widgets/controls",
            "_view_module_version": "1.5.0",
            "_view_name": "HTMLView",
            "description": "",
            "description_tooltip": null,
            "layout": "IPY_MODEL_1d42cb4359754903aa5284061899a395",
            "placeholder": "​",
            "style": "IPY_MODEL_d0f73ea47c9b4f7bba780fe2f2153e93",
            "value": " 232k/232k [00:00&lt;00:00, 279kB/s]"
          }
        },
        "ba82a4e2d5c844acac61aecf4164f432": {
          "model_module": "@jupyter-widgets/base",
          "model_name": "LayoutModel",
          "model_module_version": "1.2.0",
          "state": {
            "_model_module": "@jupyter-widgets/base",
            "_model_module_version": "1.2.0",
            "_model_name": "LayoutModel",
            "_view_count": null,
            "_view_module": "@jupyter-widgets/base",
            "_view_module_version": "1.2.0",
            "_view_name": "LayoutView",
            "align_content": null,
            "align_items": null,
            "align_self": null,
            "border": null,
            "bottom": null,
            "display": null,
            "flex": null,
            "flex_flow": null,
            "grid_area": null,
            "grid_auto_columns": null,
            "grid_auto_flow": null,
            "grid_auto_rows": null,
            "grid_column": null,
            "grid_gap": null,
            "grid_row": null,
            "grid_template_areas": null,
            "grid_template_columns": null,
            "grid_template_rows": null,
            "height": null,
            "justify_content": null,
            "justify_items": null,
            "left": null,
            "margin": null,
            "max_height": null,
            "max_width": null,
            "min_height": null,
            "min_width": null,
            "object_fit": null,
            "object_position": null,
            "order": null,
            "overflow": null,
            "overflow_x": null,
            "overflow_y": null,
            "padding": null,
            "right": null,
            "top": null,
            "visibility": null,
            "width": null
          }
        },
        "e821c3858b224385a9df14279a18158d": {
          "model_module": "@jupyter-widgets/base",
          "model_name": "LayoutModel",
          "model_module_version": "1.2.0",
          "state": {
            "_model_module": "@jupyter-widgets/base",
            "_model_module_version": "1.2.0",
            "_model_name": "LayoutModel",
            "_view_count": null,
            "_view_module": "@jupyter-widgets/base",
            "_view_module_version": "1.2.0",
            "_view_name": "LayoutView",
            "align_content": null,
            "align_items": null,
            "align_self": null,
            "border": null,
            "bottom": null,
            "display": null,
            "flex": null,
            "flex_flow": null,
            "grid_area": null,
            "grid_auto_columns": null,
            "grid_auto_flow": null,
            "grid_auto_rows": null,
            "grid_column": null,
            "grid_gap": null,
            "grid_row": null,
            "grid_template_areas": null,
            "grid_template_columns": null,
            "grid_template_rows": null,
            "height": null,
            "justify_content": null,
            "justify_items": null,
            "left": null,
            "margin": null,
            "max_height": null,
            "max_width": null,
            "min_height": null,
            "min_width": null,
            "object_fit": null,
            "object_position": null,
            "order": null,
            "overflow": null,
            "overflow_x": null,
            "overflow_y": null,
            "padding": null,
            "right": null,
            "top": null,
            "visibility": null,
            "width": null
          }
        },
        "86d7b02dcc504185b6fed5f8a06f625a": {
          "model_module": "@jupyter-widgets/controls",
          "model_name": "DescriptionStyleModel",
          "model_module_version": "1.5.0",
          "state": {
            "_model_module": "@jupyter-widgets/controls",
            "_model_module_version": "1.5.0",
            "_model_name": "DescriptionStyleModel",
            "_view_count": null,
            "_view_module": "@jupyter-widgets/base",
            "_view_module_version": "1.2.0",
            "_view_name": "StyleView",
            "description_width": ""
          }
        },
        "47b3dfb954944856813a71f3e411b8ee": {
          "model_module": "@jupyter-widgets/base",
          "model_name": "LayoutModel",
          "model_module_version": "1.2.0",
          "state": {
            "_model_module": "@jupyter-widgets/base",
            "_model_module_version": "1.2.0",
            "_model_name": "LayoutModel",
            "_view_count": null,
            "_view_module": "@jupyter-widgets/base",
            "_view_module_version": "1.2.0",
            "_view_name": "LayoutView",
            "align_content": null,
            "align_items": null,
            "align_self": null,
            "border": null,
            "bottom": null,
            "display": null,
            "flex": null,
            "flex_flow": null,
            "grid_area": null,
            "grid_auto_columns": null,
            "grid_auto_flow": null,
            "grid_auto_rows": null,
            "grid_column": null,
            "grid_gap": null,
            "grid_row": null,
            "grid_template_areas": null,
            "grid_template_columns": null,
            "grid_template_rows": null,
            "height": null,
            "justify_content": null,
            "justify_items": null,
            "left": null,
            "margin": null,
            "max_height": null,
            "max_width": null,
            "min_height": null,
            "min_width": null,
            "object_fit": null,
            "object_position": null,
            "order": null,
            "overflow": null,
            "overflow_x": null,
            "overflow_y": null,
            "padding": null,
            "right": null,
            "top": null,
            "visibility": null,
            "width": null
          }
        },
        "be1b82ffbc6042eab4db68b2ec8f8d56": {
          "model_module": "@jupyter-widgets/controls",
          "model_name": "ProgressStyleModel",
          "model_module_version": "1.5.0",
          "state": {
            "_model_module": "@jupyter-widgets/controls",
            "_model_module_version": "1.5.0",
            "_model_name": "ProgressStyleModel",
            "_view_count": null,
            "_view_module": "@jupyter-widgets/base",
            "_view_module_version": "1.2.0",
            "_view_name": "StyleView",
            "bar_color": null,
            "description_width": ""
          }
        },
        "1d42cb4359754903aa5284061899a395": {
          "model_module": "@jupyter-widgets/base",
          "model_name": "LayoutModel",
          "model_module_version": "1.2.0",
          "state": {
            "_model_module": "@jupyter-widgets/base",
            "_model_module_version": "1.2.0",
            "_model_name": "LayoutModel",
            "_view_count": null,
            "_view_module": "@jupyter-widgets/base",
            "_view_module_version": "1.2.0",
            "_view_name": "LayoutView",
            "align_content": null,
            "align_items": null,
            "align_self": null,
            "border": null,
            "bottom": null,
            "display": null,
            "flex": null,
            "flex_flow": null,
            "grid_area": null,
            "grid_auto_columns": null,
            "grid_auto_flow": null,
            "grid_auto_rows": null,
            "grid_column": null,
            "grid_gap": null,
            "grid_row": null,
            "grid_template_areas": null,
            "grid_template_columns": null,
            "grid_template_rows": null,
            "height": null,
            "justify_content": null,
            "justify_items": null,
            "left": null,
            "margin": null,
            "max_height": null,
            "max_width": null,
            "min_height": null,
            "min_width": null,
            "object_fit": null,
            "object_position": null,
            "order": null,
            "overflow": null,
            "overflow_x": null,
            "overflow_y": null,
            "padding": null,
            "right": null,
            "top": null,
            "visibility": null,
            "width": null
          }
        },
        "d0f73ea47c9b4f7bba780fe2f2153e93": {
          "model_module": "@jupyter-widgets/controls",
          "model_name": "DescriptionStyleModel",
          "model_module_version": "1.5.0",
          "state": {
            "_model_module": "@jupyter-widgets/controls",
            "_model_module_version": "1.5.0",
            "_model_name": "DescriptionStyleModel",
            "_view_count": null,
            "_view_module": "@jupyter-widgets/base",
            "_view_module_version": "1.2.0",
            "_view_name": "StyleView",
            "description_width": ""
          }
        },
        "25c6d919f49f4bec9ba3fa39d1183a02": {
          "model_module": "@jupyter-widgets/controls",
          "model_name": "HBoxModel",
          "model_module_version": "1.5.0",
          "state": {
            "_dom_classes": [],
            "_model_module": "@jupyter-widgets/controls",
            "_model_module_version": "1.5.0",
            "_model_name": "HBoxModel",
            "_view_count": null,
            "_view_module": "@jupyter-widgets/controls",
            "_view_module_version": "1.5.0",
            "_view_name": "HBoxView",
            "box_style": "",
            "children": [
              "IPY_MODEL_1bba24274464454c8494c97b4b3dd4ac",
              "IPY_MODEL_edba4289847e40a381cc4fa256ff2c02",
              "IPY_MODEL_6d8c02bbd24643f4a126a82a1875ffcd"
            ],
            "layout": "IPY_MODEL_273aeee34398485093aaee7ad2af6bbf"
          }
        },
        "1bba24274464454c8494c97b4b3dd4ac": {
          "model_module": "@jupyter-widgets/controls",
          "model_name": "HTMLModel",
          "model_module_version": "1.5.0",
          "state": {
            "_dom_classes": [],
            "_model_module": "@jupyter-widgets/controls",
            "_model_module_version": "1.5.0",
            "_model_name": "HTMLModel",
            "_view_count": null,
            "_view_module": "@jupyter-widgets/controls",
            "_view_module_version": "1.5.0",
            "_view_name": "HTMLView",
            "description": "",
            "description_tooltip": null,
            "layout": "IPY_MODEL_044b401cb0b94167af6546ed3b7003ce",
            "placeholder": "​",
            "style": "IPY_MODEL_37746d2f10754dad8d8aa9944923519e",
            "value": "Downloading: 100%"
          }
        },
        "edba4289847e40a381cc4fa256ff2c02": {
          "model_module": "@jupyter-widgets/controls",
          "model_name": "FloatProgressModel",
          "model_module_version": "1.5.0",
          "state": {
            "_dom_classes": [],
            "_model_module": "@jupyter-widgets/controls",
            "_model_module_version": "1.5.0",
            "_model_name": "FloatProgressModel",
            "_view_count": null,
            "_view_module": "@jupyter-widgets/controls",
            "_view_module_version": "1.5.0",
            "_view_name": "ProgressView",
            "bar_style": "success",
            "description": "",
            "description_tooltip": null,
            "layout": "IPY_MODEL_698c8fe986b44f0aae24cad2d48247a1",
            "max": 28,
            "min": 0,
            "orientation": "horizontal",
            "style": "IPY_MODEL_01a9863b7d01408cbc7834c4756bdbcd",
            "value": 28
          }
        },
        "6d8c02bbd24643f4a126a82a1875ffcd": {
          "model_module": "@jupyter-widgets/controls",
          "model_name": "HTMLModel",
          "model_module_version": "1.5.0",
          "state": {
            "_dom_classes": [],
            "_model_module": "@jupyter-widgets/controls",
            "_model_module_version": "1.5.0",
            "_model_name": "HTMLModel",
            "_view_count": null,
            "_view_module": "@jupyter-widgets/controls",
            "_view_module_version": "1.5.0",
            "_view_name": "HTMLView",
            "description": "",
            "description_tooltip": null,
            "layout": "IPY_MODEL_d4be39272f284b17bd013821f81966ba",
            "placeholder": "​",
            "style": "IPY_MODEL_fee90f065da6480f8f89eeb3f48d7577",
            "value": " 28.0/28.0 [00:00&lt;00:00, 628B/s]"
          }
        },
        "273aeee34398485093aaee7ad2af6bbf": {
          "model_module": "@jupyter-widgets/base",
          "model_name": "LayoutModel",
          "model_module_version": "1.2.0",
          "state": {
            "_model_module": "@jupyter-widgets/base",
            "_model_module_version": "1.2.0",
            "_model_name": "LayoutModel",
            "_view_count": null,
            "_view_module": "@jupyter-widgets/base",
            "_view_module_version": "1.2.0",
            "_view_name": "LayoutView",
            "align_content": null,
            "align_items": null,
            "align_self": null,
            "border": null,
            "bottom": null,
            "display": null,
            "flex": null,
            "flex_flow": null,
            "grid_area": null,
            "grid_auto_columns": null,
            "grid_auto_flow": null,
            "grid_auto_rows": null,
            "grid_column": null,
            "grid_gap": null,
            "grid_row": null,
            "grid_template_areas": null,
            "grid_template_columns": null,
            "grid_template_rows": null,
            "height": null,
            "justify_content": null,
            "justify_items": null,
            "left": null,
            "margin": null,
            "max_height": null,
            "max_width": null,
            "min_height": null,
            "min_width": null,
            "object_fit": null,
            "object_position": null,
            "order": null,
            "overflow": null,
            "overflow_x": null,
            "overflow_y": null,
            "padding": null,
            "right": null,
            "top": null,
            "visibility": null,
            "width": null
          }
        },
        "044b401cb0b94167af6546ed3b7003ce": {
          "model_module": "@jupyter-widgets/base",
          "model_name": "LayoutModel",
          "model_module_version": "1.2.0",
          "state": {
            "_model_module": "@jupyter-widgets/base",
            "_model_module_version": "1.2.0",
            "_model_name": "LayoutModel",
            "_view_count": null,
            "_view_module": "@jupyter-widgets/base",
            "_view_module_version": "1.2.0",
            "_view_name": "LayoutView",
            "align_content": null,
            "align_items": null,
            "align_self": null,
            "border": null,
            "bottom": null,
            "display": null,
            "flex": null,
            "flex_flow": null,
            "grid_area": null,
            "grid_auto_columns": null,
            "grid_auto_flow": null,
            "grid_auto_rows": null,
            "grid_column": null,
            "grid_gap": null,
            "grid_row": null,
            "grid_template_areas": null,
            "grid_template_columns": null,
            "grid_template_rows": null,
            "height": null,
            "justify_content": null,
            "justify_items": null,
            "left": null,
            "margin": null,
            "max_height": null,
            "max_width": null,
            "min_height": null,
            "min_width": null,
            "object_fit": null,
            "object_position": null,
            "order": null,
            "overflow": null,
            "overflow_x": null,
            "overflow_y": null,
            "padding": null,
            "right": null,
            "top": null,
            "visibility": null,
            "width": null
          }
        },
        "37746d2f10754dad8d8aa9944923519e": {
          "model_module": "@jupyter-widgets/controls",
          "model_name": "DescriptionStyleModel",
          "model_module_version": "1.5.0",
          "state": {
            "_model_module": "@jupyter-widgets/controls",
            "_model_module_version": "1.5.0",
            "_model_name": "DescriptionStyleModel",
            "_view_count": null,
            "_view_module": "@jupyter-widgets/base",
            "_view_module_version": "1.2.0",
            "_view_name": "StyleView",
            "description_width": ""
          }
        },
        "698c8fe986b44f0aae24cad2d48247a1": {
          "model_module": "@jupyter-widgets/base",
          "model_name": "LayoutModel",
          "model_module_version": "1.2.0",
          "state": {
            "_model_module": "@jupyter-widgets/base",
            "_model_module_version": "1.2.0",
            "_model_name": "LayoutModel",
            "_view_count": null,
            "_view_module": "@jupyter-widgets/base",
            "_view_module_version": "1.2.0",
            "_view_name": "LayoutView",
            "align_content": null,
            "align_items": null,
            "align_self": null,
            "border": null,
            "bottom": null,
            "display": null,
            "flex": null,
            "flex_flow": null,
            "grid_area": null,
            "grid_auto_columns": null,
            "grid_auto_flow": null,
            "grid_auto_rows": null,
            "grid_column": null,
            "grid_gap": null,
            "grid_row": null,
            "grid_template_areas": null,
            "grid_template_columns": null,
            "grid_template_rows": null,
            "height": null,
            "justify_content": null,
            "justify_items": null,
            "left": null,
            "margin": null,
            "max_height": null,
            "max_width": null,
            "min_height": null,
            "min_width": null,
            "object_fit": null,
            "object_position": null,
            "order": null,
            "overflow": null,
            "overflow_x": null,
            "overflow_y": null,
            "padding": null,
            "right": null,
            "top": null,
            "visibility": null,
            "width": null
          }
        },
        "01a9863b7d01408cbc7834c4756bdbcd": {
          "model_module": "@jupyter-widgets/controls",
          "model_name": "ProgressStyleModel",
          "model_module_version": "1.5.0",
          "state": {
            "_model_module": "@jupyter-widgets/controls",
            "_model_module_version": "1.5.0",
            "_model_name": "ProgressStyleModel",
            "_view_count": null,
            "_view_module": "@jupyter-widgets/base",
            "_view_module_version": "1.2.0",
            "_view_name": "StyleView",
            "bar_color": null,
            "description_width": ""
          }
        },
        "d4be39272f284b17bd013821f81966ba": {
          "model_module": "@jupyter-widgets/base",
          "model_name": "LayoutModel",
          "model_module_version": "1.2.0",
          "state": {
            "_model_module": "@jupyter-widgets/base",
            "_model_module_version": "1.2.0",
            "_model_name": "LayoutModel",
            "_view_count": null,
            "_view_module": "@jupyter-widgets/base",
            "_view_module_version": "1.2.0",
            "_view_name": "LayoutView",
            "align_content": null,
            "align_items": null,
            "align_self": null,
            "border": null,
            "bottom": null,
            "display": null,
            "flex": null,
            "flex_flow": null,
            "grid_area": null,
            "grid_auto_columns": null,
            "grid_auto_flow": null,
            "grid_auto_rows": null,
            "grid_column": null,
            "grid_gap": null,
            "grid_row": null,
            "grid_template_areas": null,
            "grid_template_columns": null,
            "grid_template_rows": null,
            "height": null,
            "justify_content": null,
            "justify_items": null,
            "left": null,
            "margin": null,
            "max_height": null,
            "max_width": null,
            "min_height": null,
            "min_width": null,
            "object_fit": null,
            "object_position": null,
            "order": null,
            "overflow": null,
            "overflow_x": null,
            "overflow_y": null,
            "padding": null,
            "right": null,
            "top": null,
            "visibility": null,
            "width": null
          }
        },
        "fee90f065da6480f8f89eeb3f48d7577": {
          "model_module": "@jupyter-widgets/controls",
          "model_name": "DescriptionStyleModel",
          "model_module_version": "1.5.0",
          "state": {
            "_model_module": "@jupyter-widgets/controls",
            "_model_module_version": "1.5.0",
            "_model_name": "DescriptionStyleModel",
            "_view_count": null,
            "_view_module": "@jupyter-widgets/base",
            "_view_module_version": "1.2.0",
            "_view_name": "StyleView",
            "description_width": ""
          }
        },
        "ef83d59f4a364a529277678ff3f6c096": {
          "model_module": "@jupyter-widgets/controls",
          "model_name": "HBoxModel",
          "model_module_version": "1.5.0",
          "state": {
            "_dom_classes": [],
            "_model_module": "@jupyter-widgets/controls",
            "_model_module_version": "1.5.0",
            "_model_name": "HBoxModel",
            "_view_count": null,
            "_view_module": "@jupyter-widgets/controls",
            "_view_module_version": "1.5.0",
            "_view_name": "HBoxView",
            "box_style": "",
            "children": [
              "IPY_MODEL_8e08010ae20f4b188b60c5b58a2d2ec0",
              "IPY_MODEL_cd0df3094a3a47c7a4cbb30df0714a22",
              "IPY_MODEL_3b8836ef26dc450db11ae5c2e71e03ba"
            ],
            "layout": "IPY_MODEL_6e68f4f60ef54fe8a0b41e85f5d60088"
          }
        },
        "8e08010ae20f4b188b60c5b58a2d2ec0": {
          "model_module": "@jupyter-widgets/controls",
          "model_name": "HTMLModel",
          "model_module_version": "1.5.0",
          "state": {
            "_dom_classes": [],
            "_model_module": "@jupyter-widgets/controls",
            "_model_module_version": "1.5.0",
            "_model_name": "HTMLModel",
            "_view_count": null,
            "_view_module": "@jupyter-widgets/controls",
            "_view_module_version": "1.5.0",
            "_view_name": "HTMLView",
            "description": "",
            "description_tooltip": null,
            "layout": "IPY_MODEL_abdef5b07b4f4a4a905b888a6b9861b7",
            "placeholder": "​",
            "style": "IPY_MODEL_ab19d1a4f0f747a381daa45c37a87e97",
            "value": "Downloading: 100%"
          }
        },
        "cd0df3094a3a47c7a4cbb30df0714a22": {
          "model_module": "@jupyter-widgets/controls",
          "model_name": "FloatProgressModel",
          "model_module_version": "1.5.0",
          "state": {
            "_dom_classes": [],
            "_model_module": "@jupyter-widgets/controls",
            "_model_module_version": "1.5.0",
            "_model_name": "FloatProgressModel",
            "_view_count": null,
            "_view_module": "@jupyter-widgets/controls",
            "_view_module_version": "1.5.0",
            "_view_name": "ProgressView",
            "bar_style": "success",
            "description": "",
            "description_tooltip": null,
            "layout": "IPY_MODEL_68f3bafcea6e4a5490707d5799a6caa6",
            "max": 570,
            "min": 0,
            "orientation": "horizontal",
            "style": "IPY_MODEL_079d1911ad2341728c8927048a32c3ba",
            "value": 570
          }
        },
        "3b8836ef26dc450db11ae5c2e71e03ba": {
          "model_module": "@jupyter-widgets/controls",
          "model_name": "HTMLModel",
          "model_module_version": "1.5.0",
          "state": {
            "_dom_classes": [],
            "_model_module": "@jupyter-widgets/controls",
            "_model_module_version": "1.5.0",
            "_model_name": "HTMLModel",
            "_view_count": null,
            "_view_module": "@jupyter-widgets/controls",
            "_view_module_version": "1.5.0",
            "_view_name": "HTMLView",
            "description": "",
            "description_tooltip": null,
            "layout": "IPY_MODEL_e6bd7d41956c40c2a76658f24d520a2b",
            "placeholder": "​",
            "style": "IPY_MODEL_ed702093c8f14182a3a9314c6aef2aa4",
            "value": " 570/570 [00:00&lt;00:00, 15.4kB/s]"
          }
        },
        "6e68f4f60ef54fe8a0b41e85f5d60088": {
          "model_module": "@jupyter-widgets/base",
          "model_name": "LayoutModel",
          "model_module_version": "1.2.0",
          "state": {
            "_model_module": "@jupyter-widgets/base",
            "_model_module_version": "1.2.0",
            "_model_name": "LayoutModel",
            "_view_count": null,
            "_view_module": "@jupyter-widgets/base",
            "_view_module_version": "1.2.0",
            "_view_name": "LayoutView",
            "align_content": null,
            "align_items": null,
            "align_self": null,
            "border": null,
            "bottom": null,
            "display": null,
            "flex": null,
            "flex_flow": null,
            "grid_area": null,
            "grid_auto_columns": null,
            "grid_auto_flow": null,
            "grid_auto_rows": null,
            "grid_column": null,
            "grid_gap": null,
            "grid_row": null,
            "grid_template_areas": null,
            "grid_template_columns": null,
            "grid_template_rows": null,
            "height": null,
            "justify_content": null,
            "justify_items": null,
            "left": null,
            "margin": null,
            "max_height": null,
            "max_width": null,
            "min_height": null,
            "min_width": null,
            "object_fit": null,
            "object_position": null,
            "order": null,
            "overflow": null,
            "overflow_x": null,
            "overflow_y": null,
            "padding": null,
            "right": null,
            "top": null,
            "visibility": null,
            "width": null
          }
        },
        "abdef5b07b4f4a4a905b888a6b9861b7": {
          "model_module": "@jupyter-widgets/base",
          "model_name": "LayoutModel",
          "model_module_version": "1.2.0",
          "state": {
            "_model_module": "@jupyter-widgets/base",
            "_model_module_version": "1.2.0",
            "_model_name": "LayoutModel",
            "_view_count": null,
            "_view_module": "@jupyter-widgets/base",
            "_view_module_version": "1.2.0",
            "_view_name": "LayoutView",
            "align_content": null,
            "align_items": null,
            "align_self": null,
            "border": null,
            "bottom": null,
            "display": null,
            "flex": null,
            "flex_flow": null,
            "grid_area": null,
            "grid_auto_columns": null,
            "grid_auto_flow": null,
            "grid_auto_rows": null,
            "grid_column": null,
            "grid_gap": null,
            "grid_row": null,
            "grid_template_areas": null,
            "grid_template_columns": null,
            "grid_template_rows": null,
            "height": null,
            "justify_content": null,
            "justify_items": null,
            "left": null,
            "margin": null,
            "max_height": null,
            "max_width": null,
            "min_height": null,
            "min_width": null,
            "object_fit": null,
            "object_position": null,
            "order": null,
            "overflow": null,
            "overflow_x": null,
            "overflow_y": null,
            "padding": null,
            "right": null,
            "top": null,
            "visibility": null,
            "width": null
          }
        },
        "ab19d1a4f0f747a381daa45c37a87e97": {
          "model_module": "@jupyter-widgets/controls",
          "model_name": "DescriptionStyleModel",
          "model_module_version": "1.5.0",
          "state": {
            "_model_module": "@jupyter-widgets/controls",
            "_model_module_version": "1.5.0",
            "_model_name": "DescriptionStyleModel",
            "_view_count": null,
            "_view_module": "@jupyter-widgets/base",
            "_view_module_version": "1.2.0",
            "_view_name": "StyleView",
            "description_width": ""
          }
        },
        "68f3bafcea6e4a5490707d5799a6caa6": {
          "model_module": "@jupyter-widgets/base",
          "model_name": "LayoutModel",
          "model_module_version": "1.2.0",
          "state": {
            "_model_module": "@jupyter-widgets/base",
            "_model_module_version": "1.2.0",
            "_model_name": "LayoutModel",
            "_view_count": null,
            "_view_module": "@jupyter-widgets/base",
            "_view_module_version": "1.2.0",
            "_view_name": "LayoutView",
            "align_content": null,
            "align_items": null,
            "align_self": null,
            "border": null,
            "bottom": null,
            "display": null,
            "flex": null,
            "flex_flow": null,
            "grid_area": null,
            "grid_auto_columns": null,
            "grid_auto_flow": null,
            "grid_auto_rows": null,
            "grid_column": null,
            "grid_gap": null,
            "grid_row": null,
            "grid_template_areas": null,
            "grid_template_columns": null,
            "grid_template_rows": null,
            "height": null,
            "justify_content": null,
            "justify_items": null,
            "left": null,
            "margin": null,
            "max_height": null,
            "max_width": null,
            "min_height": null,
            "min_width": null,
            "object_fit": null,
            "object_position": null,
            "order": null,
            "overflow": null,
            "overflow_x": null,
            "overflow_y": null,
            "padding": null,
            "right": null,
            "top": null,
            "visibility": null,
            "width": null
          }
        },
        "079d1911ad2341728c8927048a32c3ba": {
          "model_module": "@jupyter-widgets/controls",
          "model_name": "ProgressStyleModel",
          "model_module_version": "1.5.0",
          "state": {
            "_model_module": "@jupyter-widgets/controls",
            "_model_module_version": "1.5.0",
            "_model_name": "ProgressStyleModel",
            "_view_count": null,
            "_view_module": "@jupyter-widgets/base",
            "_view_module_version": "1.2.0",
            "_view_name": "StyleView",
            "bar_color": null,
            "description_width": ""
          }
        },
        "e6bd7d41956c40c2a76658f24d520a2b": {
          "model_module": "@jupyter-widgets/base",
          "model_name": "LayoutModel",
          "model_module_version": "1.2.0",
          "state": {
            "_model_module": "@jupyter-widgets/base",
            "_model_module_version": "1.2.0",
            "_model_name": "LayoutModel",
            "_view_count": null,
            "_view_module": "@jupyter-widgets/base",
            "_view_module_version": "1.2.0",
            "_view_name": "LayoutView",
            "align_content": null,
            "align_items": null,
            "align_self": null,
            "border": null,
            "bottom": null,
            "display": null,
            "flex": null,
            "flex_flow": null,
            "grid_area": null,
            "grid_auto_columns": null,
            "grid_auto_flow": null,
            "grid_auto_rows": null,
            "grid_column": null,
            "grid_gap": null,
            "grid_row": null,
            "grid_template_areas": null,
            "grid_template_columns": null,
            "grid_template_rows": null,
            "height": null,
            "justify_content": null,
            "justify_items": null,
            "left": null,
            "margin": null,
            "max_height": null,
            "max_width": null,
            "min_height": null,
            "min_width": null,
            "object_fit": null,
            "object_position": null,
            "order": null,
            "overflow": null,
            "overflow_x": null,
            "overflow_y": null,
            "padding": null,
            "right": null,
            "top": null,
            "visibility": null,
            "width": null
          }
        },
        "ed702093c8f14182a3a9314c6aef2aa4": {
          "model_module": "@jupyter-widgets/controls",
          "model_name": "DescriptionStyleModel",
          "model_module_version": "1.5.0",
          "state": {
            "_model_module": "@jupyter-widgets/controls",
            "_model_module_version": "1.5.0",
            "_model_name": "DescriptionStyleModel",
            "_view_count": null,
            "_view_module": "@jupyter-widgets/base",
            "_view_module_version": "1.2.0",
            "_view_name": "StyleView",
            "description_width": ""
          }
        },
        "6b0f4cc954cd48d594137d03934a7adb": {
          "model_module": "@jupyter-widgets/controls",
          "model_name": "HBoxModel",
          "model_module_version": "1.5.0",
          "state": {
            "_dom_classes": [],
            "_model_module": "@jupyter-widgets/controls",
            "_model_module_version": "1.5.0",
            "_model_name": "HBoxModel",
            "_view_count": null,
            "_view_module": "@jupyter-widgets/controls",
            "_view_module_version": "1.5.0",
            "_view_name": "HBoxView",
            "box_style": "",
            "children": [
              "IPY_MODEL_1f598f9702eb4ec2b8205e21aea28c0d",
              "IPY_MODEL_22dd7733fb6c4ae2ba29a9e4f883a892",
              "IPY_MODEL_0e296e62e68740ce82e448ba5f0633bd"
            ],
            "layout": "IPY_MODEL_cc28aec6366047f8a9d5594db0c76ed0"
          }
        },
        "1f598f9702eb4ec2b8205e21aea28c0d": {
          "model_module": "@jupyter-widgets/controls",
          "model_name": "HTMLModel",
          "model_module_version": "1.5.0",
          "state": {
            "_dom_classes": [],
            "_model_module": "@jupyter-widgets/controls",
            "_model_module_version": "1.5.0",
            "_model_name": "HTMLModel",
            "_view_count": null,
            "_view_module": "@jupyter-widgets/controls",
            "_view_module_version": "1.5.0",
            "_view_name": "HTMLView",
            "description": "",
            "description_tooltip": null,
            "layout": "IPY_MODEL_14811c541f744fd49dda02d372ab5e0b",
            "placeholder": "​",
            "style": "IPY_MODEL_1506b4e32b484768b7fbcae1ea6811fd",
            "value": "Downloading: 100%"
          }
        },
        "22dd7733fb6c4ae2ba29a9e4f883a892": {
          "model_module": "@jupyter-widgets/controls",
          "model_name": "FloatProgressModel",
          "model_module_version": "1.5.0",
          "state": {
            "_dom_classes": [],
            "_model_module": "@jupyter-widgets/controls",
            "_model_module_version": "1.5.0",
            "_model_name": "FloatProgressModel",
            "_view_count": null,
            "_view_module": "@jupyter-widgets/controls",
            "_view_module_version": "1.5.0",
            "_view_name": "ProgressView",
            "bar_style": "success",
            "description": "",
            "description_tooltip": null,
            "layout": "IPY_MODEL_18984adf234d40feb8eb80857f59bfeb",
            "max": 440473133,
            "min": 0,
            "orientation": "horizontal",
            "style": "IPY_MODEL_6d84207633b640afa5a02671d4dfe4d3",
            "value": 440473133
          }
        },
        "0e296e62e68740ce82e448ba5f0633bd": {
          "model_module": "@jupyter-widgets/controls",
          "model_name": "HTMLModel",
          "model_module_version": "1.5.0",
          "state": {
            "_dom_classes": [],
            "_model_module": "@jupyter-widgets/controls",
            "_model_module_version": "1.5.0",
            "_model_name": "HTMLModel",
            "_view_count": null,
            "_view_module": "@jupyter-widgets/controls",
            "_view_module_version": "1.5.0",
            "_view_name": "HTMLView",
            "description": "",
            "description_tooltip": null,
            "layout": "IPY_MODEL_66616055d4ee4e46b290a9d6f2240821",
            "placeholder": "​",
            "style": "IPY_MODEL_25d1ad63452c443f9e3d45dcba325d9b",
            "value": " 440M/440M [00:06&lt;00:00, 79.0MB/s]"
          }
        },
        "cc28aec6366047f8a9d5594db0c76ed0": {
          "model_module": "@jupyter-widgets/base",
          "model_name": "LayoutModel",
          "model_module_version": "1.2.0",
          "state": {
            "_model_module": "@jupyter-widgets/base",
            "_model_module_version": "1.2.0",
            "_model_name": "LayoutModel",
            "_view_count": null,
            "_view_module": "@jupyter-widgets/base",
            "_view_module_version": "1.2.0",
            "_view_name": "LayoutView",
            "align_content": null,
            "align_items": null,
            "align_self": null,
            "border": null,
            "bottom": null,
            "display": null,
            "flex": null,
            "flex_flow": null,
            "grid_area": null,
            "grid_auto_columns": null,
            "grid_auto_flow": null,
            "grid_auto_rows": null,
            "grid_column": null,
            "grid_gap": null,
            "grid_row": null,
            "grid_template_areas": null,
            "grid_template_columns": null,
            "grid_template_rows": null,
            "height": null,
            "justify_content": null,
            "justify_items": null,
            "left": null,
            "margin": null,
            "max_height": null,
            "max_width": null,
            "min_height": null,
            "min_width": null,
            "object_fit": null,
            "object_position": null,
            "order": null,
            "overflow": null,
            "overflow_x": null,
            "overflow_y": null,
            "padding": null,
            "right": null,
            "top": null,
            "visibility": null,
            "width": null
          }
        },
        "14811c541f744fd49dda02d372ab5e0b": {
          "model_module": "@jupyter-widgets/base",
          "model_name": "LayoutModel",
          "model_module_version": "1.2.0",
          "state": {
            "_model_module": "@jupyter-widgets/base",
            "_model_module_version": "1.2.0",
            "_model_name": "LayoutModel",
            "_view_count": null,
            "_view_module": "@jupyter-widgets/base",
            "_view_module_version": "1.2.0",
            "_view_name": "LayoutView",
            "align_content": null,
            "align_items": null,
            "align_self": null,
            "border": null,
            "bottom": null,
            "display": null,
            "flex": null,
            "flex_flow": null,
            "grid_area": null,
            "grid_auto_columns": null,
            "grid_auto_flow": null,
            "grid_auto_rows": null,
            "grid_column": null,
            "grid_gap": null,
            "grid_row": null,
            "grid_template_areas": null,
            "grid_template_columns": null,
            "grid_template_rows": null,
            "height": null,
            "justify_content": null,
            "justify_items": null,
            "left": null,
            "margin": null,
            "max_height": null,
            "max_width": null,
            "min_height": null,
            "min_width": null,
            "object_fit": null,
            "object_position": null,
            "order": null,
            "overflow": null,
            "overflow_x": null,
            "overflow_y": null,
            "padding": null,
            "right": null,
            "top": null,
            "visibility": null,
            "width": null
          }
        },
        "1506b4e32b484768b7fbcae1ea6811fd": {
          "model_module": "@jupyter-widgets/controls",
          "model_name": "DescriptionStyleModel",
          "model_module_version": "1.5.0",
          "state": {
            "_model_module": "@jupyter-widgets/controls",
            "_model_module_version": "1.5.0",
            "_model_name": "DescriptionStyleModel",
            "_view_count": null,
            "_view_module": "@jupyter-widgets/base",
            "_view_module_version": "1.2.0",
            "_view_name": "StyleView",
            "description_width": ""
          }
        },
        "18984adf234d40feb8eb80857f59bfeb": {
          "model_module": "@jupyter-widgets/base",
          "model_name": "LayoutModel",
          "model_module_version": "1.2.0",
          "state": {
            "_model_module": "@jupyter-widgets/base",
            "_model_module_version": "1.2.0",
            "_model_name": "LayoutModel",
            "_view_count": null,
            "_view_module": "@jupyter-widgets/base",
            "_view_module_version": "1.2.0",
            "_view_name": "LayoutView",
            "align_content": null,
            "align_items": null,
            "align_self": null,
            "border": null,
            "bottom": null,
            "display": null,
            "flex": null,
            "flex_flow": null,
            "grid_area": null,
            "grid_auto_columns": null,
            "grid_auto_flow": null,
            "grid_auto_rows": null,
            "grid_column": null,
            "grid_gap": null,
            "grid_row": null,
            "grid_template_areas": null,
            "grid_template_columns": null,
            "grid_template_rows": null,
            "height": null,
            "justify_content": null,
            "justify_items": null,
            "left": null,
            "margin": null,
            "max_height": null,
            "max_width": null,
            "min_height": null,
            "min_width": null,
            "object_fit": null,
            "object_position": null,
            "order": null,
            "overflow": null,
            "overflow_x": null,
            "overflow_y": null,
            "padding": null,
            "right": null,
            "top": null,
            "visibility": null,
            "width": null
          }
        },
        "6d84207633b640afa5a02671d4dfe4d3": {
          "model_module": "@jupyter-widgets/controls",
          "model_name": "ProgressStyleModel",
          "model_module_version": "1.5.0",
          "state": {
            "_model_module": "@jupyter-widgets/controls",
            "_model_module_version": "1.5.0",
            "_model_name": "ProgressStyleModel",
            "_view_count": null,
            "_view_module": "@jupyter-widgets/base",
            "_view_module_version": "1.2.0",
            "_view_name": "StyleView",
            "bar_color": null,
            "description_width": ""
          }
        },
        "66616055d4ee4e46b290a9d6f2240821": {
          "model_module": "@jupyter-widgets/base",
          "model_name": "LayoutModel",
          "model_module_version": "1.2.0",
          "state": {
            "_model_module": "@jupyter-widgets/base",
            "_model_module_version": "1.2.0",
            "_model_name": "LayoutModel",
            "_view_count": null,
            "_view_module": "@jupyter-widgets/base",
            "_view_module_version": "1.2.0",
            "_view_name": "LayoutView",
            "align_content": null,
            "align_items": null,
            "align_self": null,
            "border": null,
            "bottom": null,
            "display": null,
            "flex": null,
            "flex_flow": null,
            "grid_area": null,
            "grid_auto_columns": null,
            "grid_auto_flow": null,
            "grid_auto_rows": null,
            "grid_column": null,
            "grid_gap": null,
            "grid_row": null,
            "grid_template_areas": null,
            "grid_template_columns": null,
            "grid_template_rows": null,
            "height": null,
            "justify_content": null,
            "justify_items": null,
            "left": null,
            "margin": null,
            "max_height": null,
            "max_width": null,
            "min_height": null,
            "min_width": null,
            "object_fit": null,
            "object_position": null,
            "order": null,
            "overflow": null,
            "overflow_x": null,
            "overflow_y": null,
            "padding": null,
            "right": null,
            "top": null,
            "visibility": null,
            "width": null
          }
        },
        "25d1ad63452c443f9e3d45dcba325d9b": {
          "model_module": "@jupyter-widgets/controls",
          "model_name": "DescriptionStyleModel",
          "model_module_version": "1.5.0",
          "state": {
            "_model_module": "@jupyter-widgets/controls",
            "_model_module_version": "1.5.0",
            "_model_name": "DescriptionStyleModel",
            "_view_count": null,
            "_view_module": "@jupyter-widgets/base",
            "_view_module_version": "1.2.0",
            "_view_name": "StyleView",
            "description_width": ""
          }
        }
      }
    }
  },
  "nbformat": 4,
  "nbformat_minor": 5
}